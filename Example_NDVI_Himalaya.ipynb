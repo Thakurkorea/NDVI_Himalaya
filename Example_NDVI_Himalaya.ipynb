{
  "cells": [
    {
      "cell_type": "markdown",
      "metadata": {
        "id": "fY4VmS6c2SVt"
      },
      "source": [
        "## Introduction of GEE and NDVI for AOE\n",
        "#TD"
      ]
    },
    {
      "cell_type": "markdown",
      "metadata": {
        "id": "2P7KjHAU2SVv"
      },
      "source": [
        "## Setting your toolbox"
      ]
    },
    {
      "cell_type": "code",
      "execution_count": 1,
      "metadata": {
        "id": "BFvPOSN02SVv"
      },
      "outputs": [],
      "source": [
        "# !pip install earthengine-api\n",
        "# !pip install folium \n",
        "# !pip install geehydro\n",
        "# !pip install proplot\n",
        "# !pip install ipygee"
      ]
    },
    {
      "cell_type": "code",
      "execution_count": 92,
      "metadata": {
        "id": "_wAXIbQw2SVx"
      },
      "outputs": [],
      "source": [
        "import ee \n",
        "import folium\n",
        "import geehydro\n",
        "import xarray as xr\n",
        "\n",
        "from datetime import datetime as dt\n",
        "from IPython.display import Image\n",
        "import pandas as pd\n",
        "#import proplot as plot \n",
        "import matplotlib.pyplot as plt \n",
        "\n",
        "from ipygee import *\n",
        "from pandas.plotting import register_matplotlib_converters\n",
        "import branca.colormap as cm\n",
        "import folium.plugins \n",
        "import branca\n",
        "from folium.plugins import * "
      ]
    },
    {
      "cell_type": "markdown",
      "metadata": {
        "id": "TM5TpHKF2SVx"
      },
      "source": [
        "## Initialize the connection to the server"
      ]
    },
    {
      "cell_type": "code",
      "execution_count": 3,
      "metadata": {
        "id": "8rGMxZRQ2SVx"
      },
      "outputs": [],
      "source": [
        "# ee.Authenticate()\n",
        "ee.Initialize()"
      ]
    },
    {
      "cell_type": "markdown",
      "metadata": {
        "id": "xgPDk0F-2SVx"
      },
      "source": [
        "## Select a region in the world"
      ]
    },
    {
      "cell_type": "code",
      "execution_count": null,
      "metadata": {
        "scrolled": true,
        "id": "vu6pSEfm2SVx"
      },
      "outputs": [],
      "source": [
        "# the Korea Seoul .\n",
        "Himalaya_map = folium.Map(location=[28.219812566703645,85.59529116364365,], zoom_start=10,tiles=\"Stamen Terrain\")\n",
        "Himalaya_map"
      ]
    },
    {
      "cell_type": "markdown",
      "metadata": {
        "id": "roWLCBk02SV2"
      },
      "source": [
        "## Setting the Area of Interest (AOI)"
      ]
    },
    {
      "cell_type": "code",
      "execution_count": 100,
      "metadata": {
        "id": "eQVPqBuD2SV2",
        "colab": {
          "base_uri": "https://localhost:8080/",
          "height": 1000
        },
        "outputId": "46866e70-d78f-4d03-a469-6e5edb39e893"
      },
      "outputs": [
        {
          "output_type": "execute_result",
          "data": {
            "text/plain": [
              "<folium.folium.Map at 0x7f48ce2d4a90>"
            ],
            "text/html": [
              "<div style=\"width:100%;\"><div style=\"position:relative;width:100%;height:0;padding-bottom:60%;\"><span style=\"color:#565656\">Make this Notebook Trusted to load map: File -> Trust Notebook</span><iframe srcdoc=\"&lt;!DOCTYPE html&gt;\n",
              "&lt;html&gt;\n",
              "&lt;head&gt;\n",
              "    \n",
              "    &lt;meta http-equiv=&quot;content-type&quot; content=&quot;text/html; charset=UTF-8&quot; /&gt;\n",
              "    \n",
              "        &lt;script&gt;\n",
              "            L_NO_TOUCH = false;\n",
              "            L_DISABLE_3D = false;\n",
              "        &lt;/script&gt;\n",
              "    \n",
              "    &lt;style&gt;html, body {width: 100%;height: 100%;margin: 0;padding: 0;}&lt;/style&gt;\n",
              "    &lt;style&gt;#map {position:absolute;top:0;bottom:0;right:0;left:0;}&lt;/style&gt;\n",
              "    &lt;script src=&quot;https://cdn.jsdelivr.net/npm/leaflet@1.9.3/dist/leaflet.js&quot;&gt;&lt;/script&gt;\n",
              "    &lt;script src=&quot;https://code.jquery.com/jquery-1.12.4.min.js&quot;&gt;&lt;/script&gt;\n",
              "    &lt;script src=&quot;https://cdn.jsdelivr.net/npm/bootstrap@5.2.2/dist/js/bootstrap.bundle.min.js&quot;&gt;&lt;/script&gt;\n",
              "    &lt;script src=&quot;https://cdnjs.cloudflare.com/ajax/libs/Leaflet.awesome-markers/2.0.2/leaflet.awesome-markers.js&quot;&gt;&lt;/script&gt;\n",
              "    &lt;link rel=&quot;stylesheet&quot; href=&quot;https://cdn.jsdelivr.net/npm/leaflet@1.9.3/dist/leaflet.css&quot;/&gt;\n",
              "    &lt;link rel=&quot;stylesheet&quot; href=&quot;https://cdn.jsdelivr.net/npm/bootstrap@5.2.2/dist/css/bootstrap.min.css&quot;/&gt;\n",
              "    &lt;link rel=&quot;stylesheet&quot; href=&quot;https://netdna.bootstrapcdn.com/bootstrap/3.0.0/css/bootstrap.min.css&quot;/&gt;\n",
              "    &lt;link rel=&quot;stylesheet&quot; href=&quot;https://cdn.jsdelivr.net/npm/@fortawesome/fontawesome-free@6.2.0/css/all.min.css&quot;/&gt;\n",
              "    &lt;link rel=&quot;stylesheet&quot; href=&quot;https://cdnjs.cloudflare.com/ajax/libs/Leaflet.awesome-markers/2.0.2/leaflet.awesome-markers.css&quot;/&gt;\n",
              "    &lt;link rel=&quot;stylesheet&quot; href=&quot;https://cdn.jsdelivr.net/gh/python-visualization/folium/folium/templates/leaflet.awesome.rotate.min.css&quot;/&gt;\n",
              "    \n",
              "            &lt;meta name=&quot;viewport&quot; content=&quot;width=device-width,\n",
              "                initial-scale=1.0, maximum-scale=1.0, user-scalable=no&quot; /&gt;\n",
              "            &lt;style&gt;\n",
              "                #map_fa5d28ce0af7268bb5abbb046cc146dc {\n",
              "                    position: relative;\n",
              "                    width: 100.0%;\n",
              "                    height: 100.0%;\n",
              "                    left: 0.0%;\n",
              "                    top: 0.0%;\n",
              "                }\n",
              "                .leaflet-container { font-size: 1rem; }\n",
              "            &lt;/style&gt;\n",
              "        \n",
              "&lt;/head&gt;\n",
              "&lt;body&gt;\n",
              "    \n",
              "    \n",
              "            &lt;div class=&quot;folium-map&quot; id=&quot;map_fa5d28ce0af7268bb5abbb046cc146dc&quot; &gt;&lt;/div&gt;\n",
              "        \n",
              "&lt;/body&gt;\n",
              "&lt;script&gt;\n",
              "    \n",
              "    \n",
              "            var map_fa5d28ce0af7268bb5abbb046cc146dc = L.map(\n",
              "                &quot;map_fa5d28ce0af7268bb5abbb046cc146dc&quot;,\n",
              "                {\n",
              "                    center: [28.219812566703645, 85.59529116364365],\n",
              "                    crs: L.CRS.EPSG3857,\n",
              "                    zoom: 10,\n",
              "                    zoomControl: true,\n",
              "                    preferCanvas: false,\n",
              "                }\n",
              "            );\n",
              "\n",
              "            \n",
              "\n",
              "        \n",
              "    \n",
              "            var tile_layer_c9c57d13361672105ff8a336fdc3d17c = L.tileLayer(\n",
              "                &quot;https://stamen-tiles-{s}.a.ssl.fastly.net/terrain/{z}/{x}/{y}.jpg&quot;,\n",
              "                {&quot;attribution&quot;: &quot;Map tiles by \\u003ca target=\\&quot;_blank\\&quot; href=\\&quot;http://stamen.com\\&quot;\\u003eStamen Design\\u003c/a\\u003e, under \\u003ca target=\\&quot;_blank\\&quot; href=\\&quot;http://creativecommons.org/licenses/by/3.0\\&quot;\\u003eCC BY 3.0\\u003c/a\\u003e. Data by \\u0026copy; \\u003ca target=\\&quot;_blank\\&quot; href=\\&quot;http://openstreetmap.org\\&quot;\\u003eOpenStreetMap\\u003c/a\\u003e, under \\u003ca target=\\&quot;_blank\\&quot; href=\\&quot;http://creativecommons.org/licenses/by-sa/3.0\\&quot;\\u003eCC BY SA\\u003c/a\\u003e.&quot;, &quot;detectRetina&quot;: false, &quot;maxNativeZoom&quot;: 18, &quot;maxZoom&quot;: 18, &quot;minZoom&quot;: 0, &quot;noWrap&quot;: false, &quot;opacity&quot;: 1, &quot;subdomains&quot;: &quot;abc&quot;, &quot;tms&quot;: false}\n",
              "            ).addTo(map_fa5d28ce0af7268bb5abbb046cc146dc);\n",
              "        \n",
              "    \n",
              "            var tile_layer_74ef0c438b89ffccb896c6db516ef505 = L.tileLayer(\n",
              "                &quot;https://earthengine.googleapis.com/v1alpha/projects/earthengine-legacy/maps/ecd47727440a9e130f3e71c31df07dc9-0a742085faa474006e4163edc96fcc2a/tiles/{z}/{x}/{y}&quot;,\n",
              "                {&quot;attribution&quot;: &quot;Google Earth Engine&quot;, &quot;detectRetina&quot;: false, &quot;maxNativeZoom&quot;: 18, &quot;maxZoom&quot;: 18, &quot;minZoom&quot;: 0, &quot;noWrap&quot;: false, &quot;opacity&quot;: 1, &quot;subdomains&quot;: &quot;abc&quot;, &quot;tms&quot;: false}\n",
              "            ).addTo(map_fa5d28ce0af7268bb5abbb046cc146dc);\n",
              "        \n",
              "&lt;/script&gt;\n",
              "&lt;/html&gt;\" style=\"position:absolute;width:100%;height:100%;left:0;top:0;border:none !important;\" allowfullscreen webkitallowfullscreen mozallowfullscreen></iframe></div></div>"
            ]
          },
          "metadata": {},
          "execution_count": 100
        }
      ],
      "source": [
        "# Himalaya_AOI = ee.Geometry.Rectangle([126.5,37.0,\n",
        "#                                    127.5,37.9])   #xlo\", \"ylo\", \"xhi\" and \"yhi\" \n",
        "# # Seoul_AOI = ee.Geometry.Point([126.9780,37.5665]).buffer(20000)\n",
        "# # help(ee.Geometry.Rectangle)\n",
        "Himalaya_AOI = ee.Geometry.Polygon([[70.37980734782377,34.20014926719452],\n",
        "[70.86320578532377,34.20014926719452],\n",
        " [72.40129172282377,34.05463899658766],\n",
        " [73.41203391032377,33.360057261802915],\n",
        " [74.95011984782377,32.326294617152875],\n",
        " [76.66398703532377,31.205448585010295],\n",
        " [78.24601828532377,30.071161703174734],\n",
        " [79.82804953532377,29.307644833926915],\n",
        " [81.45402609782377,28.306484308226114],\n",
        " [83.65129172282377,27.607788110834946],\n",
        " [87.47453391032377,27.178594650769533],\n",
        " [88.48527609782377,26.982957823282142],\n",
        " [91.95695578532377,26.826202971177672],\n",
        " [96.08781516032377,28.267786780126247],\n",
        " [96.08781516032377,29.000621559555128],\n",
        " [95.29679953532377,29.728297185240383],\n",
        " [94.15422141032377,29.192618684440546],\n",
        " [92.74797141032377,28.15160989157106],\n",
        " [91.42961203532377,28.074088505068868],\n",
        " [89.36418234782377,27.99651113483418],\n",
        " [86.90324484782377,28.34516776469134],\n",
        " [84.00285422282377,29.115862806544595],\n",
        " [79.08097922282377,31.318142578838632],\n",
        " [76.40031516032377,33.24987411988282],\n",
        "[75.30168234782377,34.56282699752331],\n",
        " [73.76359641032377,35.13983300015285],\n",
        " [72.04972922282377,35.748451422480656],\n",
        " [70.46769797282377,35.85537617379362],\n",
        " [69.85246359782377,34.30911746948516],\n",
        " [70.37980734782377,34.20014926719452]],   \n",
        "\n",
        ")\n",
        "Himalaya_map.addLayer(Himalaya_AOI)\n",
        "Himalaya_map\n"
      ]
    },
    {
      "cell_type": "markdown",
      "metadata": {
        "id": "rxROYzfg2SV2"
      },
      "source": [
        "## The Landsat 8 Collection"
      ]
    },
    {
      "cell_type": "code",
      "source": [
        "### Landset NDVI bands"
      ],
      "metadata": {
        "id": "YgD_CNaCY5fs"
      },
      "execution_count": 6,
      "outputs": []
    },
    {
      "cell_type": "code",
      "source": [
        "# NDVIL = ee.ImageCollection('MODIS/006/MOD13Q1').filterDate(ee.DateRange('2016-01-01',\n",
        "#                                                                         '2019-12-01'))\n",
        "NDVIL = ee.ImageCollection(\"LANDSAT/LC08/C01/T1_32DAY_NDVI\").filterDate(ee.DateRange('2013-04-07',\n",
        "                                                                        '2022-01-01'))\n",
        "ndvi = NDVIL.select('NDVI')\n"
      ],
      "metadata": {
        "id": "3bkHYbcBY6dc"
      },
      "execution_count": 7,
      "outputs": []
    },
    {
      "cell_type": "code",
      "execution_count": 8,
      "metadata": {
        "id": "Irpqf4j-2SV2"
      },
      "outputs": [],
      "source": [
        "# landsat = ee.ImageCollection(\"LANDSAT/LC08/C01/T1_SR\")\n",
        "# # choose dates\n",
        "# landsat = landsat.filterDate('2019-07-01','2019-12-01')\n",
        "# # filter area\n",
        "# landsat_AOI = landsat.filterBounds(Seoul_AOI)\n"
      ]
    },
    {
      "cell_type": "code",
      "source": [
        "landsat_AOI = ndvi.filterBounds(Himalaya_AOI)\n",
        "aa=landsat_AOI.reduce(ee.Reducer.median())\n",
        "aa.getInfo()\n"
      ],
      "metadata": {
        "id": "oyAoh2UsieiU"
      },
      "execution_count": null,
      "outputs": []
    },
    {
      "cell_type": "markdown",
      "source": [
        "Exporting map with extent"
      ],
      "metadata": {
        "id": "E33YZ-SVfVAm"
      }
    },
    {
      "cell_type": "code",
      "source": [
        "# the best wat to downlaod tiff file of AOI regiion \n",
        "import requests\n",
        "import ee\n",
        "\n",
        "# img = ee.Image('COPERNICUS/S2_SR/20210109T185751_20210109T185931_T10SEG')\n",
        "# region = ee.Geometry.BBox(-122.0859, 37.0436, -122.0626, 37.0586)\n",
        "\n",
        "# Multi-band GeoTIFF file.\n",
        "url = aa.getDownloadUrl({\n",
        "    # 'bands': ['B3', 'B8', 'B11'],\n",
        "    'region': Himalaya_AOI,\n",
        "    'scale': 2000,\n",
        "    'format': 'GEO_TIFF'\n",
        "})\n",
        "response = requests.get(url)\n",
        "with open('multi_band_median.tif', 'wb') as fd:\n",
        "  fd.write(response.content)"
      ],
      "metadata": {
        "id": "EPB1mZr7XDDU"
      },
      "execution_count": 10,
      "outputs": []
    },
    {
      "cell_type": "code",
      "source": [
        "# pip install geemap"
      ],
      "metadata": {
        "id": "WIX6Vh2RMMaj"
      },
      "execution_count": 11,
      "outputs": []
    },
    {
      "cell_type": "code",
      "source": [
        "# # Load Landsat 8 image collection Different bands \n",
        "import geemap\n",
        "import time\n",
        "aoi=Himalaya_AOI\n",
        "collection = ee.ImageCollection('LANDSAT/LC08/C01/T1_TOA') \\\n",
        "    .filterBounds(aoi) \\\n",
        "    .filterDate('2019-01-01', '2019-12-31') \\\n",
        "    .sort('CLOUD_COVER')\n",
        "\n",
        "# Clip the image collection to the AOI\n",
        "collection = collection.map(lambda image: image.clip(aoi))\n",
        "\n",
        "# Plot the image collection\n",
        "Map = geemap.Map()\n",
        "Map.centerObject(aoi, zoom=12)\n",
        "Map.addLayer(collection.median(), {'bands': ['B4', 'B3', 'B2'], 'min': 0, 'max': 0.3}, 'Landsat 8')\n",
        "Map.addLayer(aoi, {'color': 'green'}, 'AOI')\n",
        "Map.addLayerControl()\n",
        "Map\n"
      ],
      "metadata": {
        "colab": {
          "base_uri": "https://localhost:8080/",
          "height": 621,
          "referenced_widgets": [
            "7efb593997a14ce89bfc3bc3319d9473",
            "497b7d352e5641e1a99502a604bf5e6c",
            "f8287e685ad545ea89c4939a8e3260c6",
            "8fe40ce2e6d44390a186f44b5127bc34",
            "323972b4f5e1444c8a3ba4581edec47e",
            "fea05f0dc24347b8ab572c7429f6bfc6",
            "b963b3f725a84466a04cc50cccc490ed",
            "6ed894d38773494383004acac83c7a5b",
            "464f93a1b437443fb1393ae9a9167263",
            "e61b66f52d824b64815aaa5c1d1702a5",
            "33362fc3d6bd475fbcd9fe6315a8c8cb",
            "9918334edc8242feb2beefa8eea5c6f5",
            "9c2296e42a4c46b388267d6c66f83dff",
            "cfd3c7f154a94574815eba229c58c992",
            "ccae712731564cc983e6210976114582",
            "553c476be53245a482b7d554201a487f",
            "80ae8e61b376463ab83c60af3983c2a1",
            "fe83fd9fffee40aa8610d6b5b7125934",
            "22629cf1733049919c8d70c311797941",
            "783d498c62404831b1ee2f0e8a0f012e",
            "e58e17c3a3a344179f5ce9e2847567a4",
            "2cd3ed4662ef4ec282738a2aecf163d8",
            "90306aece52d4c16919db299c6f62824",
            "091bb00546934fa9a47f0578f4ec08d5",
            "cf11be4763f842cd978a995409dac5cc",
            "a9faf191d6a146ddaeab69f8e72c585e",
            "61d89301e1294da0aeb1618ce23412fd",
            "8caf3236dbfe462da4e7f19e8e3acde8"
          ]
        },
        "id": "st7xcRkpLzj9",
        "outputId": "d43da6f7-ef20-4eeb-fae6-9f533a18afd1"
      },
      "execution_count": 12,
      "outputs": [
        {
          "output_type": "display_data",
          "data": {
            "text/plain": [
              "Map(center=[30.591255714068318, 82.2792850527308], controls=(WidgetControl(options=['position', 'transparent_b…"
            ],
            "application/vnd.jupyter.widget-view+json": {
              "version_major": 2,
              "version_minor": 0,
              "model_id": "7efb593997a14ce89bfc3bc3319d9473"
            }
          },
          "metadata": {
            "application/vnd.jupyter.widget-view+json": {
              "colab": {
                "custom_widget_manager": {
                  "url": "https://ssl.gstatic.com/colaboratory-static/widgets/colab-cdn-widget-manager/b3e629b1971e1542/manager.min.js"
                }
              }
            }
          }
        }
      ]
    },
    {
      "cell_type": "code",
      "source": [
        "from google.colab import drive\n",
        "drive.mount('/content/drive')"
      ],
      "metadata": {
        "colab": {
          "base_uri": "https://localhost:8080/"
        },
        "id": "ZcTw0zUTdAtE",
        "outputId": "21210bc4-fb5f-4a7e-81f4-398d32b9d9dc"
      },
      "execution_count": 13,
      "outputs": [
        {
          "output_type": "stream",
          "name": "stdout",
          "text": [
            "Drive already mounted at /content/drive; to attempt to forcibly remount, call drive.mount(\"/content/drive\", force_remount=True).\n"
          ]
        }
      ]
    },
    {
      "cell_type": "code",
      "source": [
        "# from google.colab import files\n",
        "# import time\n",
        "# image=aa\n",
        "\n",
        "# export_params = {\n",
        "#   'image': image,\n",
        "#   'description': 'image_to_drive_example',\n",
        "#   'folder': 'GEE_exports',\n",
        "#   'scale': 30,\n",
        "#   'region': image.geometry().bounds(),\n",
        "#   'fileFormat': 'GeoTIFF'\n",
        "# }\n",
        "\n",
        "# # Create the export task\n",
        "# task = ee.batch.Export.image.toDrive(**export_params)\n",
        "\n",
        "# task.start()\n",
        "\n",
        "# # Wait for the export task to complete\n",
        "# while task.status()['state'] in ['READY', 'RUNNING']:\n",
        "#     print('Export task is', task.status()['state'].lower())\n",
        "#     time.sleep(10)\n",
        "\n",
        "# # Check if the export task completed successfully\n",
        "# if task.status()['state'] == 'COMPLETED':\n",
        "#     print('Export task completed successfully!')\n",
        "# else:\n",
        "#     print('Export task failed or was cancelled.')\n",
        "# # files.download('/content/drive/My Drive/GEE_outputs/mean_image.tif')"
      ],
      "metadata": {
        "id": "_5zXwh1Sb2-2"
      },
      "execution_count": 14,
      "outputs": []
    },
    {
      "cell_type": "code",
      "source": [
        "#scaling image\n",
        "def scale_factor(image):\n",
        "  # scale factor for the MODIS MOD13Q1 product\n",
        "  return image.multiply(1).copyProperties(image, ['system:time_start'])"
      ],
      "metadata": {
        "id": "jFX5GpFoN5Zx"
      },
      "execution_count": 15,
      "outputs": []
    },
    {
      "cell_type": "code",
      "source": [
        "# mapping function to multiply by the scale factor and number of layers \n",
        "scaled_ndvi = ndvi.map(scale_factor)\n",
        "scaled_ndvi.size().getInfo()\n",
        "# ndvi.size().getInfo()"
      ],
      "metadata": {
        "colab": {
          "base_uri": "https://localhost:8080/"
        },
        "id": "3-Y7xSrsi80s",
        "outputId": "7595abd6-4f76-4947-fb1f-2f83047db0cf"
      },
      "execution_count": 16,
      "outputs": [
        {
          "output_type": "execute_result",
          "data": {
            "text/plain": [
              "105"
            ]
          },
          "metadata": {},
          "execution_count": 16
        }
      ]
    },
    {
      "cell_type": "code",
      "source": [
        "# Himalaya MOD13Q1 NDVI time series\n",
        "Himalaya_AOI_ndvi = chart.Image.series(**{'imageCollection': scaled_ndvi,     # can chagne 'scaled_ndvi'\n",
        "                                   'region': Himalaya_AOI,\n",
        "                                   'reducer': ee.Reducer.mean(),\n",
        "                                   'scale': 5000,\n",
        "                                   'xProperty': 'system:time_start'\n",
        "                                  })\n",
        "Himalaya_AOI_ndvi.renderWidget(width='50%')"
      ],
      "metadata": {
        "colab": {
          "base_uri": "https://localhost:8080/",
          "height": 670,
          "referenced_widgets": [
            "8edfb842c187414082ad36f20d122c6a",
            "27514049bd1645358209f59c0081ff1e",
            "fd9a32358a274423b0a98a8825a2be9e"
          ]
        },
        "id": "DsYUsiibjx1t",
        "outputId": "232c2df2-92e1-4705-d256-a068e77aa192"
      },
      "execution_count": 17,
      "outputs": [
        {
          "output_type": "display_data",
          "data": {
            "text/plain": [
              "HTML(value='<embed src=data:image/svg+xml;charset=utf-8;base64,PD94bWwgdmVyc2lvbj0nMS4wJyBlbmNvZGluZz0ndXRmLTg…"
            ],
            "application/vnd.jupyter.widget-view+json": {
              "version_major": 2,
              "version_minor": 0,
              "model_id": "8edfb842c187414082ad36f20d122c6a"
            }
          },
          "metadata": {
            "application/vnd.jupyter.widget-view+json": {
              "colab": {
                "custom_widget_manager": {
                  "url": "https://ssl.gstatic.com/colaboratory-static/widgets/colab-cdn-widget-manager/b3e629b1971e1542/manager.min.js"
                }
              }
            }
          }
        }
      ]
    },
    {
      "cell_type": "code",
      "source": [
        "Himalaya_AOI_ndvi.dataframe.to_csv('Himalaya_AOI_ndvi.csv')\n",
        "df=Himalaya_AOI_ndvi.dataframe\n",
        "df"
      ],
      "metadata": {
        "id": "aYZp5E9QJmDm",
        "colab": {
          "base_uri": "https://localhost:8080/",
          "height": 423
        },
        "outputId": "3345c9e1-8aa2-4f36-edb3-cc6da8e9e215"
      },
      "execution_count": 18,
      "outputs": [
        {
          "output_type": "execute_result",
          "data": {
            "text/plain": [
              "                NDVI\n",
              "2013-04-11  0.229505\n",
              "2013-05-13  0.246007\n",
              "2013-06-14  0.199101\n",
              "2013-07-16  0.213923\n",
              "2013-08-17  0.300335\n",
              "...              ...\n",
              "2021-08-13  0.260188\n",
              "2021-09-14  0.328243\n",
              "2021-10-16  0.353388\n",
              "2021-11-17  0.264412\n",
              "2021-12-19  0.248661\n",
              "\n",
              "[105 rows x 1 columns]"
            ],
            "text/html": [
              "\n",
              "  <div id=\"df-d14b3f46-e5c6-45a1-8dc8-4d97edcbb215\">\n",
              "    <div class=\"colab-df-container\">\n",
              "      <div>\n",
              "<style scoped>\n",
              "    .dataframe tbody tr th:only-of-type {\n",
              "        vertical-align: middle;\n",
              "    }\n",
              "\n",
              "    .dataframe tbody tr th {\n",
              "        vertical-align: top;\n",
              "    }\n",
              "\n",
              "    .dataframe thead th {\n",
              "        text-align: right;\n",
              "    }\n",
              "</style>\n",
              "<table border=\"1\" class=\"dataframe\">\n",
              "  <thead>\n",
              "    <tr style=\"text-align: right;\">\n",
              "      <th></th>\n",
              "      <th>NDVI</th>\n",
              "    </tr>\n",
              "  </thead>\n",
              "  <tbody>\n",
              "    <tr>\n",
              "      <th>2013-04-11</th>\n",
              "      <td>0.229505</td>\n",
              "    </tr>\n",
              "    <tr>\n",
              "      <th>2013-05-13</th>\n",
              "      <td>0.246007</td>\n",
              "    </tr>\n",
              "    <tr>\n",
              "      <th>2013-06-14</th>\n",
              "      <td>0.199101</td>\n",
              "    </tr>\n",
              "    <tr>\n",
              "      <th>2013-07-16</th>\n",
              "      <td>0.213923</td>\n",
              "    </tr>\n",
              "    <tr>\n",
              "      <th>2013-08-17</th>\n",
              "      <td>0.300335</td>\n",
              "    </tr>\n",
              "    <tr>\n",
              "      <th>...</th>\n",
              "      <td>...</td>\n",
              "    </tr>\n",
              "    <tr>\n",
              "      <th>2021-08-13</th>\n",
              "      <td>0.260188</td>\n",
              "    </tr>\n",
              "    <tr>\n",
              "      <th>2021-09-14</th>\n",
              "      <td>0.328243</td>\n",
              "    </tr>\n",
              "    <tr>\n",
              "      <th>2021-10-16</th>\n",
              "      <td>0.353388</td>\n",
              "    </tr>\n",
              "    <tr>\n",
              "      <th>2021-11-17</th>\n",
              "      <td>0.264412</td>\n",
              "    </tr>\n",
              "    <tr>\n",
              "      <th>2021-12-19</th>\n",
              "      <td>0.248661</td>\n",
              "    </tr>\n",
              "  </tbody>\n",
              "</table>\n",
              "<p>105 rows × 1 columns</p>\n",
              "</div>\n",
              "      <button class=\"colab-df-convert\" onclick=\"convertToInteractive('df-d14b3f46-e5c6-45a1-8dc8-4d97edcbb215')\"\n",
              "              title=\"Convert this dataframe to an interactive table.\"\n",
              "              style=\"display:none;\">\n",
              "        \n",
              "  <svg xmlns=\"http://www.w3.org/2000/svg\" height=\"24px\"viewBox=\"0 0 24 24\"\n",
              "       width=\"24px\">\n",
              "    <path d=\"M0 0h24v24H0V0z\" fill=\"none\"/>\n",
              "    <path d=\"M18.56 5.44l.94 2.06.94-2.06 2.06-.94-2.06-.94-.94-2.06-.94 2.06-2.06.94zm-11 1L8.5 8.5l.94-2.06 2.06-.94-2.06-.94L8.5 2.5l-.94 2.06-2.06.94zm10 10l.94 2.06.94-2.06 2.06-.94-2.06-.94-.94-2.06-.94 2.06-2.06.94z\"/><path d=\"M17.41 7.96l-1.37-1.37c-.4-.4-.92-.59-1.43-.59-.52 0-1.04.2-1.43.59L10.3 9.45l-7.72 7.72c-.78.78-.78 2.05 0 2.83L4 21.41c.39.39.9.59 1.41.59.51 0 1.02-.2 1.41-.59l7.78-7.78 2.81-2.81c.8-.78.8-2.07 0-2.86zM5.41 20L4 18.59l7.72-7.72 1.47 1.35L5.41 20z\"/>\n",
              "  </svg>\n",
              "      </button>\n",
              "      \n",
              "  <style>\n",
              "    .colab-df-container {\n",
              "      display:flex;\n",
              "      flex-wrap:wrap;\n",
              "      gap: 12px;\n",
              "    }\n",
              "\n",
              "    .colab-df-convert {\n",
              "      background-color: #E8F0FE;\n",
              "      border: none;\n",
              "      border-radius: 50%;\n",
              "      cursor: pointer;\n",
              "      display: none;\n",
              "      fill: #1967D2;\n",
              "      height: 32px;\n",
              "      padding: 0 0 0 0;\n",
              "      width: 32px;\n",
              "    }\n",
              "\n",
              "    .colab-df-convert:hover {\n",
              "      background-color: #E2EBFA;\n",
              "      box-shadow: 0px 1px 2px rgba(60, 64, 67, 0.3), 0px 1px 3px 1px rgba(60, 64, 67, 0.15);\n",
              "      fill: #174EA6;\n",
              "    }\n",
              "\n",
              "    [theme=dark] .colab-df-convert {\n",
              "      background-color: #3B4455;\n",
              "      fill: #D2E3FC;\n",
              "    }\n",
              "\n",
              "    [theme=dark] .colab-df-convert:hover {\n",
              "      background-color: #434B5C;\n",
              "      box-shadow: 0px 1px 3px 1px rgba(0, 0, 0, 0.15);\n",
              "      filter: drop-shadow(0px 1px 2px rgba(0, 0, 0, 0.3));\n",
              "      fill: #FFFFFF;\n",
              "    }\n",
              "  </style>\n",
              "\n",
              "      <script>\n",
              "        const buttonEl =\n",
              "          document.querySelector('#df-d14b3f46-e5c6-45a1-8dc8-4d97edcbb215 button.colab-df-convert');\n",
              "        buttonEl.style.display =\n",
              "          google.colab.kernel.accessAllowed ? 'block' : 'none';\n",
              "\n",
              "        async function convertToInteractive(key) {\n",
              "          const element = document.querySelector('#df-d14b3f46-e5c6-45a1-8dc8-4d97edcbb215');\n",
              "          const dataTable =\n",
              "            await google.colab.kernel.invokeFunction('convertToInteractive',\n",
              "                                                     [key], {});\n",
              "          if (!dataTable) return;\n",
              "\n",
              "          const docLinkHtml = 'Like what you see? Visit the ' +\n",
              "            '<a target=\"_blank\" href=https://colab.research.google.com/notebooks/data_table.ipynb>data table notebook</a>'\n",
              "            + ' to learn more about interactive tables.';\n",
              "          element.innerHTML = '';\n",
              "          dataTable['output_type'] = 'display_data';\n",
              "          await google.colab.output.renderOutput(dataTable, element);\n",
              "          const docLink = document.createElement('div');\n",
              "          docLink.innerHTML = docLinkHtml;\n",
              "          element.appendChild(docLink);\n",
              "        }\n",
              "      </script>\n",
              "    </div>\n",
              "  </div>\n",
              "  "
            ]
          },
          "metadata": {},
          "execution_count": 18
        }
      ]
    },
    {
      "cell_type": "code",
      "source": [
        "# fig, ax = plot.subplots(figsize=(7, 3), tight=True)\n",
        "# ax.plot(Himalaya_AOI_ndvi.dataframe.index, Himalaya_AOI_ndvi.dataframe['NDVI'],\n",
        "#         color='forest green', marker='o')\n",
        "# plot.show()"
      ],
      "metadata": {
        "id": "J_VdiuRojyuc"
      },
      "execution_count": 19,
      "outputs": []
    },
    {
      "cell_type": "code",
      "source": [
        "## mean NDVI in the Himalaya region \n",
        "bb=Himalaya_map.addLayer(scaled_ndvi.mean().clip(Himalaya_AOI),\n",
        "             vis_params={'min': 0.00001,\n",
        "                         'max': 1,\n",
        "                         'palette': ['red', 'yellow', 'green']})\n",
        "\n",
        "colormap = cm.LinearColormap(colors=['red','green'], index=[-0.9,0.6],vmin=-0.84,vmax=0.6)\n",
        "Himalaya_map.add_child(colormap)\n",
        "minimap = plugins.MiniMap()   # for minmap of survey area\n",
        "Himalaya_map.add_child(minimap)\n",
        "# # Add a minimap with a scale bar\n",
        "# MM = MiniMap(toggle_display=True, minimized=True, position='bottomleft', \n",
        "#                   zoom_level_offset=-6, width=150, height=150, metric=True, imperial=False)\n",
        "# Himalaya_map.add_child(MM)\n",
        "display(Himalaya_map)"
      ],
      "metadata": {
        "id": "9v96UdWa2pXF",
        "colab": {
          "base_uri": "https://localhost:8080/",
          "height": 1000
        },
        "outputId": "d09a671b-b44c-4365-d0e8-af7218aa44c0"
      },
      "execution_count": 103,
      "outputs": [
        {
          "output_type": "display_data",
          "data": {
            "text/plain": [
              "<folium.folium.Map at 0x7f48ce2d4a90>"
            ],
            "text/html": [
              "<div style=\"width:100%;\"><div style=\"position:relative;width:100%;height:0;padding-bottom:60%;\"><span style=\"color:#565656\">Make this Notebook Trusted to load map: File -> Trust Notebook</span><iframe srcdoc=\"&lt;!DOCTYPE html&gt;\n",
              "&lt;html&gt;\n",
              "&lt;head&gt;\n",
              "    \n",
              "    &lt;meta http-equiv=&quot;content-type&quot; content=&quot;text/html; charset=UTF-8&quot; /&gt;\n",
              "    \n",
              "        &lt;script&gt;\n",
              "            L_NO_TOUCH = false;\n",
              "            L_DISABLE_3D = false;\n",
              "        &lt;/script&gt;\n",
              "    \n",
              "    &lt;style&gt;html, body {width: 100%;height: 100%;margin: 0;padding: 0;}&lt;/style&gt;\n",
              "    &lt;style&gt;#map {position:absolute;top:0;bottom:0;right:0;left:0;}&lt;/style&gt;\n",
              "    &lt;script src=&quot;https://cdn.jsdelivr.net/npm/leaflet@1.9.3/dist/leaflet.js&quot;&gt;&lt;/script&gt;\n",
              "    &lt;script src=&quot;https://code.jquery.com/jquery-1.12.4.min.js&quot;&gt;&lt;/script&gt;\n",
              "    &lt;script src=&quot;https://cdn.jsdelivr.net/npm/bootstrap@5.2.2/dist/js/bootstrap.bundle.min.js&quot;&gt;&lt;/script&gt;\n",
              "    &lt;script src=&quot;https://cdnjs.cloudflare.com/ajax/libs/Leaflet.awesome-markers/2.0.2/leaflet.awesome-markers.js&quot;&gt;&lt;/script&gt;\n",
              "    &lt;link rel=&quot;stylesheet&quot; href=&quot;https://cdn.jsdelivr.net/npm/leaflet@1.9.3/dist/leaflet.css&quot;/&gt;\n",
              "    &lt;link rel=&quot;stylesheet&quot; href=&quot;https://cdn.jsdelivr.net/npm/bootstrap@5.2.2/dist/css/bootstrap.min.css&quot;/&gt;\n",
              "    &lt;link rel=&quot;stylesheet&quot; href=&quot;https://netdna.bootstrapcdn.com/bootstrap/3.0.0/css/bootstrap.min.css&quot;/&gt;\n",
              "    &lt;link rel=&quot;stylesheet&quot; href=&quot;https://cdn.jsdelivr.net/npm/@fortawesome/fontawesome-free@6.2.0/css/all.min.css&quot;/&gt;\n",
              "    &lt;link rel=&quot;stylesheet&quot; href=&quot;https://cdnjs.cloudflare.com/ajax/libs/Leaflet.awesome-markers/2.0.2/leaflet.awesome-markers.css&quot;/&gt;\n",
              "    &lt;link rel=&quot;stylesheet&quot; href=&quot;https://cdn.jsdelivr.net/gh/python-visualization/folium/folium/templates/leaflet.awesome.rotate.min.css&quot;/&gt;\n",
              "    \n",
              "            &lt;meta name=&quot;viewport&quot; content=&quot;width=device-width,\n",
              "                initial-scale=1.0, maximum-scale=1.0, user-scalable=no&quot; /&gt;\n",
              "            &lt;style&gt;\n",
              "                #map_fa5d28ce0af7268bb5abbb046cc146dc {\n",
              "                    position: relative;\n",
              "                    width: 100.0%;\n",
              "                    height: 100.0%;\n",
              "                    left: 0.0%;\n",
              "                    top: 0.0%;\n",
              "                }\n",
              "                .leaflet-container { font-size: 1rem; }\n",
              "            &lt;/style&gt;\n",
              "        \n",
              "    &lt;script src=&quot;https://cdnjs.cloudflare.com/ajax/libs/d3/3.5.5/d3.min.js&quot;&gt;&lt;/script&gt;\n",
              "    &lt;script src=&quot;https://cdnjs.cloudflare.com/ajax/libs/leaflet-minimap/3.6.1/Control.MiniMap.js&quot;&gt;&lt;/script&gt;\n",
              "    &lt;link rel=&quot;stylesheet&quot; href=&quot;https://cdnjs.cloudflare.com/ajax/libs/leaflet-minimap/3.6.1/Control.MiniMap.css&quot;/&gt;\n",
              "&lt;/head&gt;\n",
              "&lt;body&gt;\n",
              "    \n",
              "    \n",
              "            &lt;div class=&quot;folium-map&quot; id=&quot;map_fa5d28ce0af7268bb5abbb046cc146dc&quot; &gt;&lt;/div&gt;\n",
              "        \n",
              "&lt;/body&gt;\n",
              "&lt;script&gt;\n",
              "    \n",
              "    \n",
              "            var map_fa5d28ce0af7268bb5abbb046cc146dc = L.map(\n",
              "                &quot;map_fa5d28ce0af7268bb5abbb046cc146dc&quot;,\n",
              "                {\n",
              "                    center: [28.219812566703645, 85.59529116364365],\n",
              "                    crs: L.CRS.EPSG3857,\n",
              "                    zoom: 10,\n",
              "                    zoomControl: true,\n",
              "                    preferCanvas: false,\n",
              "                }\n",
              "            );\n",
              "\n",
              "            \n",
              "\n",
              "        \n",
              "    \n",
              "            var tile_layer_c9c57d13361672105ff8a336fdc3d17c = L.tileLayer(\n",
              "                &quot;https://stamen-tiles-{s}.a.ssl.fastly.net/terrain/{z}/{x}/{y}.jpg&quot;,\n",
              "                {&quot;attribution&quot;: &quot;Map tiles by \\u003ca target=\\&quot;_blank\\&quot; href=\\&quot;http://stamen.com\\&quot;\\u003eStamen Design\\u003c/a\\u003e, under \\u003ca target=\\&quot;_blank\\&quot; href=\\&quot;http://creativecommons.org/licenses/by/3.0\\&quot;\\u003eCC BY 3.0\\u003c/a\\u003e. Data by \\u0026copy; \\u003ca target=\\&quot;_blank\\&quot; href=\\&quot;http://openstreetmap.org\\&quot;\\u003eOpenStreetMap\\u003c/a\\u003e, under \\u003ca target=\\&quot;_blank\\&quot; href=\\&quot;http://creativecommons.org/licenses/by-sa/3.0\\&quot;\\u003eCC BY SA\\u003c/a\\u003e.&quot;, &quot;detectRetina&quot;: false, &quot;maxNativeZoom&quot;: 18, &quot;maxZoom&quot;: 18, &quot;minZoom&quot;: 0, &quot;noWrap&quot;: false, &quot;opacity&quot;: 1, &quot;subdomains&quot;: &quot;abc&quot;, &quot;tms&quot;: false}\n",
              "            ).addTo(map_fa5d28ce0af7268bb5abbb046cc146dc);\n",
              "        \n",
              "    \n",
              "            var tile_layer_74ef0c438b89ffccb896c6db516ef505 = L.tileLayer(\n",
              "                &quot;https://earthengine.googleapis.com/v1alpha/projects/earthengine-legacy/maps/ecd47727440a9e130f3e71c31df07dc9-0a742085faa474006e4163edc96fcc2a/tiles/{z}/{x}/{y}&quot;,\n",
              "                {&quot;attribution&quot;: &quot;Google Earth Engine&quot;, &quot;detectRetina&quot;: false, &quot;maxNativeZoom&quot;: 18, &quot;maxZoom&quot;: 18, &quot;minZoom&quot;: 0, &quot;noWrap&quot;: false, &quot;opacity&quot;: 1, &quot;subdomains&quot;: &quot;abc&quot;, &quot;tms&quot;: false}\n",
              "            ).addTo(map_fa5d28ce0af7268bb5abbb046cc146dc);\n",
              "        \n",
              "    \n",
              "            var tile_layer_41e67ad1388b4a93977f412e6b2ef5d9 = L.tileLayer(\n",
              "                &quot;https://earthengine.googleapis.com/v1alpha/projects/earthengine-legacy/maps/64308779490e582049d66c72aad37f6f-9973c9a31356d1c96a63d917de82864a/tiles/{z}/{x}/{y}&quot;,\n",
              "                {&quot;attribution&quot;: &quot;Google Earth Engine&quot;, &quot;detectRetina&quot;: false, &quot;maxNativeZoom&quot;: 18, &quot;maxZoom&quot;: 18, &quot;minZoom&quot;: 0, &quot;noWrap&quot;: false, &quot;opacity&quot;: 1, &quot;subdomains&quot;: &quot;abc&quot;, &quot;tms&quot;: false}\n",
              "            ).addTo(map_fa5d28ce0af7268bb5abbb046cc146dc);\n",
              "        \n",
              "    \n",
              "    var color_map_a86af94edb574e19e74f46dec76f6512 = {};\n",
              "\n",
              "    \n",
              "    color_map_a86af94edb574e19e74f46dec76f6512.color = d3.scale.threshold()\n",
              "              .domain([-1.0, -0.9977955911823647, -0.9955911823647294, -0.9933867735470941, -0.9911823647294589, -0.9889779559118237, -0.9867735470941884, -0.9845691382765531, -0.9823647294589178, -0.9801603206412826, -0.9779559118236473, -0.975751503006012, -0.9735470941883767, -0.9713426853707415, -0.9691382765531062, -0.966933867735471, -0.9647294589178357, -0.9625250501002004, -0.9603206412825651, -0.9581162324649298, -0.9559118236472945, -0.9537074148296594, -0.9515030060120241, -0.9492985971943888, -0.9470941883767535, -0.9448897795591182, -0.942685370741483, -0.9404809619238477, -0.9382765531062124, -0.9360721442885771, -0.9338677354709419, -0.9316633266533066, -0.9294589178356714, -0.9272545090180361, -0.9250501002004008, -0.9228456913827655, -0.9206412825651302, -0.9184368737474949, -0.9162324649298597, -0.9140280561122245, -0.9118236472945892, -0.9096192384769539, -0.9074148296593186, -0.9052104208416833, -0.9030060120240481, -0.9008016032064128, -0.8985971943887776, -0.8963927855711423, -0.894188376753507, -0.8919839679358718, -0.8897795591182365, -0.8875751503006012, -0.8853707414829659, -0.8831663326653306, -0.8809619238476953, -0.8787575150300602, -0.8765531062124248, -0.8743486973947896, -0.8721442885771543, -0.869939879759519, -0.8677354709418837, -0.8655310621242485, -0.8633266533066133, -0.8611222444889779, -0.8589178356713427, -0.8567134268537074, -0.8545090180360722, -0.8523046092184369, -0.8501002004008016, -0.8478957915831663, -0.845691382765531, -0.8434869739478957, -0.8412825651302605, -0.8390781563126253, -0.83687374749499, -0.8346693386773547, -0.8324649298597194, -0.8302605210420841, -0.8280561122244489, -0.8258517034068136, -0.8236472945891784, -0.821442885771543, -0.8192384769539078, -0.8170340681362726, -0.8148296593186373, -0.812625250501002, -0.8104208416833667, -0.8082164328657314, -0.8060120240480961, -0.803807615230461, -0.8016032064128256, -0.7993987975951904, -0.7971943887775551, -0.7949899799599198, -0.7927855711422845, -0.7905811623246493, -0.788376753507014, -0.7861723446893787, -0.7839679358717435, -0.7817635270541082, -0.779559118236473, -0.7773547094188377, -0.7751503006012024, -0.7729458917835671, -0.7707414829659318, -0.7685370741482965, -0.7663326653306612, -0.7641282565130261, -0.7619238476953908, -0.7597194388777555, -0.7575150300601202, -0.7553106212424849, -0.7531062124248497, -0.7509018036072144, -0.7486973947895792, -0.7464929859719438, -0.7442885771543086, -0.7420841683366732, -0.7398797595190381, -0.7376753507014028, -0.7354709418837675, -0.7332665330661322, -0.7310621242484969, -0.7288577154308618, -0.7266533066132265, -0.7244488977955912, -0.7222444889779558, -0.7200400801603206, -0.7178356713426853, -0.71563126252505, -0.7134268537074149, -0.7112224448897795, -0.7090180360721443, -0.7068136272545089, -0.7046092184368737, -0.7024048096192385, -0.7002004008016032, -0.6979959919839679, -0.6957915831663326, -0.6935871743486974, -0.6913827655310621, -0.6891783567134269, -0.6869739478957915, -0.6847695390781563, -0.682565130260521, -0.6803607214428857, -0.6781563126252504, -0.6759519038076152, -0.67374749498998, -0.6715430861723447, -0.6693386773547094, -0.667134268537074, -0.6649298597194389, -0.6627254509018036, -0.6605210420841683, -0.6583166332665331, -0.6561122244488977, -0.6539078156312625, -0.6517034068136272, -0.649498997995992, -0.6472945891783567, -0.6450901803607214, -0.6428857715430861, -0.6406813627254508, -0.6384769539078157, -0.6362725450901803, -0.6340681362725451, -0.6318637274549097, -0.6296593186372745, -0.6274549098196393, -0.625250501002004, -0.6230460921843687, -0.6208416833667334, -0.6186372745490982, -0.6164328657314628, -0.6142284569138277, -0.6120240480961923, -0.6098196392785571, -0.6076152304609218, -0.6054108216432865, -0.6032064128256512, -0.601002004008016, -0.5987975951903808, -0.5965931863727454, -0.5943887775551102, -0.5921843687374748, -0.5899799599198396, -0.5877755511022044, -0.5855711422845691, -0.5833667334669339, -0.5811623246492985, -0.5789579158316633, -0.5767535070140279, -0.5745490981963928, -0.5723446893787575, -0.5701402805611222, -0.5679358717434869, -0.5657314629258516, -0.5635270541082165, -0.5613226452905811, -0.5591182364729459, -0.5569138276553105, -0.5547094188376753, -0.55250501002004, -0.5503006012024048, -0.5480961923847695, -0.5458917835671342, -0.543687374749499, -0.5414829659318636, -0.5392785571142285, -0.5370741482965931, -0.5348697394789579, -0.5326653306613226, -0.5304609218436873, -0.5282565130260521, -0.5260521042084167, -0.5238476953907816, -0.5216432865731462, -0.519438877755511, -0.5172344689378757, -0.5150300601202404, -0.5128256513026052, -0.5106212424849699, -0.5084168336673347, -0.5062124248496993, -0.5040080160320641, -0.5018036072144287, -0.49959919839679356, -0.4973947895791583, -0.495190380761523, -0.4929859719438877, -0.49078156312625243, -0.48857715430861715, -0.486372745490982, -0.4841683366733466, -0.4819639278557114, -0.4797595190380761, -0.47755511022044084, -0.47535070140280555, -0.47314629258517027, -0.4709418837675351, -0.4687374749498997, -0.4665330661322644, -0.46432865731462925, -0.46212424849699396, -0.4599198396793587, -0.4577154308617234, -0.4555110220440881, -0.45330661322645294, -0.45110220440881754, -0.44889779559118237, -0.4466933867735471, -0.4444889779559117, -0.4422845691382765, -0.44008016032064123, -0.43787575150300606, -0.43567134268537067, -0.4334669338677354, -0.4312625250501002, -0.4290581162324648, -0.42685370741482964, -0.42464929859719436, -0.4224448897795591, -0.4202404809619238, -0.4180360721442885, -0.41583166332665333, -0.41362725450901794, -0.41142284569138265, -0.4092184368737475, -0.4070140280561122, -0.4048096192384769, -0.40260521042084163, -0.40040080160320635, -0.3981963927855712, -0.3959919839679358, -0.3937875751503006, -0.3915831663326653, -0.3893787575150299, -0.38717434869739475, -0.38496993987975947, -0.3827655310621243, -0.3805611222444889, -0.3783567134268536, -0.37615230460921845, -0.37394789579158305, -0.3717434869739479, -0.3695390781563126, -0.3673346693386773, -0.365130260521042, -0.36292585170340674, -0.36072144288577157, -0.3585170340681362, -0.3563126252505009, -0.3541082164328657, -0.35190380761523044, -0.34969939879759515, -0.34749498997995987, -0.3452905811623246, -0.3430861723446894, -0.340881763527054, -0.33867735470941884, -0.33647294589178356, -0.33426853707414816, -0.332064128256513, -0.3298597194388777, -0.32765531062124253, -0.32545090180360714, -0.32324649298597186, -0.3210420841683367, -0.3188376753507013, -0.3166332665330661, -0.31442885771543083, -0.31222444889779555, -0.31002004008016026, -0.307815631262525, -0.3056112224448898, -0.3034068136272544, -0.30120240480961913, -0.29899799599198396, -0.29679358717434867, -0.2945891783567134, -0.2923847695390781, -0.2901803607214428, -0.28797595190380765, -0.28577154308617225, -0.28356713426853697, -0.2813627254509018, -0.2791583166332664, -0.27695390781563123, -0.27474949899799594, -0.27254509018036066, -0.2703406813627254, -0.2681362725450901, -0.2659318637274549, -0.2637274549098195, -0.26152304609218424, -0.25931863727454907, -0.2571142284569138, -0.2549098196392785, -0.2527054108216432, -0.25050100200400793, -0.24829659318637265, -0.24609218436873737, -0.2438877755511022, -0.2416833667334669, -0.23947895791583151, -0.23727454909819634, -0.23507014028056106, -0.23286573146292577, -0.2306613226452905, -0.2284569138276552, -0.22625250501002003, -0.22404809619238464, -0.22184368737474947, -0.21963927855711418, -0.2174348697394789, -0.2152304609218436, -0.21302605210420833, -0.21082164328657316, -0.20861723446893776, -0.20641282565130248, -0.2042084168336673, -0.20200400801603202, -0.19979959919839674, -0.19759519038076145, -0.19539078156312617, -0.1931863727454909, -0.1909819639278556, -0.18877755511022043, -0.18657314629258515, -0.18436873747494975, -0.18216432865731458, -0.1799599198396793, -0.177755511022044, -0.17555110220440873, -0.17334669338677344, -0.17114228456913827, -0.16893787575150288, -0.1667334669338677, -0.16452905811623242, -0.16232464929859713, -0.16012024048096185, -0.15791583166332657, -0.1557114228456914, -0.153507014028056, -0.15130260521042072, -0.14909819639278554, -0.14689378757515026, -0.14468937875751497, -0.1424849699398797, -0.1402805611222444, -0.13807615230460912, -0.13587174348697384, -0.13366733466933867, -0.13146292585170338, -0.129258517034068, -0.12705410821643282, -0.12484969939879753, -0.12264529058116225, -0.12044088176352696, -0.11823647294589168, -0.1160320641282565, -0.11382765531062111, -0.11162324649298594, -0.10941883767535066, -0.10721442885771537, -0.10501002004008009, -0.1028056112224448, -0.10060120240480963, -0.09839679358717424, -0.09619238476953895, -0.09398797595190378, -0.0917835671342685, -0.08957915831663321, -0.08737474949899793, -0.08517034068136264, -0.08296593186372736, -0.08076152304609208, -0.0785571142284569, -0.07635270541082162, -0.07414829659318622, -0.07194388777555105, -0.06973947895791577, -0.06753507014028048, -0.0653306613226452, -0.06312625250500992, -0.060921843687374744, -0.05871743486973935, -0.056513026052104176, -0.05430861723446889, -0.05210420841683361, -0.049899799599198325, -0.04769539078156304, -0.04549098196392787, -0.04328657314629247, -0.04108216432865719, -0.038877755511022016, -0.03667334669338673, -0.03446893787575145, -0.032264529058116165, -0.03006012024048088, -0.027855711422845597, -0.025651302605210313, -0.02344689378757514, -0.021242484969939857, -0.01903807615230446, -0.01683366733466929, -0.014629258517034005, -0.01242484969939861, -0.010220440881763437, -0.008016032064128154, -0.005811623246492981, -0.003607214428857586, -0.001402805611222302, 0.0008016032064128709, 0.0030060120240482657, 0.0052104208416834386, 0.007414829659318833, 0.009619238476954006, 0.011823647294589179, 0.014028056112224574, 0.016232464929859747, 0.01843687374749514, 0.020641282565130314, 0.02284569138276571, 0.025050100200400882, 0.027254509018036055, 0.02945891783567145, 0.031663326653306845, 0.03386773547094202, 0.03607214428857719, 0.03827655310621236, 0.04048096192384776, 0.04268537074148315, 0.044889779559118326, 0.0470941883767535, 0.04929859719438889, 0.051503006012024066, 0.05370741482965946, 0.055911823647294856, 0.05811623246492981, 0.0603206412825652, 0.0625250501002006, 0.06472945891783577, 0.06693386773547116, 0.06913827655310611, 0.07134268537074151, 0.0735470941883769, 0.07575150300601208, 0.07795591182364747, 0.08016032064128265, 0.08236472945891782, 0.08456913827655321, 0.08677354709418861, 0.08897795591182378, 0.09118236472945895, 0.09338677354709413, 0.09559118236472952, 0.09779559118236492, 0.10000000000000009])\n",
              "              .range([&#x27;#ff0000ff&#x27;, &#x27;#ff0000ff&#x27;, &#x27;#ff0000ff&#x27;, &#x27;#ff0000ff&#x27;, &#x27;#fe0000ff&#x27;, &#x27;#fe0000ff&#x27;, &#x27;#fe0000ff&#x27;, &#x27;#fe0000ff&#x27;, &#x27;#fd0100ff&#x27;, &#x27;#fd0100ff&#x27;, &#x27;#fd0100ff&#x27;, &#x27;#fc0100ff&#x27;, &#x27;#fc0100ff&#x27;, &#x27;#fc0100ff&#x27;, &#x27;#fc0100ff&#x27;, &#x27;#fb0200ff&#x27;, &#x27;#fb0200ff&#x27;, &#x27;#fb0200ff&#x27;, &#x27;#fa0200ff&#x27;, &#x27;#fa0200ff&#x27;, &#x27;#fa0200ff&#x27;, &#x27;#fa0200ff&#x27;, &#x27;#f90300ff&#x27;, &#x27;#f90300ff&#x27;, &#x27;#f90300ff&#x27;, &#x27;#f80300ff&#x27;, &#x27;#f80300ff&#x27;, &#x27;#f80300ff&#x27;, &#x27;#f80300ff&#x27;, &#x27;#f70400ff&#x27;, &#x27;#f70400ff&#x27;, &#x27;#f70400ff&#x27;, &#x27;#f60400ff&#x27;, &#x27;#f60400ff&#x27;, &#x27;#f60400ff&#x27;, &#x27;#f60400ff&#x27;, &#x27;#f50500ff&#x27;, &#x27;#f50500ff&#x27;, &#x27;#f50500ff&#x27;, &#x27;#f40500ff&#x27;, &#x27;#f40500ff&#x27;, &#x27;#f40500ff&#x27;, &#x27;#f40500ff&#x27;, &#x27;#f30600ff&#x27;, &#x27;#f30600ff&#x27;, &#x27;#f30600ff&#x27;, &#x27;#f30600ff&#x27;, &#x27;#f20600ff&#x27;, &#x27;#f20600ff&#x27;, &#x27;#f20600ff&#x27;, &#x27;#f10700ff&#x27;, &#x27;#f10700ff&#x27;, &#x27;#f10700ff&#x27;, &#x27;#f10700ff&#x27;, &#x27;#f00700ff&#x27;, &#x27;#f00700ff&#x27;, &#x27;#f00700ff&#x27;, &#x27;#ef0800ff&#x27;, &#x27;#ef0800ff&#x27;, &#x27;#ef0800ff&#x27;, &#x27;#ef0800ff&#x27;, &#x27;#ee0800ff&#x27;, &#x27;#ee0800ff&#x27;, &#x27;#ee0800ff&#x27;, &#x27;#ed0900ff&#x27;, &#x27;#ed0900ff&#x27;, &#x27;#ed0900ff&#x27;, &#x27;#ed0900ff&#x27;, &#x27;#ec0900ff&#x27;, &#x27;#ec0900ff&#x27;, &#x27;#ec0900ff&#x27;, &#x27;#eb0a00ff&#x27;, &#x27;#eb0a00ff&#x27;, &#x27;#eb0a00ff&#x27;, &#x27;#eb0a00ff&#x27;, &#x27;#ea0a00ff&#x27;, &#x27;#ea0a00ff&#x27;, &#x27;#ea0a00ff&#x27;, &#x27;#e90b00ff&#x27;, &#x27;#e90b00ff&#x27;, &#x27;#e90b00ff&#x27;, &#x27;#e90b00ff&#x27;, &#x27;#e80b00ff&#x27;, &#x27;#e80b00ff&#x27;, &#x27;#e80b00ff&#x27;, &#x27;#e80c00ff&#x27;, &#x27;#e70c00ff&#x27;, &#x27;#e70c00ff&#x27;, &#x27;#e70c00ff&#x27;, &#x27;#e60c00ff&#x27;, &#x27;#e60c00ff&#x27;, &#x27;#e60c00ff&#x27;, &#x27;#e60d00ff&#x27;, &#x27;#e50d00ff&#x27;, &#x27;#e50d00ff&#x27;, &#x27;#e50d00ff&#x27;, &#x27;#e40d00ff&#x27;, &#x27;#e40d00ff&#x27;, &#x27;#e40d00ff&#x27;, &#x27;#e40e00ff&#x27;, &#x27;#e30e00ff&#x27;, &#x27;#e30e00ff&#x27;, &#x27;#e30e00ff&#x27;, &#x27;#e20e00ff&#x27;, &#x27;#e20e00ff&#x27;, &#x27;#e20e00ff&#x27;, &#x27;#e20f00ff&#x27;, &#x27;#e10f00ff&#x27;, &#x27;#e10f00ff&#x27;, &#x27;#e10f00ff&#x27;, &#x27;#e00f00ff&#x27;, &#x27;#e00f00ff&#x27;, &#x27;#e00f00ff&#x27;, &#x27;#e01000ff&#x27;, &#x27;#df1000ff&#x27;, &#x27;#df1000ff&#x27;, &#x27;#df1000ff&#x27;, &#x27;#de1000ff&#x27;, &#x27;#de1000ff&#x27;, &#x27;#de1000ff&#x27;, &#x27;#de1000ff&#x27;, &#x27;#dd1100ff&#x27;, &#x27;#dd1100ff&#x27;, &#x27;#dd1100ff&#x27;, &#x27;#dd1100ff&#x27;, &#x27;#dc1100ff&#x27;, &#x27;#dc1100ff&#x27;, &#x27;#dc1100ff&#x27;, &#x27;#db1200ff&#x27;, &#x27;#db1200ff&#x27;, &#x27;#db1200ff&#x27;, &#x27;#db1200ff&#x27;, &#x27;#da1200ff&#x27;, &#x27;#da1200ff&#x27;, &#x27;#da1200ff&#x27;, &#x27;#d91300ff&#x27;, &#x27;#d91300ff&#x27;, &#x27;#d91300ff&#x27;, &#x27;#d91300ff&#x27;, &#x27;#d81300ff&#x27;, &#x27;#d81300ff&#x27;, &#x27;#d81300ff&#x27;, &#x27;#d71400ff&#x27;, &#x27;#d71400ff&#x27;, &#x27;#d71400ff&#x27;, &#x27;#d71400ff&#x27;, &#x27;#d61400ff&#x27;, &#x27;#d61400ff&#x27;, &#x27;#d61400ff&#x27;, &#x27;#d51500ff&#x27;, &#x27;#d51500ff&#x27;, &#x27;#d51500ff&#x27;, &#x27;#d51500ff&#x27;, &#x27;#d41500ff&#x27;, &#x27;#d41500ff&#x27;, &#x27;#d41500ff&#x27;, &#x27;#d31600ff&#x27;, &#x27;#d31600ff&#x27;, &#x27;#d31600ff&#x27;, &#x27;#d31600ff&#x27;, &#x27;#d21600ff&#x27;, &#x27;#d21600ff&#x27;, &#x27;#d21600ff&#x27;, &#x27;#d21700ff&#x27;, &#x27;#d11700ff&#x27;, &#x27;#d11700ff&#x27;, &#x27;#d11700ff&#x27;, &#x27;#d01700ff&#x27;, &#x27;#d01700ff&#x27;, &#x27;#d01700ff&#x27;, &#x27;#d01800ff&#x27;, &#x27;#cf1800ff&#x27;, &#x27;#cf1800ff&#x27;, &#x27;#cf1800ff&#x27;, &#x27;#ce1800ff&#x27;, &#x27;#ce1800ff&#x27;, &#x27;#ce1800ff&#x27;, &#x27;#ce1900ff&#x27;, &#x27;#cd1900ff&#x27;, &#x27;#cd1900ff&#x27;, &#x27;#cd1900ff&#x27;, &#x27;#cc1900ff&#x27;, &#x27;#cc1900ff&#x27;, &#x27;#cc1900ff&#x27;, &#x27;#cc1a00ff&#x27;, &#x27;#cb1a00ff&#x27;, &#x27;#cb1a00ff&#x27;, &#x27;#cb1a00ff&#x27;, &#x27;#ca1a00ff&#x27;, &#x27;#ca1a00ff&#x27;, &#x27;#ca1a00ff&#x27;, &#x27;#ca1b00ff&#x27;, &#x27;#c91b00ff&#x27;, &#x27;#c91b00ff&#x27;, &#x27;#c91b00ff&#x27;, &#x27;#c81b00ff&#x27;, &#x27;#c81b00ff&#x27;, &#x27;#c81b00ff&#x27;, &#x27;#c81c00ff&#x27;, &#x27;#c71c00ff&#x27;, &#x27;#c71c00ff&#x27;, &#x27;#c71c00ff&#x27;, &#x27;#c71c00ff&#x27;, &#x27;#c61c00ff&#x27;, &#x27;#c61c00ff&#x27;, &#x27;#c61d00ff&#x27;, &#x27;#c51d00ff&#x27;, &#x27;#c51d00ff&#x27;, &#x27;#c51d00ff&#x27;, &#x27;#c51d00ff&#x27;, &#x27;#c41d00ff&#x27;, &#x27;#c41d00ff&#x27;, &#x27;#c41e00ff&#x27;, &#x27;#c31e00ff&#x27;, &#x27;#c31e00ff&#x27;, &#x27;#c31e00ff&#x27;, &#x27;#c31e00ff&#x27;, &#x27;#c21e00ff&#x27;, &#x27;#c21e00ff&#x27;, &#x27;#c21f00ff&#x27;, &#x27;#c11f00ff&#x27;, &#x27;#c11f00ff&#x27;, &#x27;#c11f00ff&#x27;, &#x27;#c11f00ff&#x27;, &#x27;#c01f00ff&#x27;, &#x27;#c01f00ff&#x27;, &#x27;#c02000ff&#x27;, &#x27;#bf2000ff&#x27;, &#x27;#bf2000ff&#x27;, &#x27;#bf2000ff&#x27;, &#x27;#bf2000ff&#x27;, &#x27;#be2000ff&#x27;, &#x27;#be2000ff&#x27;, &#x27;#be2100ff&#x27;, &#x27;#bd2100ff&#x27;, &#x27;#bd2100ff&#x27;, &#x27;#bd2100ff&#x27;, &#x27;#bd2100ff&#x27;, &#x27;#bc2100ff&#x27;, &#x27;#bc2100ff&#x27;, &#x27;#bc2100ff&#x27;, &#x27;#bb2200ff&#x27;, &#x27;#bb2200ff&#x27;, &#x27;#bb2200ff&#x27;, &#x27;#bb2200ff&#x27;, &#x27;#ba2200ff&#x27;, &#x27;#ba2200ff&#x27;, &#x27;#ba2200ff&#x27;, &#x27;#ba2300ff&#x27;, &#x27;#b92300ff&#x27;, &#x27;#b92300ff&#x27;, &#x27;#b92300ff&#x27;, &#x27;#b82300ff&#x27;, &#x27;#b82300ff&#x27;, &#x27;#b82300ff&#x27;, &#x27;#b82400ff&#x27;, &#x27;#b72400ff&#x27;, &#x27;#b72400ff&#x27;, &#x27;#b72400ff&#x27;, &#x27;#b62400ff&#x27;, &#x27;#b62400ff&#x27;, &#x27;#b62400ff&#x27;, &#x27;#b62500ff&#x27;, &#x27;#b52500ff&#x27;, &#x27;#b52500ff&#x27;, &#x27;#b52500ff&#x27;, &#x27;#b42500ff&#x27;, &#x27;#b42500ff&#x27;, &#x27;#b42500ff&#x27;, &#x27;#b42600ff&#x27;, &#x27;#b32600ff&#x27;, &#x27;#b32600ff&#x27;, &#x27;#b32600ff&#x27;, &#x27;#b22600ff&#x27;, &#x27;#b22600ff&#x27;, &#x27;#b22600ff&#x27;, &#x27;#b22700ff&#x27;, &#x27;#b12700ff&#x27;, &#x27;#b12700ff&#x27;, &#x27;#b12700ff&#x27;, &#x27;#b02700ff&#x27;, &#x27;#b02700ff&#x27;, &#x27;#b02700ff&#x27;, &#x27;#b02800ff&#x27;, &#x27;#af2800ff&#x27;, &#x27;#af2800ff&#x27;, &#x27;#af2800ff&#x27;, &#x27;#af2800ff&#x27;, &#x27;#ae2800ff&#x27;, &#x27;#ae2800ff&#x27;, &#x27;#ae2900ff&#x27;, &#x27;#ad2900ff&#x27;, &#x27;#ad2900ff&#x27;, &#x27;#ad2900ff&#x27;, &#x27;#ad2900ff&#x27;, &#x27;#ac2900ff&#x27;, &#x27;#ac2900ff&#x27;, &#x27;#ac2a00ff&#x27;, &#x27;#ab2a00ff&#x27;, &#x27;#ab2a00ff&#x27;, &#x27;#ab2a00ff&#x27;, &#x27;#ab2a00ff&#x27;, &#x27;#aa2a00ff&#x27;, &#x27;#aa2a00ff&#x27;, &#x27;#aa2b00ff&#x27;, &#x27;#a92b00ff&#x27;, &#x27;#a92b00ff&#x27;, &#x27;#a92b00ff&#x27;, &#x27;#a92b00ff&#x27;, &#x27;#a82b00ff&#x27;, &#x27;#a82b00ff&#x27;, &#x27;#a82c00ff&#x27;, &#x27;#a72c00ff&#x27;, &#x27;#a72c00ff&#x27;, &#x27;#a72c00ff&#x27;, &#x27;#a72c00ff&#x27;, &#x27;#a62c00ff&#x27;, &#x27;#a62c00ff&#x27;, &#x27;#a62d00ff&#x27;, &#x27;#a52d00ff&#x27;, &#x27;#a52d00ff&#x27;, &#x27;#a52d00ff&#x27;, &#x27;#a52d00ff&#x27;, &#x27;#a42d00ff&#x27;, &#x27;#a42d00ff&#x27;, &#x27;#a42e00ff&#x27;, &#x27;#a42e00ff&#x27;, &#x27;#a32e00ff&#x27;, &#x27;#a32e00ff&#x27;, &#x27;#a32e00ff&#x27;, &#x27;#a22e00ff&#x27;, &#x27;#a22e00ff&#x27;, &#x27;#a22f00ff&#x27;, &#x27;#a22f00ff&#x27;, &#x27;#a12f00ff&#x27;, &#x27;#a12f00ff&#x27;, &#x27;#a12f00ff&#x27;, &#x27;#a02f00ff&#x27;, &#x27;#a02f00ff&#x27;, &#x27;#a03000ff&#x27;, &#x27;#a03000ff&#x27;, &#x27;#9f3000ff&#x27;, &#x27;#9f3000ff&#x27;, &#x27;#9f3000ff&#x27;, &#x27;#9e3000ff&#x27;, &#x27;#9e3000ff&#x27;, &#x27;#9e3100ff&#x27;, &#x27;#9e3100ff&#x27;, &#x27;#9d3100ff&#x27;, &#x27;#9d3100ff&#x27;, &#x27;#9d3100ff&#x27;, &#x27;#9c3100ff&#x27;, &#x27;#9c3100ff&#x27;, &#x27;#9c3100ff&#x27;, &#x27;#9c3200ff&#x27;, &#x27;#9b3200ff&#x27;, &#x27;#9b3200ff&#x27;, &#x27;#9b3200ff&#x27;, &#x27;#9a3200ff&#x27;, &#x27;#9a3200ff&#x27;, &#x27;#9a3200ff&#x27;, &#x27;#9a3300ff&#x27;, &#x27;#993300ff&#x27;, &#x27;#993300ff&#x27;, &#x27;#993300ff&#x27;, &#x27;#993300ff&#x27;, &#x27;#983300ff&#x27;, &#x27;#983300ff&#x27;, &#x27;#983400ff&#x27;, &#x27;#973400ff&#x27;, &#x27;#973400ff&#x27;, &#x27;#973400ff&#x27;, &#x27;#973400ff&#x27;, &#x27;#963400ff&#x27;, &#x27;#963400ff&#x27;, &#x27;#963500ff&#x27;, &#x27;#953500ff&#x27;, &#x27;#953500ff&#x27;, &#x27;#953500ff&#x27;, &#x27;#953500ff&#x27;, &#x27;#943500ff&#x27;, &#x27;#943500ff&#x27;, &#x27;#943600ff&#x27;, &#x27;#933600ff&#x27;, &#x27;#933600ff&#x27;, &#x27;#933600ff&#x27;, &#x27;#933600ff&#x27;, &#x27;#923600ff&#x27;, &#x27;#923600ff&#x27;, &#x27;#923700ff&#x27;, &#x27;#913700ff&#x27;, &#x27;#913700ff&#x27;, &#x27;#913700ff&#x27;, &#x27;#913700ff&#x27;, &#x27;#903700ff&#x27;, &#x27;#903700ff&#x27;, &#x27;#903800ff&#x27;, &#x27;#8f3800ff&#x27;, &#x27;#8f3800ff&#x27;, &#x27;#8f3800ff&#x27;, &#x27;#8f3800ff&#x27;, &#x27;#8e3800ff&#x27;, &#x27;#8e3800ff&#x27;, &#x27;#8e3900ff&#x27;, &#x27;#8e3900ff&#x27;, &#x27;#8d3900ff&#x27;, &#x27;#8d3900ff&#x27;, &#x27;#8d3900ff&#x27;, &#x27;#8c3900ff&#x27;, &#x27;#8c3900ff&#x27;, &#x27;#8c3a00ff&#x27;, &#x27;#8c3a00ff&#x27;, &#x27;#8b3a00ff&#x27;, &#x27;#8b3a00ff&#x27;, &#x27;#8b3a00ff&#x27;, &#x27;#8a3a00ff&#x27;, &#x27;#8a3a00ff&#x27;, &#x27;#8a3b00ff&#x27;, &#x27;#8a3b00ff&#x27;, &#x27;#893b00ff&#x27;, &#x27;#893b00ff&#x27;, &#x27;#893b00ff&#x27;, &#x27;#883b00ff&#x27;, &#x27;#883b00ff&#x27;, &#x27;#883c00ff&#x27;, &#x27;#883c00ff&#x27;, &#x27;#873c00ff&#x27;, &#x27;#873c00ff&#x27;, &#x27;#873c00ff&#x27;, &#x27;#863c00ff&#x27;, &#x27;#863c00ff&#x27;, &#x27;#863d00ff&#x27;, &#x27;#863d00ff&#x27;, &#x27;#853d00ff&#x27;, &#x27;#853d00ff&#x27;, &#x27;#853d00ff&#x27;, &#x27;#843d00ff&#x27;, &#x27;#843d00ff&#x27;, &#x27;#843e00ff&#x27;, &#x27;#843e00ff&#x27;, &#x27;#833e00ff&#x27;, &#x27;#833e00ff&#x27;, &#x27;#833e00ff&#x27;, &#x27;#833e00ff&#x27;, &#x27;#823e00ff&#x27;, &#x27;#823f00ff&#x27;, &#x27;#823f00ff&#x27;, &#x27;#813f00ff&#x27;, &#x27;#813f00ff&#x27;, &#x27;#813f00ff&#x27;, &#x27;#813f00ff&#x27;, &#x27;#803f00ff&#x27;, &#x27;#804000ff&#x27;, &#x27;#804000ff&#x27;, &#x27;#7f4000ff&#x27;, &#x27;#7f4000ff&#x27;, &#x27;#7f4000ff&#x27;, &#x27;#7f4000ff&#x27;, &#x27;#7e4000ff&#x27;, &#x27;#7e4100ff&#x27;, &#x27;#7e4100ff&#x27;, &#x27;#7d4100ff&#x27;, &#x27;#7d4100ff&#x27;, &#x27;#7d4100ff&#x27;, &#x27;#7d4100ff&#x27;, &#x27;#7c4100ff&#x27;, &#x27;#7c4200ff&#x27;, &#x27;#7c4200ff&#x27;, &#x27;#7b4200ff&#x27;, &#x27;#7b4200ff&#x27;, &#x27;#7b4200ff&#x27;, &#x27;#7b4200ff&#x27;, &#x27;#7a4200ff&#x27;, &#x27;#7a4200ff&#x27;, &#x27;#7a4300ff&#x27;, &#x27;#794300ff&#x27;, &#x27;#794300ff&#x27;, &#x27;#794300ff&#x27;, &#x27;#794300ff&#x27;, &#x27;#784300ff&#x27;, &#x27;#784300ff&#x27;, &#x27;#784400ff&#x27;, &#x27;#774400ff&#x27;, &#x27;#774400ff&#x27;, &#x27;#774400ff&#x27;, &#x27;#774400ff&#x27;, &#x27;#764400ff&#x27;, &#x27;#764400ff&#x27;, &#x27;#764500ff&#x27;, &#x27;#764500ff&#x27;, &#x27;#754500ff&#x27;, &#x27;#754500ff&#x27;, &#x27;#754500ff&#x27;, &#x27;#744500ff&#x27;, &#x27;#744500ff&#x27;, &#x27;#744600ff&#x27;, &#x27;#744600ff&#x27;, &#x27;#734600ff&#x27;, &#x27;#734600ff&#x27;, &#x27;#734600ff&#x27;]);\n",
              "    \n",
              "\n",
              "    color_map_a86af94edb574e19e74f46dec76f6512.x = d3.scale.linear()\n",
              "              .domain([-1.0, 0.10000000000000009])\n",
              "              .range([0, 450 - 50]);\n",
              "\n",
              "    color_map_a86af94edb574e19e74f46dec76f6512.legend = L.control({position: &#x27;topright&#x27;});\n",
              "    color_map_a86af94edb574e19e74f46dec76f6512.legend.onAdd = function (map) {var div = L.DomUtil.create(&#x27;div&#x27;, &#x27;legend&#x27;); return div};\n",
              "    color_map_a86af94edb574e19e74f46dec76f6512.legend.addTo(map_fa5d28ce0af7268bb5abbb046cc146dc);\n",
              "\n",
              "    color_map_a86af94edb574e19e74f46dec76f6512.xAxis = d3.svg.axis()\n",
              "        .scale(color_map_a86af94edb574e19e74f46dec76f6512.x)\n",
              "        .orient(&quot;top&quot;)\n",
              "        .tickSize(1)\n",
              "        .tickValues([-1, 1]);\n",
              "\n",
              "    color_map_a86af94edb574e19e74f46dec76f6512.svg = d3.select(&quot;.legend.leaflet-control&quot;).append(&quot;svg&quot;)\n",
              "        .attr(&quot;id&quot;, &#x27;legend&#x27;)\n",
              "        .attr(&quot;width&quot;, 450)\n",
              "        .attr(&quot;height&quot;, 40);\n",
              "\n",
              "    color_map_a86af94edb574e19e74f46dec76f6512.g = color_map_a86af94edb574e19e74f46dec76f6512.svg.append(&quot;g&quot;)\n",
              "        .attr(&quot;class&quot;, &quot;key&quot;)\n",
              "        .attr(&quot;transform&quot;, &quot;translate(25,16)&quot;);\n",
              "\n",
              "    color_map_a86af94edb574e19e74f46dec76f6512.g.selectAll(&quot;rect&quot;)\n",
              "        .data(color_map_a86af94edb574e19e74f46dec76f6512.color.range().map(function(d, i) {\n",
              "          return {\n",
              "            x0: i ? color_map_a86af94edb574e19e74f46dec76f6512.x(color_map_a86af94edb574e19e74f46dec76f6512.color.domain()[i - 1]) : color_map_a86af94edb574e19e74f46dec76f6512.x.range()[0],\n",
              "            x1: i &lt; color_map_a86af94edb574e19e74f46dec76f6512.color.domain().length ? color_map_a86af94edb574e19e74f46dec76f6512.x(color_map_a86af94edb574e19e74f46dec76f6512.color.domain()[i]) : color_map_a86af94edb574e19e74f46dec76f6512.x.range()[1],\n",
              "            z: d\n",
              "          };\n",
              "        }))\n",
              "      .enter().append(&quot;rect&quot;)\n",
              "        .attr(&quot;height&quot;, 40 - 30)\n",
              "        .attr(&quot;x&quot;, function(d) { return d.x0; })\n",
              "        .attr(&quot;width&quot;, function(d) { return d.x1 - d.x0; })\n",
              "        .style(&quot;fill&quot;, function(d) { return d.z; });\n",
              "\n",
              "    color_map_a86af94edb574e19e74f46dec76f6512.g.call(color_map_a86af94edb574e19e74f46dec76f6512.xAxis).append(&quot;text&quot;)\n",
              "        .attr(&quot;class&quot;, &quot;caption&quot;)\n",
              "        .attr(&quot;y&quot;, 21)\n",
              "        .text(&quot;&quot;);\n",
              "    \n",
              "            var tile_layer_5536ec1b1eb9f9f5296d00e3aa905c94 = L.tileLayer(\n",
              "                &quot;https://{s}.tile.openstreetmap.org/{z}/{x}/{y}.png&quot;,\n",
              "                {&quot;attribution&quot;: &quot;Data by \\u0026copy; \\u003ca target=\\&quot;_blank\\&quot; href=\\&quot;http://openstreetmap.org\\&quot;\\u003eOpenStreetMap\\u003c/a\\u003e, under \\u003ca target=\\&quot;_blank\\&quot; href=\\&quot;http://www.openstreetmap.org/copyright\\&quot;\\u003eODbL\\u003c/a\\u003e.&quot;, &quot;detectRetina&quot;: false, &quot;maxNativeZoom&quot;: 18, &quot;maxZoom&quot;: 18, &quot;minZoom&quot;: 0, &quot;noWrap&quot;: false, &quot;opacity&quot;: 1, &quot;subdomains&quot;: &quot;abc&quot;, &quot;tms&quot;: false}\n",
              "            );\n",
              "            var mini_map_553d9d982caed48a420c4a51b2ef5c03 = new L.Control.MiniMap(\n",
              "                tile_layer_5536ec1b1eb9f9f5296d00e3aa905c94,\n",
              "                {&quot;autoToggleDisplay&quot;: false, &quot;centerFixed&quot;: false, &quot;collapsedHeight&quot;: 25, &quot;collapsedWidth&quot;: 25, &quot;height&quot;: 150, &quot;minimized&quot;: false, &quot;position&quot;: &quot;bottomright&quot;, &quot;toggleDisplay&quot;: false, &quot;width&quot;: 150, &quot;zoomAnimation&quot;: false, &quot;zoomLevelOffset&quot;: -5}\n",
              "            );\n",
              "            map_fa5d28ce0af7268bb5abbb046cc146dc.addControl(mini_map_553d9d982caed48a420c4a51b2ef5c03);\n",
              "        \n",
              "    \n",
              "            var tile_layer_7bf68ea6a7370ce446903d434cda2e78 = L.tileLayer(\n",
              "                &quot;https://earthengine.googleapis.com/v1alpha/projects/earthengine-legacy/maps/64308779490e582049d66c72aad37f6f-df181ca69fe25d6d333ceccaa4b4f668/tiles/{z}/{x}/{y}&quot;,\n",
              "                {&quot;attribution&quot;: &quot;Google Earth Engine&quot;, &quot;detectRetina&quot;: false, &quot;maxNativeZoom&quot;: 18, &quot;maxZoom&quot;: 18, &quot;minZoom&quot;: 0, &quot;noWrap&quot;: false, &quot;opacity&quot;: 1, &quot;subdomains&quot;: &quot;abc&quot;, &quot;tms&quot;: false}\n",
              "            ).addTo(map_fa5d28ce0af7268bb5abbb046cc146dc);\n",
              "        \n",
              "    \n",
              "    var color_map_88dc744a5c68edfb70fc3fe09c708ab9 = {};\n",
              "\n",
              "    \n",
              "    color_map_88dc744a5c68edfb70fc3fe09c708ab9.color = d3.scale.threshold()\n",
              "              .domain([-0.84, -0.8371142284569137, -0.8342284569138276, -0.8313426853707414, -0.8284569138276553, -0.8255711422845691, -0.822685370741483, -0.8197995991983967, -0.8169138276553106, -0.8140280561122244, -0.8111422845691383, -0.8082565130260521, -0.805370741482966, -0.8024849699398797, -0.7995991983967936, -0.7967134268537074, -0.7938276553106212, -0.790941883767535, -0.7880561122244488, -0.7851703406813627, -0.7822845691382765, -0.7793987975951904, -0.7765130260521041, -0.773627254509018, -0.7707414829659318, -0.7678557114228457, -0.7649699398797595, -0.7620841683366734, -0.7591983967935871, -0.756312625250501, -0.7534268537074148, -0.7505410821643286, -0.7476553106212425, -0.7447695390781564, -0.7418837675350701, -0.7389979959919839, -0.7361122244488978, -0.7332264529058116, -0.7303406813627255, -0.7274549098196392, -0.7245691382765531, -0.7216833667334669, -0.7187975951903808, -0.7159118236472946, -0.7130260521042084, -0.7101402805611222, -0.707254509018036, -0.7043687374749499, -0.7014829659318637, -0.6985971943887775, -0.6957114228456913, -0.6928256513026052, -0.689939879759519, -0.6870541082164329, -0.6841683366733466, -0.6812825651302605, -0.6783967935871743, -0.6755110220440881, -0.672625250501002, -0.6697394789579159, -0.6668537074148296, -0.6639679358717434, -0.6610821643286573, -0.6581963927855712, -0.655310621242485, -0.6524248496993987, -0.6495390781563126, -0.6466533066132265, -0.6437675350701403, -0.6408817635270541, -0.637995991983968, -0.6351102204408817, -0.6322244488977956, -0.6293386773547094, -0.6264529058116233, -0.623567134268537, -0.6206813627254508, -0.6177955911823647, -0.6149098196392786, -0.6120240480961924, -0.6091382765531062, -0.60625250501002, -0.6033667334669338, -0.6004809619238477, -0.5975951903807615, -0.5947094188376754, -0.5918236472945891, -0.5889378757515029, -0.5860521042084168, -0.5831663326653307, -0.5802805611222445, -0.5773947895791582, -0.5745090180360721, -0.571623246492986, -0.5687374749498998, -0.5658517034068136, -0.5629659318637275, -0.5600801603206412, -0.557194388777555, -0.5543086172344689, -0.5514228456913828, -0.5485370741482966, -0.5456513026052103, -0.5427655310621242, -0.5398797595190381, -0.5369939879759519, -0.5341082164328657, -0.5312224448897795, -0.5283366733466934, -0.5254509018036071, -0.522565130260521, -0.5196793587174349, -0.5167935871743486, -0.5139078156312624, -0.5110220440881763, -0.5081362725450902, -0.505250501002004, -0.5023647294589177, -0.49947895791583163, -0.49659318637274547, -0.4937074148296593, -0.49082164328657313, -0.4879358717434869, -0.48505010020040074, -0.48216432865731457, -0.4792785571142284, -0.4763927855711423, -0.4735070140280561, -0.47062124248496995, -0.4677354709418838, -0.4648496993987976, -0.46196392785571144, -0.4590781563126253, -0.4561923847695391, -0.45330661322645294, -0.4504208416833667, -0.44753507014028054, -0.4446492985971944, -0.4417635270541082, -0.43887775551102204, -0.43599198396793587, -0.4331062124248497, -0.43022044088176353, -0.42733466933867736, -0.4244488977955912, -0.421563126252505, -0.41867735470941886, -0.4157915831663327, -0.41290581162324647, -0.4100200400801603, -0.40713426853707413, -0.40424849699398796, -0.4013627254509018, -0.3984769539078156, -0.39559118236472945, -0.3927054108216433, -0.3898196392785571, -0.38693386773547095, -0.3840480961923848, -0.3811623246492986, -0.37827655310621244, -0.3753907815631262, -0.37250501002004005, -0.3696192384769539, -0.3667334669338677, -0.36384769539078154, -0.3609619238476954, -0.3580761523046092, -0.35519038076152304, -0.35230460921843687, -0.3494188376753507, -0.34653306613226453, -0.34364729458917836, -0.34076152304609214, -0.33787575150300597, -0.33498997995991986, -0.33210420841683364, -0.3292184368737475, -0.3263326653306613, -0.3234468937875752, -0.32056112224448896, -0.31767535070140285, -0.3147895791583166, -0.3119038076152305, -0.3090180360721443, -0.3061322645290582, -0.30324649298597195, -0.30036072144288584, -0.2974749498997996, -0.2945891783567135, -0.2917034068136273, -0.28881763527054116, -0.2859318637274548, -0.2830460921843687, -0.2801603206412825, -0.2772745490981964, -0.27438877755511015, -0.27150300601202404, -0.2686172344689378, -0.2657314629258517, -0.2628456913827655, -0.25995991983967937, -0.25707414829659314, -0.25418837675350703, -0.2513026052104208, -0.2484168336673347, -0.24553106212424847, -0.24264529058116235, -0.23975951903807613, -0.23687374749499002, -0.2339879759519038, -0.23110220440881768, -0.22821643286573146, -0.22533066132264534, -0.22244488977955912, -0.219559118236473, -0.21667334669338678, -0.21378757515030067, -0.21090180360721433, -0.20801603206412822, -0.205130260521042, -0.20224448897795588, -0.19935871743486966, -0.19647294589178355, -0.19358717434869732, -0.1907014028056112, -0.18781563126252498, -0.18492985971943887, -0.18204408817635265, -0.17915831663326653, -0.1762725450901803, -0.1733867735470942, -0.17050100200400797, -0.16761523046092186, -0.16472945891783564, -0.16184368737474952, -0.1589579158316633, -0.15607214428857719, -0.15318637274549096, -0.15030060120240485, -0.14741482965931862, -0.1445290581162325, -0.1416432865731463, -0.13875751503006017, -0.13587174348697384, -0.13298597194388773, -0.1301002004008015, -0.1272144288577154, -0.12432865731462917, -0.12144288577154305, -0.11855711422845683, -0.11567134268537071, -0.1127855711422846, -0.10989979959919838, -0.10701402805611226, -0.10412825651302604, -0.10124248496993993, -0.0983567134268537, -0.09547094188376759, -0.09258517034068137, -0.08969939879759525, -0.08681362725450903, -0.08392785571142292, -0.08104208416833669, -0.07815631262525058, -0.07527054108216436, -0.07238476953907824, -0.06949899799599202, -0.0666132264529059, -0.06372745490981957, -0.06084168336673346, -0.05795591182364723, -0.05507014028056112, -0.052184368737474895, -0.04929859719438878, -0.04641282565130256, -0.043527054108216445, -0.04064128256513022, -0.03775551102204411, -0.034869739478957884, -0.03198396793587177, -0.029098196392785547, -0.026212424849699434, -0.02332665330661321, -0.020440881763527097, -0.017555110220440873, -0.01466933867735476, -0.011783567134268536, -0.008897795591182422, -0.006012024048096198, -0.0031262525050100853, -0.00024048096192386126, 0.002645290581162252, 0.005531062124248476, 0.008416833667334589, 0.011302605210420924, 0.014188376753507037, 0.01707414829659326, 0.019959919839679374, 0.0228456913827656, 0.02573146292585171, 0.028617234468937935, 0.03150300601202405, 0.03438877755511027, 0.037274549098196386, 0.04016032064128261, 0.04304609218436872, 0.04593186372745495, 0.04881763527054106, 0.051703406813627284, 0.0545891783567134, 0.05747494989979962, 0.060360721442885734, 0.06324649298597196, 0.06613226452905807, 0.0690180360721443, 0.07190380761523041, 0.07478957915831663, 0.07767535070140275, 0.08056112224448897, 0.08344689378757508, 0.08633266533066142, 0.08921843687374753, 0.09210420841683375, 0.09498997995991987, 0.09787575150300609, 0.1007615230460922, 0.10364729458917843, 0.10653306613226454, 0.10941883767535077, 0.11230460921843688, 0.1151903807615231, 0.11807615230460922, 0.12096192384769544, 0.12384769539078155, 0.12673346693386767, 0.1296192384769539, 0.13250501002004, 0.13539078156312623, 0.13827655310621234, 0.14116232464929857, 0.14404809619238468, 0.1469338677354709, 0.14981963927855702, 0.15270541082164324, 0.15559118236472935, 0.1584769539078157, 0.1613627254509019, 0.16424849699398802, 0.16713426853707414, 0.17002004008016025, 0.17290581162324659, 0.1757915831663327, 0.1786773547094188, 0.18156312625250492, 0.18444889779559126, 0.18733466933867737, 0.1902204408817635, 0.1931062124248496, 0.19599198396793593, 0.19887775551102205, 0.20176352705410838, 0.20464929859719427, 0.2075350701402806, 0.21042084168336672, 0.21330661322645306, 0.21619238476953895, 0.21907815631262528, 0.2219639278557114, 0.22484969939879773, 0.22773547094188362, 0.23062124248496996, 0.23350701402805607, 0.2363927855711424, 0.2392785571142283, 0.24216432865731463, 0.24505010020040074, 0.24793587174348708, 0.25082164328657297, 0.2537074148296593, 0.2565931863727454, 0.25947895791583175, 0.26236472945891764, 0.265250501002004, 0.2681362725450903, 0.27102204408817643, 0.27390781563126254, 0.27679358717434865, 0.279679358717435, 0.2825651302605211, 0.2854509018036072, 0.28833667334669333, 0.29122244488977966, 0.2941082164328658, 0.2969939879759519, 0.299879759519038, 0.30276553106212434, 0.30565130260521045, 0.30853707414829656, 0.3114228456913827, 0.314308617234469, 0.3171943887775551, 0.32008016032064124, 0.32296593186372735, 0.3258517034068137, 0.3287374749498998, 0.3316232464929859, 0.334509018036072, 0.33739478957915836, 0.3402805611222445, 0.3431663326653306, 0.3460521042084169, 0.34893787575150303, 0.35182364729458937, 0.35470941883767526, 0.3575951903807616, 0.3604809619238477, 0.36336673346693404, 0.36625250501001994, 0.36913827655310627, 0.3720240480961924, 0.3749098196392785, 0.3777955911823646, 0.38068136272545094, 0.38356713426853706, 0.38645290581162317, 0.3893386773547093, 0.3922244488977956, 0.39511022044088173, 0.39799599198396785, 0.40088176352705396, 0.4037675350701403, 0.4066533066132264, 0.4095390781563125, 0.41242484969939863, 0.41531062124248497, 0.4181963927855713, 0.4210821643286572, 0.42396793587174353, 0.42685370741482964, 0.429739478957916, 0.43262525050100187, 0.4355110220440882, 0.4383967935871743, 0.44128256513026065, 0.44416833667334654, 0.4470541082164329, 0.449939879759519, 0.4528256513026053, 0.4557114228456912, 0.45859719438877755, 0.46148296593186366, 0.46436873747495, 0.4672545090180359, 0.4701402805611222, 0.47302605210420834, 0.4759118236472947, 0.47879759519038056, 0.4816833667334669, 0.484569138276553, 0.48745490981963935, 0.49034068136272546, 0.4932264529058116, 0.4961122244488979, 0.498997995991984, 0.5018837675350701, 0.5047695390781562, 0.5076553106212426, 0.5105410821643287, 0.5134268537074148, 0.5163126252505009, 0.5191983967935873, 0.5220841683366734, 0.5249699398797595, 0.5278557114228456, 0.5307414829659319, 0.533627254509018, 0.5365130260521042, 0.5393987975951903, 0.5422845691382766, 0.5451703406813627, 0.5480561122244488, 0.550941883767535, 0.5538276553106213, 0.5567134268537074, 0.5595991983967935, 0.5624849699398796, 0.565370741482966, 0.5682565130260523, 0.5711422845691382, 0.5740280561122245, 0.5769138276553106, 0.579799599198397, 0.5826853707414829, 0.5855711422845692, 0.5884569138276553, 0.5913426853707416, 0.5942284569138275, 0.5971142284569139, 0.6])\n",
              "              .range([&#x27;#f50500ff&#x27;, &#x27;#f50500ff&#x27;, &#x27;#f40500ff&#x27;, &#x27;#f40500ff&#x27;, &#x27;#f30600ff&#x27;, &#x27;#f30600ff&#x27;, &#x27;#f20600ff&#x27;, &#x27;#f20600ff&#x27;, &#x27;#f10700ff&#x27;, &#x27;#f10700ff&#x27;, &#x27;#f00700ff&#x27;, &#x27;#f00700ff&#x27;, &#x27;#ef0800ff&#x27;, &#x27;#ef0800ff&#x27;, &#x27;#ee0800ff&#x27;, &#x27;#ee0800ff&#x27;, &#x27;#ed0900ff&#x27;, &#x27;#ed0900ff&#x27;, &#x27;#ec0900ff&#x27;, &#x27;#ec0900ff&#x27;, &#x27;#eb0a00ff&#x27;, &#x27;#eb0a00ff&#x27;, &#x27;#ea0a00ff&#x27;, &#x27;#ea0a00ff&#x27;, &#x27;#e90b00ff&#x27;, &#x27;#e90b00ff&#x27;, &#x27;#e80b00ff&#x27;, &#x27;#e80b00ff&#x27;, &#x27;#e70c00ff&#x27;, &#x27;#e70c00ff&#x27;, &#x27;#e60c00ff&#x27;, &#x27;#e60c00ff&#x27;, &#x27;#e50d00ff&#x27;, &#x27;#e50d00ff&#x27;, &#x27;#e50d00ff&#x27;, &#x27;#e40d00ff&#x27;, &#x27;#e40e00ff&#x27;, &#x27;#e30e00ff&#x27;, &#x27;#e30e00ff&#x27;, &#x27;#e20e00ff&#x27;, &#x27;#e20f00ff&#x27;, &#x27;#e10f00ff&#x27;, &#x27;#e10f00ff&#x27;, &#x27;#e00f00ff&#x27;, &#x27;#e01000ff&#x27;, &#x27;#df1000ff&#x27;, &#x27;#df1000ff&#x27;, &#x27;#de1000ff&#x27;, &#x27;#de1100ff&#x27;, &#x27;#dd1100ff&#x27;, &#x27;#dd1100ff&#x27;, &#x27;#dc1100ff&#x27;, &#x27;#dc1100ff&#x27;, &#x27;#db1200ff&#x27;, &#x27;#db1200ff&#x27;, &#x27;#da1200ff&#x27;, &#x27;#da1200ff&#x27;, &#x27;#d91300ff&#x27;, &#x27;#d91300ff&#x27;, &#x27;#d81300ff&#x27;, &#x27;#d81300ff&#x27;, &#x27;#d71400ff&#x27;, &#x27;#d71400ff&#x27;, &#x27;#d61400ff&#x27;, &#x27;#d61400ff&#x27;, &#x27;#d51500ff&#x27;, &#x27;#d51500ff&#x27;, &#x27;#d41500ff&#x27;, &#x27;#d41500ff&#x27;, &#x27;#d31600ff&#x27;, &#x27;#d31600ff&#x27;, &#x27;#d21600ff&#x27;, &#x27;#d21600ff&#x27;, &#x27;#d11700ff&#x27;, &#x27;#d11700ff&#x27;, &#x27;#d01700ff&#x27;, &#x27;#d01700ff&#x27;, &#x27;#cf1800ff&#x27;, &#x27;#cf1800ff&#x27;, &#x27;#ce1800ff&#x27;, &#x27;#ce1800ff&#x27;, &#x27;#cd1900ff&#x27;, &#x27;#cd1900ff&#x27;, &#x27;#cc1900ff&#x27;, &#x27;#cc1900ff&#x27;, &#x27;#cb1a00ff&#x27;, &#x27;#cb1a00ff&#x27;, &#x27;#ca1a00ff&#x27;, &#x27;#ca1a00ff&#x27;, &#x27;#c91b00ff&#x27;, &#x27;#c91b00ff&#x27;, &#x27;#c81b00ff&#x27;, &#x27;#c81b00ff&#x27;, &#x27;#c71c00ff&#x27;, &#x27;#c71c00ff&#x27;, &#x27;#c61c00ff&#x27;, &#x27;#c61c00ff&#x27;, &#x27;#c51d00ff&#x27;, &#x27;#c51d00ff&#x27;, &#x27;#c51d00ff&#x27;, &#x27;#c41d00ff&#x27;, &#x27;#c41e00ff&#x27;, &#x27;#c31e00ff&#x27;, &#x27;#c31e00ff&#x27;, &#x27;#c21e00ff&#x27;, &#x27;#c21f00ff&#x27;, &#x27;#c11f00ff&#x27;, &#x27;#c11f00ff&#x27;, &#x27;#c01f00ff&#x27;, &#x27;#c02000ff&#x27;, &#x27;#bf2000ff&#x27;, &#x27;#bf2000ff&#x27;, &#x27;#be2000ff&#x27;, &#x27;#be2100ff&#x27;, &#x27;#bd2100ff&#x27;, &#x27;#bd2100ff&#x27;, &#x27;#bc2100ff&#x27;, &#x27;#bc2200ff&#x27;, &#x27;#bb2200ff&#x27;, &#x27;#bb2200ff&#x27;, &#x27;#ba2200ff&#x27;, &#x27;#ba2300ff&#x27;, &#x27;#b92300ff&#x27;, &#x27;#b92300ff&#x27;, &#x27;#b82300ff&#x27;, &#x27;#b82400ff&#x27;, &#x27;#b72400ff&#x27;, &#x27;#b72400ff&#x27;, &#x27;#b62400ff&#x27;, &#x27;#b62500ff&#x27;, &#x27;#b52500ff&#x27;, &#x27;#b52500ff&#x27;, &#x27;#b42500ff&#x27;, &#x27;#b42600ff&#x27;, &#x27;#b32600ff&#x27;, &#x27;#b32600ff&#x27;, &#x27;#b22600ff&#x27;, &#x27;#b22700ff&#x27;, &#x27;#b12700ff&#x27;, &#x27;#b12700ff&#x27;, &#x27;#b02700ff&#x27;, &#x27;#b02700ff&#x27;, &#x27;#af2800ff&#x27;, &#x27;#af2800ff&#x27;, &#x27;#ae2800ff&#x27;, &#x27;#ae2800ff&#x27;, &#x27;#ad2900ff&#x27;, &#x27;#ad2900ff&#x27;, &#x27;#ac2900ff&#x27;, &#x27;#ac2900ff&#x27;, &#x27;#ab2a00ff&#x27;, &#x27;#ab2a00ff&#x27;, &#x27;#aa2a00ff&#x27;, &#x27;#aa2a00ff&#x27;, &#x27;#a92b00ff&#x27;, &#x27;#a92b00ff&#x27;, &#x27;#a82b00ff&#x27;, &#x27;#a82b00ff&#x27;, &#x27;#a72c00ff&#x27;, &#x27;#a72c00ff&#x27;, &#x27;#a62c00ff&#x27;, &#x27;#a62c00ff&#x27;, &#x27;#a52d00ff&#x27;, &#x27;#a52d00ff&#x27;, &#x27;#a42d00ff&#x27;, &#x27;#a42d00ff&#x27;, &#x27;#a42e00ff&#x27;, &#x27;#a32e00ff&#x27;, &#x27;#a32e00ff&#x27;, &#x27;#a22e00ff&#x27;, &#x27;#a22f00ff&#x27;, &#x27;#a12f00ff&#x27;, &#x27;#a12f00ff&#x27;, &#x27;#a02f00ff&#x27;, &#x27;#a03000ff&#x27;, &#x27;#9f3000ff&#x27;, &#x27;#9f3000ff&#x27;, &#x27;#9e3000ff&#x27;, &#x27;#9e3100ff&#x27;, &#x27;#9d3100ff&#x27;, &#x27;#9d3100ff&#x27;, &#x27;#9c3100ff&#x27;, &#x27;#9c3200ff&#x27;, &#x27;#9b3200ff&#x27;, &#x27;#9b3200ff&#x27;, &#x27;#9a3200ff&#x27;, &#x27;#9a3300ff&#x27;, &#x27;#993300ff&#x27;, &#x27;#993300ff&#x27;, &#x27;#983300ff&#x27;, &#x27;#983400ff&#x27;, &#x27;#973400ff&#x27;, &#x27;#973400ff&#x27;, &#x27;#963400ff&#x27;, &#x27;#963500ff&#x27;, &#x27;#953500ff&#x27;, &#x27;#953500ff&#x27;, &#x27;#943500ff&#x27;, &#x27;#943600ff&#x27;, &#x27;#933600ff&#x27;, &#x27;#933600ff&#x27;, &#x27;#923600ff&#x27;, &#x27;#923700ff&#x27;, &#x27;#913700ff&#x27;, &#x27;#913700ff&#x27;, &#x27;#903700ff&#x27;, &#x27;#903800ff&#x27;, &#x27;#8f3800ff&#x27;, &#x27;#8f3800ff&#x27;, &#x27;#8e3800ff&#x27;, &#x27;#8e3900ff&#x27;, &#x27;#8d3900ff&#x27;, &#x27;#8d3900ff&#x27;, &#x27;#8c3900ff&#x27;, &#x27;#8c3a00ff&#x27;, &#x27;#8b3a00ff&#x27;, &#x27;#8b3a00ff&#x27;, &#x27;#8a3a00ff&#x27;, &#x27;#8a3b00ff&#x27;, &#x27;#893b00ff&#x27;, &#x27;#893b00ff&#x27;, &#x27;#883b00ff&#x27;, &#x27;#883c00ff&#x27;, &#x27;#873c00ff&#x27;, &#x27;#873c00ff&#x27;, &#x27;#863c00ff&#x27;, &#x27;#863d00ff&#x27;, &#x27;#853d00ff&#x27;, &#x27;#853d00ff&#x27;, &#x27;#843d00ff&#x27;, &#x27;#843e00ff&#x27;, &#x27;#833e00ff&#x27;, &#x27;#833e00ff&#x27;, &#x27;#833e00ff&#x27;, &#x27;#823e00ff&#x27;, &#x27;#823f00ff&#x27;, &#x27;#813f00ff&#x27;, &#x27;#813f00ff&#x27;, &#x27;#803f00ff&#x27;, &#x27;#804000ff&#x27;, &#x27;#7f4000ff&#x27;, &#x27;#7f4000ff&#x27;, &#x27;#7e4000ff&#x27;, &#x27;#7e4100ff&#x27;, &#x27;#7d4100ff&#x27;, &#x27;#7d4100ff&#x27;, &#x27;#7c4100ff&#x27;, &#x27;#7c4200ff&#x27;, &#x27;#7b4200ff&#x27;, &#x27;#7b4200ff&#x27;, &#x27;#7a4200ff&#x27;, &#x27;#7a4300ff&#x27;, &#x27;#794300ff&#x27;, &#x27;#794300ff&#x27;, &#x27;#784300ff&#x27;, &#x27;#784400ff&#x27;, &#x27;#774400ff&#x27;, &#x27;#774400ff&#x27;, &#x27;#764400ff&#x27;, &#x27;#764500ff&#x27;, &#x27;#754500ff&#x27;, &#x27;#754500ff&#x27;, &#x27;#744500ff&#x27;, &#x27;#744600ff&#x27;, &#x27;#734600ff&#x27;, &#x27;#734600ff&#x27;, &#x27;#724600ff&#x27;, &#x27;#724700ff&#x27;, &#x27;#714700ff&#x27;, &#x27;#714700ff&#x27;, &#x27;#704700ff&#x27;, &#x27;#704800ff&#x27;, &#x27;#6f4800ff&#x27;, &#x27;#6f4800ff&#x27;, &#x27;#6e4800ff&#x27;, &#x27;#6e4900ff&#x27;, &#x27;#6d4900ff&#x27;, &#x27;#6d4900ff&#x27;, &#x27;#6c4900ff&#x27;, &#x27;#6c4a00ff&#x27;, &#x27;#6b4a00ff&#x27;, &#x27;#6b4a00ff&#x27;, &#x27;#6a4a00ff&#x27;, &#x27;#6a4b00ff&#x27;, &#x27;#694b00ff&#x27;, &#x27;#694b00ff&#x27;, &#x27;#684b00ff&#x27;, &#x27;#684c00ff&#x27;, &#x27;#674c00ff&#x27;, &#x27;#674c00ff&#x27;, &#x27;#664c00ff&#x27;, &#x27;#664d00ff&#x27;, &#x27;#654d00ff&#x27;, &#x27;#654d00ff&#x27;, &#x27;#644d00ff&#x27;, &#x27;#644e00ff&#x27;, &#x27;#634e00ff&#x27;, &#x27;#634e00ff&#x27;, &#x27;#624e00ff&#x27;, &#x27;#624f00ff&#x27;, &#x27;#624f00ff&#x27;, &#x27;#614f00ff&#x27;, &#x27;#614f00ff&#x27;, &#x27;#605000ff&#x27;, &#x27;#605000ff&#x27;, &#x27;#5f5000ff&#x27;, &#x27;#5f5000ff&#x27;, &#x27;#5e5100ff&#x27;, &#x27;#5e5100ff&#x27;, &#x27;#5d5100ff&#x27;, &#x27;#5d5100ff&#x27;, &#x27;#5c5200ff&#x27;, &#x27;#5c5200ff&#x27;, &#x27;#5b5200ff&#x27;, &#x27;#5b5200ff&#x27;, &#x27;#5a5300ff&#x27;, &#x27;#5a5300ff&#x27;, &#x27;#595300ff&#x27;, &#x27;#595300ff&#x27;, &#x27;#585400ff&#x27;, &#x27;#585400ff&#x27;, &#x27;#575400ff&#x27;, &#x27;#575400ff&#x27;, &#x27;#565400ff&#x27;, &#x27;#565500ff&#x27;, &#x27;#555500ff&#x27;, &#x27;#555500ff&#x27;, &#x27;#545500ff&#x27;, &#x27;#545600ff&#x27;, &#x27;#535600ff&#x27;, &#x27;#535600ff&#x27;, &#x27;#525600ff&#x27;, &#x27;#525700ff&#x27;, &#x27;#515700ff&#x27;, &#x27;#515700ff&#x27;, &#x27;#505700ff&#x27;, &#x27;#505800ff&#x27;, &#x27;#4f5800ff&#x27;, &#x27;#4f5800ff&#x27;, &#x27;#4e5800ff&#x27;, &#x27;#4e5900ff&#x27;, &#x27;#4d5900ff&#x27;, &#x27;#4d5900ff&#x27;, &#x27;#4c5900ff&#x27;, &#x27;#4c5a00ff&#x27;, &#x27;#4b5a00ff&#x27;, &#x27;#4b5a00ff&#x27;, &#x27;#4a5a00ff&#x27;, &#x27;#4a5b00ff&#x27;, &#x27;#495b00ff&#x27;, &#x27;#495b00ff&#x27;, &#x27;#485b00ff&#x27;, &#x27;#485c00ff&#x27;, &#x27;#475c00ff&#x27;, &#x27;#475c00ff&#x27;, &#x27;#465c00ff&#x27;, &#x27;#465d00ff&#x27;, &#x27;#455d00ff&#x27;, &#x27;#455d00ff&#x27;, &#x27;#445d00ff&#x27;, &#x27;#445e00ff&#x27;, &#x27;#435e00ff&#x27;, &#x27;#435e00ff&#x27;, &#x27;#425e00ff&#x27;, &#x27;#425f00ff&#x27;, &#x27;#415f00ff&#x27;, &#x27;#415f00ff&#x27;, &#x27;#415f00ff&#x27;, &#x27;#406000ff&#x27;, &#x27;#406000ff&#x27;, &#x27;#3f6000ff&#x27;, &#x27;#3f6000ff&#x27;, &#x27;#3e6100ff&#x27;, &#x27;#3e6100ff&#x27;, &#x27;#3d6100ff&#x27;, &#x27;#3d6100ff&#x27;, &#x27;#3c6200ff&#x27;, &#x27;#3c6200ff&#x27;, &#x27;#3b6200ff&#x27;, &#x27;#3b6200ff&#x27;, &#x27;#3a6300ff&#x27;, &#x27;#3a6300ff&#x27;, &#x27;#396300ff&#x27;, &#x27;#396300ff&#x27;, &#x27;#386400ff&#x27;, &#x27;#386400ff&#x27;, &#x27;#376400ff&#x27;, &#x27;#376400ff&#x27;, &#x27;#366500ff&#x27;, &#x27;#366500ff&#x27;, &#x27;#356500ff&#x27;, &#x27;#356500ff&#x27;, &#x27;#346600ff&#x27;, &#x27;#346600ff&#x27;, &#x27;#336600ff&#x27;, &#x27;#336600ff&#x27;, &#x27;#326700ff&#x27;, &#x27;#326700ff&#x27;, &#x27;#316700ff&#x27;, &#x27;#316700ff&#x27;, &#x27;#306800ff&#x27;, &#x27;#306800ff&#x27;, &#x27;#2f6800ff&#x27;, &#x27;#2f6800ff&#x27;, &#x27;#2e6900ff&#x27;, &#x27;#2e6900ff&#x27;, &#x27;#2d6900ff&#x27;, &#x27;#2d6900ff&#x27;, &#x27;#2c6a00ff&#x27;, &#x27;#2c6a00ff&#x27;, &#x27;#2b6a00ff&#x27;, &#x27;#2b6a00ff&#x27;, &#x27;#2a6a00ff&#x27;, &#x27;#2a6b00ff&#x27;, &#x27;#296b00ff&#x27;, &#x27;#296b00ff&#x27;, &#x27;#286b00ff&#x27;, &#x27;#286c00ff&#x27;, &#x27;#276c00ff&#x27;, &#x27;#276c00ff&#x27;, &#x27;#266c00ff&#x27;, &#x27;#266d00ff&#x27;, &#x27;#256d00ff&#x27;, &#x27;#256d00ff&#x27;, &#x27;#246d00ff&#x27;, &#x27;#246e00ff&#x27;, &#x27;#236e00ff&#x27;, &#x27;#236e00ff&#x27;, &#x27;#226e00ff&#x27;, &#x27;#226f00ff&#x27;, &#x27;#216f00ff&#x27;, &#x27;#216f00ff&#x27;, &#x27;#206f00ff&#x27;, &#x27;#207000ff&#x27;, &#x27;#207000ff&#x27;, &#x27;#1f7000ff&#x27;, &#x27;#1f7000ff&#x27;, &#x27;#1e7100ff&#x27;, &#x27;#1e7100ff&#x27;, &#x27;#1d7100ff&#x27;, &#x27;#1d7100ff&#x27;, &#x27;#1c7200ff&#x27;, &#x27;#1c7200ff&#x27;, &#x27;#1b7200ff&#x27;, &#x27;#1b7200ff&#x27;, &#x27;#1a7300ff&#x27;, &#x27;#1a7300ff&#x27;, &#x27;#197300ff&#x27;, &#x27;#197300ff&#x27;, &#x27;#187400ff&#x27;, &#x27;#187400ff&#x27;, &#x27;#177400ff&#x27;, &#x27;#177400ff&#x27;, &#x27;#167500ff&#x27;, &#x27;#167500ff&#x27;, &#x27;#157500ff&#x27;, &#x27;#157500ff&#x27;, &#x27;#147600ff&#x27;, &#x27;#147600ff&#x27;, &#x27;#137600ff&#x27;, &#x27;#137600ff&#x27;, &#x27;#127700ff&#x27;, &#x27;#127700ff&#x27;, &#x27;#117700ff&#x27;, &#x27;#117700ff&#x27;, &#x27;#107800ff&#x27;, &#x27;#107800ff&#x27;, &#x27;#0f7800ff&#x27;, &#x27;#0f7800ff&#x27;, &#x27;#0e7900ff&#x27;, &#x27;#0e7900ff&#x27;, &#x27;#0d7900ff&#x27;, &#x27;#0d7900ff&#x27;, &#x27;#0c7a00ff&#x27;, &#x27;#0c7a00ff&#x27;, &#x27;#0b7a00ff&#x27;, &#x27;#0b7a00ff&#x27;, &#x27;#0a7b00ff&#x27;, &#x27;#0a7b00ff&#x27;, &#x27;#097b00ff&#x27;, &#x27;#097b00ff&#x27;, &#x27;#087c00ff&#x27;, &#x27;#087c00ff&#x27;, &#x27;#077c00ff&#x27;, &#x27;#077c00ff&#x27;, &#x27;#067d00ff&#x27;, &#x27;#067d00ff&#x27;, &#x27;#057d00ff&#x27;, &#x27;#057d00ff&#x27;, &#x27;#047e00ff&#x27;, &#x27;#047e00ff&#x27;, &#x27;#037e00ff&#x27;, &#x27;#037e00ff&#x27;, &#x27;#027f00ff&#x27;, &#x27;#027f00ff&#x27;, &#x27;#017f00ff&#x27;, &#x27;#017f00ff&#x27;, &#x27;#008000ff&#x27;, &#x27;#008000ff&#x27;, &#x27;#008000ff&#x27;]);\n",
              "    \n",
              "\n",
              "    color_map_88dc744a5c68edfb70fc3fe09c708ab9.x = d3.scale.linear()\n",
              "              .domain([-0.84, 0.6])\n",
              "              .range([0, 450 - 50]);\n",
              "\n",
              "    color_map_88dc744a5c68edfb70fc3fe09c708ab9.legend = L.control({position: &#x27;topright&#x27;});\n",
              "    color_map_88dc744a5c68edfb70fc3fe09c708ab9.legend.onAdd = function (map) {var div = L.DomUtil.create(&#x27;div&#x27;, &#x27;legend&#x27;); return div};\n",
              "    color_map_88dc744a5c68edfb70fc3fe09c708ab9.legend.addTo(map_fa5d28ce0af7268bb5abbb046cc146dc);\n",
              "\n",
              "    color_map_88dc744a5c68edfb70fc3fe09c708ab9.xAxis = d3.svg.axis()\n",
              "        .scale(color_map_88dc744a5c68edfb70fc3fe09c708ab9.x)\n",
              "        .orient(&quot;top&quot;)\n",
              "        .tickSize(1)\n",
              "        .tickValues([-0.9, 0.6]);\n",
              "\n",
              "    color_map_88dc744a5c68edfb70fc3fe09c708ab9.svg = d3.select(&quot;.legend.leaflet-control&quot;).append(&quot;svg&quot;)\n",
              "        .attr(&quot;id&quot;, &#x27;legend&#x27;)\n",
              "        .attr(&quot;width&quot;, 450)\n",
              "        .attr(&quot;height&quot;, 40);\n",
              "\n",
              "    color_map_88dc744a5c68edfb70fc3fe09c708ab9.g = color_map_88dc744a5c68edfb70fc3fe09c708ab9.svg.append(&quot;g&quot;)\n",
              "        .attr(&quot;class&quot;, &quot;key&quot;)\n",
              "        .attr(&quot;transform&quot;, &quot;translate(25,16)&quot;);\n",
              "\n",
              "    color_map_88dc744a5c68edfb70fc3fe09c708ab9.g.selectAll(&quot;rect&quot;)\n",
              "        .data(color_map_88dc744a5c68edfb70fc3fe09c708ab9.color.range().map(function(d, i) {\n",
              "          return {\n",
              "            x0: i ? color_map_88dc744a5c68edfb70fc3fe09c708ab9.x(color_map_88dc744a5c68edfb70fc3fe09c708ab9.color.domain()[i - 1]) : color_map_88dc744a5c68edfb70fc3fe09c708ab9.x.range()[0],\n",
              "            x1: i &lt; color_map_88dc744a5c68edfb70fc3fe09c708ab9.color.domain().length ? color_map_88dc744a5c68edfb70fc3fe09c708ab9.x(color_map_88dc744a5c68edfb70fc3fe09c708ab9.color.domain()[i]) : color_map_88dc744a5c68edfb70fc3fe09c708ab9.x.range()[1],\n",
              "            z: d\n",
              "          };\n",
              "        }))\n",
              "      .enter().append(&quot;rect&quot;)\n",
              "        .attr(&quot;height&quot;, 40 - 30)\n",
              "        .attr(&quot;x&quot;, function(d) { return d.x0; })\n",
              "        .attr(&quot;width&quot;, function(d) { return d.x1 - d.x0; })\n",
              "        .style(&quot;fill&quot;, function(d) { return d.z; });\n",
              "\n",
              "    color_map_88dc744a5c68edfb70fc3fe09c708ab9.g.call(color_map_88dc744a5c68edfb70fc3fe09c708ab9.xAxis).append(&quot;text&quot;)\n",
              "        .attr(&quot;class&quot;, &quot;caption&quot;)\n",
              "        .attr(&quot;y&quot;, 21)\n",
              "        .text(&quot;&quot;);\n",
              "    \n",
              "            var tile_layer_ab7dcb6b32c5a115cfd35beb1b7217b1 = L.tileLayer(\n",
              "                &quot;https://{s}.tile.openstreetmap.org/{z}/{x}/{y}.png&quot;,\n",
              "                {&quot;attribution&quot;: &quot;Data by \\u0026copy; \\u003ca target=\\&quot;_blank\\&quot; href=\\&quot;http://openstreetmap.org\\&quot;\\u003eOpenStreetMap\\u003c/a\\u003e, under \\u003ca target=\\&quot;_blank\\&quot; href=\\&quot;http://www.openstreetmap.org/copyright\\&quot;\\u003eODbL\\u003c/a\\u003e.&quot;, &quot;detectRetina&quot;: false, &quot;maxNativeZoom&quot;: 18, &quot;maxZoom&quot;: 18, &quot;minZoom&quot;: 0, &quot;noWrap&quot;: false, &quot;opacity&quot;: 1, &quot;subdomains&quot;: &quot;abc&quot;, &quot;tms&quot;: false}\n",
              "            );\n",
              "            var mini_map_d3fa2b0b210f12166124514ed82f5cee = new L.Control.MiniMap(\n",
              "                tile_layer_ab7dcb6b32c5a115cfd35beb1b7217b1,\n",
              "                {&quot;autoToggleDisplay&quot;: false, &quot;centerFixed&quot;: false, &quot;collapsedHeight&quot;: 25, &quot;collapsedWidth&quot;: 25, &quot;height&quot;: 150, &quot;minimized&quot;: false, &quot;position&quot;: &quot;bottomright&quot;, &quot;toggleDisplay&quot;: false, &quot;width&quot;: 150, &quot;zoomAnimation&quot;: false, &quot;zoomLevelOffset&quot;: -5}\n",
              "            );\n",
              "            map_fa5d28ce0af7268bb5abbb046cc146dc.addControl(mini_map_d3fa2b0b210f12166124514ed82f5cee);\n",
              "        \n",
              "    \n",
              "            var tile_layer_b4d73d65a565c143e70f6efe16b0f6db = L.tileLayer(\n",
              "                &quot;https://earthengine.googleapis.com/v1alpha/projects/earthengine-legacy/maps/64308779490e582049d66c72aad37f6f-040711b7c9f98a9e0480199f51b9b11c/tiles/{z}/{x}/{y}&quot;,\n",
              "                {&quot;attribution&quot;: &quot;Google Earth Engine&quot;, &quot;detectRetina&quot;: false, &quot;maxNativeZoom&quot;: 18, &quot;maxZoom&quot;: 18, &quot;minZoom&quot;: 0, &quot;noWrap&quot;: false, &quot;opacity&quot;: 1, &quot;subdomains&quot;: &quot;abc&quot;, &quot;tms&quot;: false}\n",
              "            ).addTo(map_fa5d28ce0af7268bb5abbb046cc146dc);\n",
              "        \n",
              "    \n",
              "    var color_map_b5c87a9d7b7c9c1b71076ee3719dc542 = {};\n",
              "\n",
              "    \n",
              "    color_map_b5c87a9d7b7c9c1b71076ee3719dc542.color = d3.scale.threshold()\n",
              "              .domain([-0.84, -0.8371142284569137, -0.8342284569138276, -0.8313426853707414, -0.8284569138276553, -0.8255711422845691, -0.822685370741483, -0.8197995991983967, -0.8169138276553106, -0.8140280561122244, -0.8111422845691383, -0.8082565130260521, -0.805370741482966, -0.8024849699398797, -0.7995991983967936, -0.7967134268537074, -0.7938276553106212, -0.790941883767535, -0.7880561122244488, -0.7851703406813627, -0.7822845691382765, -0.7793987975951904, -0.7765130260521041, -0.773627254509018, -0.7707414829659318, -0.7678557114228457, -0.7649699398797595, -0.7620841683366734, -0.7591983967935871, -0.756312625250501, -0.7534268537074148, -0.7505410821643286, -0.7476553106212425, -0.7447695390781564, -0.7418837675350701, -0.7389979959919839, -0.7361122244488978, -0.7332264529058116, -0.7303406813627255, -0.7274549098196392, -0.7245691382765531, -0.7216833667334669, -0.7187975951903808, -0.7159118236472946, -0.7130260521042084, -0.7101402805611222, -0.707254509018036, -0.7043687374749499, -0.7014829659318637, -0.6985971943887775, -0.6957114228456913, -0.6928256513026052, -0.689939879759519, -0.6870541082164329, -0.6841683366733466, -0.6812825651302605, -0.6783967935871743, -0.6755110220440881, -0.672625250501002, -0.6697394789579159, -0.6668537074148296, -0.6639679358717434, -0.6610821643286573, -0.6581963927855712, -0.655310621242485, -0.6524248496993987, -0.6495390781563126, -0.6466533066132265, -0.6437675350701403, -0.6408817635270541, -0.637995991983968, -0.6351102204408817, -0.6322244488977956, -0.6293386773547094, -0.6264529058116233, -0.623567134268537, -0.6206813627254508, -0.6177955911823647, -0.6149098196392786, -0.6120240480961924, -0.6091382765531062, -0.60625250501002, -0.6033667334669338, -0.6004809619238477, -0.5975951903807615, -0.5947094188376754, -0.5918236472945891, -0.5889378757515029, -0.5860521042084168, -0.5831663326653307, -0.5802805611222445, -0.5773947895791582, -0.5745090180360721, -0.571623246492986, -0.5687374749498998, -0.5658517034068136, -0.5629659318637275, -0.5600801603206412, -0.557194388777555, -0.5543086172344689, -0.5514228456913828, -0.5485370741482966, -0.5456513026052103, -0.5427655310621242, -0.5398797595190381, -0.5369939879759519, -0.5341082164328657, -0.5312224448897795, -0.5283366733466934, -0.5254509018036071, -0.522565130260521, -0.5196793587174349, -0.5167935871743486, -0.5139078156312624, -0.5110220440881763, -0.5081362725450902, -0.505250501002004, -0.5023647294589177, -0.49947895791583163, -0.49659318637274547, -0.4937074148296593, -0.49082164328657313, -0.4879358717434869, -0.48505010020040074, -0.48216432865731457, -0.4792785571142284, -0.4763927855711423, -0.4735070140280561, -0.47062124248496995, -0.4677354709418838, -0.4648496993987976, -0.46196392785571144, -0.4590781563126253, -0.4561923847695391, -0.45330661322645294, -0.4504208416833667, -0.44753507014028054, -0.4446492985971944, -0.4417635270541082, -0.43887775551102204, -0.43599198396793587, -0.4331062124248497, -0.43022044088176353, -0.42733466933867736, -0.4244488977955912, -0.421563126252505, -0.41867735470941886, -0.4157915831663327, -0.41290581162324647, -0.4100200400801603, -0.40713426853707413, -0.40424849699398796, -0.4013627254509018, -0.3984769539078156, -0.39559118236472945, -0.3927054108216433, -0.3898196392785571, -0.38693386773547095, -0.3840480961923848, -0.3811623246492986, -0.37827655310621244, -0.3753907815631262, -0.37250501002004005, -0.3696192384769539, -0.3667334669338677, -0.36384769539078154, -0.3609619238476954, -0.3580761523046092, -0.35519038076152304, -0.35230460921843687, -0.3494188376753507, -0.34653306613226453, -0.34364729458917836, -0.34076152304609214, -0.33787575150300597, -0.33498997995991986, -0.33210420841683364, -0.3292184368737475, -0.3263326653306613, -0.3234468937875752, -0.32056112224448896, -0.31767535070140285, -0.3147895791583166, -0.3119038076152305, -0.3090180360721443, -0.3061322645290582, -0.30324649298597195, -0.30036072144288584, -0.2974749498997996, -0.2945891783567135, -0.2917034068136273, -0.28881763527054116, -0.2859318637274548, -0.2830460921843687, -0.2801603206412825, -0.2772745490981964, -0.27438877755511015, -0.27150300601202404, -0.2686172344689378, -0.2657314629258517, -0.2628456913827655, -0.25995991983967937, -0.25707414829659314, -0.25418837675350703, -0.2513026052104208, -0.2484168336673347, -0.24553106212424847, -0.24264529058116235, -0.23975951903807613, -0.23687374749499002, -0.2339879759519038, -0.23110220440881768, -0.22821643286573146, -0.22533066132264534, -0.22244488977955912, -0.219559118236473, -0.21667334669338678, -0.21378757515030067, -0.21090180360721433, -0.20801603206412822, -0.205130260521042, -0.20224448897795588, -0.19935871743486966, -0.19647294589178355, -0.19358717434869732, -0.1907014028056112, -0.18781563126252498, -0.18492985971943887, -0.18204408817635265, -0.17915831663326653, -0.1762725450901803, -0.1733867735470942, -0.17050100200400797, -0.16761523046092186, -0.16472945891783564, -0.16184368737474952, -0.1589579158316633, -0.15607214428857719, -0.15318637274549096, -0.15030060120240485, -0.14741482965931862, -0.1445290581162325, -0.1416432865731463, -0.13875751503006017, -0.13587174348697384, -0.13298597194388773, -0.1301002004008015, -0.1272144288577154, -0.12432865731462917, -0.12144288577154305, -0.11855711422845683, -0.11567134268537071, -0.1127855711422846, -0.10989979959919838, -0.10701402805611226, -0.10412825651302604, -0.10124248496993993, -0.0983567134268537, -0.09547094188376759, -0.09258517034068137, -0.08969939879759525, -0.08681362725450903, -0.08392785571142292, -0.08104208416833669, -0.07815631262525058, -0.07527054108216436, -0.07238476953907824, -0.06949899799599202, -0.0666132264529059, -0.06372745490981957, -0.06084168336673346, -0.05795591182364723, -0.05507014028056112, -0.052184368737474895, -0.04929859719438878, -0.04641282565130256, -0.043527054108216445, -0.04064128256513022, -0.03775551102204411, -0.034869739478957884, -0.03198396793587177, -0.029098196392785547, -0.026212424849699434, -0.02332665330661321, -0.020440881763527097, -0.017555110220440873, -0.01466933867735476, -0.011783567134268536, -0.008897795591182422, -0.006012024048096198, -0.0031262525050100853, -0.00024048096192386126, 0.002645290581162252, 0.005531062124248476, 0.008416833667334589, 0.011302605210420924, 0.014188376753507037, 0.01707414829659326, 0.019959919839679374, 0.0228456913827656, 0.02573146292585171, 0.028617234468937935, 0.03150300601202405, 0.03438877755511027, 0.037274549098196386, 0.04016032064128261, 0.04304609218436872, 0.04593186372745495, 0.04881763527054106, 0.051703406813627284, 0.0545891783567134, 0.05747494989979962, 0.060360721442885734, 0.06324649298597196, 0.06613226452905807, 0.0690180360721443, 0.07190380761523041, 0.07478957915831663, 0.07767535070140275, 0.08056112224448897, 0.08344689378757508, 0.08633266533066142, 0.08921843687374753, 0.09210420841683375, 0.09498997995991987, 0.09787575150300609, 0.1007615230460922, 0.10364729458917843, 0.10653306613226454, 0.10941883767535077, 0.11230460921843688, 0.1151903807615231, 0.11807615230460922, 0.12096192384769544, 0.12384769539078155, 0.12673346693386767, 0.1296192384769539, 0.13250501002004, 0.13539078156312623, 0.13827655310621234, 0.14116232464929857, 0.14404809619238468, 0.1469338677354709, 0.14981963927855702, 0.15270541082164324, 0.15559118236472935, 0.1584769539078157, 0.1613627254509019, 0.16424849699398802, 0.16713426853707414, 0.17002004008016025, 0.17290581162324659, 0.1757915831663327, 0.1786773547094188, 0.18156312625250492, 0.18444889779559126, 0.18733466933867737, 0.1902204408817635, 0.1931062124248496, 0.19599198396793593, 0.19887775551102205, 0.20176352705410838, 0.20464929859719427, 0.2075350701402806, 0.21042084168336672, 0.21330661322645306, 0.21619238476953895, 0.21907815631262528, 0.2219639278557114, 0.22484969939879773, 0.22773547094188362, 0.23062124248496996, 0.23350701402805607, 0.2363927855711424, 0.2392785571142283, 0.24216432865731463, 0.24505010020040074, 0.24793587174348708, 0.25082164328657297, 0.2537074148296593, 0.2565931863727454, 0.25947895791583175, 0.26236472945891764, 0.265250501002004, 0.2681362725450903, 0.27102204408817643, 0.27390781563126254, 0.27679358717434865, 0.279679358717435, 0.2825651302605211, 0.2854509018036072, 0.28833667334669333, 0.29122244488977966, 0.2941082164328658, 0.2969939879759519, 0.299879759519038, 0.30276553106212434, 0.30565130260521045, 0.30853707414829656, 0.3114228456913827, 0.314308617234469, 0.3171943887775551, 0.32008016032064124, 0.32296593186372735, 0.3258517034068137, 0.3287374749498998, 0.3316232464929859, 0.334509018036072, 0.33739478957915836, 0.3402805611222445, 0.3431663326653306, 0.3460521042084169, 0.34893787575150303, 0.35182364729458937, 0.35470941883767526, 0.3575951903807616, 0.3604809619238477, 0.36336673346693404, 0.36625250501001994, 0.36913827655310627, 0.3720240480961924, 0.3749098196392785, 0.3777955911823646, 0.38068136272545094, 0.38356713426853706, 0.38645290581162317, 0.3893386773547093, 0.3922244488977956, 0.39511022044088173, 0.39799599198396785, 0.40088176352705396, 0.4037675350701403, 0.4066533066132264, 0.4095390781563125, 0.41242484969939863, 0.41531062124248497, 0.4181963927855713, 0.4210821643286572, 0.42396793587174353, 0.42685370741482964, 0.429739478957916, 0.43262525050100187, 0.4355110220440882, 0.4383967935871743, 0.44128256513026065, 0.44416833667334654, 0.4470541082164329, 0.449939879759519, 0.4528256513026053, 0.4557114228456912, 0.45859719438877755, 0.46148296593186366, 0.46436873747495, 0.4672545090180359, 0.4701402805611222, 0.47302605210420834, 0.4759118236472947, 0.47879759519038056, 0.4816833667334669, 0.484569138276553, 0.48745490981963935, 0.49034068136272546, 0.4932264529058116, 0.4961122244488979, 0.498997995991984, 0.5018837675350701, 0.5047695390781562, 0.5076553106212426, 0.5105410821643287, 0.5134268537074148, 0.5163126252505009, 0.5191983967935873, 0.5220841683366734, 0.5249699398797595, 0.5278557114228456, 0.5307414829659319, 0.533627254509018, 0.5365130260521042, 0.5393987975951903, 0.5422845691382766, 0.5451703406813627, 0.5480561122244488, 0.550941883767535, 0.5538276553106213, 0.5567134268537074, 0.5595991983967935, 0.5624849699398796, 0.565370741482966, 0.5682565130260523, 0.5711422845691382, 0.5740280561122245, 0.5769138276553106, 0.579799599198397, 0.5826853707414829, 0.5855711422845692, 0.5884569138276553, 0.5913426853707416, 0.5942284569138275, 0.5971142284569139, 0.6])\n",
              "              .range([&#x27;#f50500ff&#x27;, &#x27;#f50500ff&#x27;, &#x27;#f40500ff&#x27;, &#x27;#f40500ff&#x27;, &#x27;#f30600ff&#x27;, &#x27;#f30600ff&#x27;, &#x27;#f20600ff&#x27;, &#x27;#f20600ff&#x27;, &#x27;#f10700ff&#x27;, &#x27;#f10700ff&#x27;, &#x27;#f00700ff&#x27;, &#x27;#f00700ff&#x27;, &#x27;#ef0800ff&#x27;, &#x27;#ef0800ff&#x27;, &#x27;#ee0800ff&#x27;, &#x27;#ee0800ff&#x27;, &#x27;#ed0900ff&#x27;, &#x27;#ed0900ff&#x27;, &#x27;#ec0900ff&#x27;, &#x27;#ec0900ff&#x27;, &#x27;#eb0a00ff&#x27;, &#x27;#eb0a00ff&#x27;, &#x27;#ea0a00ff&#x27;, &#x27;#ea0a00ff&#x27;, &#x27;#e90b00ff&#x27;, &#x27;#e90b00ff&#x27;, &#x27;#e80b00ff&#x27;, &#x27;#e80b00ff&#x27;, &#x27;#e70c00ff&#x27;, &#x27;#e70c00ff&#x27;, &#x27;#e60c00ff&#x27;, &#x27;#e60c00ff&#x27;, &#x27;#e50d00ff&#x27;, &#x27;#e50d00ff&#x27;, &#x27;#e50d00ff&#x27;, &#x27;#e40d00ff&#x27;, &#x27;#e40e00ff&#x27;, &#x27;#e30e00ff&#x27;, &#x27;#e30e00ff&#x27;, &#x27;#e20e00ff&#x27;, &#x27;#e20f00ff&#x27;, &#x27;#e10f00ff&#x27;, &#x27;#e10f00ff&#x27;, &#x27;#e00f00ff&#x27;, &#x27;#e01000ff&#x27;, &#x27;#df1000ff&#x27;, &#x27;#df1000ff&#x27;, &#x27;#de1000ff&#x27;, &#x27;#de1100ff&#x27;, &#x27;#dd1100ff&#x27;, &#x27;#dd1100ff&#x27;, &#x27;#dc1100ff&#x27;, &#x27;#dc1100ff&#x27;, &#x27;#db1200ff&#x27;, &#x27;#db1200ff&#x27;, &#x27;#da1200ff&#x27;, &#x27;#da1200ff&#x27;, &#x27;#d91300ff&#x27;, &#x27;#d91300ff&#x27;, &#x27;#d81300ff&#x27;, &#x27;#d81300ff&#x27;, &#x27;#d71400ff&#x27;, &#x27;#d71400ff&#x27;, &#x27;#d61400ff&#x27;, &#x27;#d61400ff&#x27;, &#x27;#d51500ff&#x27;, &#x27;#d51500ff&#x27;, &#x27;#d41500ff&#x27;, &#x27;#d41500ff&#x27;, &#x27;#d31600ff&#x27;, &#x27;#d31600ff&#x27;, &#x27;#d21600ff&#x27;, &#x27;#d21600ff&#x27;, &#x27;#d11700ff&#x27;, &#x27;#d11700ff&#x27;, &#x27;#d01700ff&#x27;, &#x27;#d01700ff&#x27;, &#x27;#cf1800ff&#x27;, &#x27;#cf1800ff&#x27;, &#x27;#ce1800ff&#x27;, &#x27;#ce1800ff&#x27;, &#x27;#cd1900ff&#x27;, &#x27;#cd1900ff&#x27;, &#x27;#cc1900ff&#x27;, &#x27;#cc1900ff&#x27;, &#x27;#cb1a00ff&#x27;, &#x27;#cb1a00ff&#x27;, &#x27;#ca1a00ff&#x27;, &#x27;#ca1a00ff&#x27;, &#x27;#c91b00ff&#x27;, &#x27;#c91b00ff&#x27;, &#x27;#c81b00ff&#x27;, &#x27;#c81b00ff&#x27;, &#x27;#c71c00ff&#x27;, &#x27;#c71c00ff&#x27;, &#x27;#c61c00ff&#x27;, &#x27;#c61c00ff&#x27;, &#x27;#c51d00ff&#x27;, &#x27;#c51d00ff&#x27;, &#x27;#c51d00ff&#x27;, &#x27;#c41d00ff&#x27;, &#x27;#c41e00ff&#x27;, &#x27;#c31e00ff&#x27;, &#x27;#c31e00ff&#x27;, &#x27;#c21e00ff&#x27;, &#x27;#c21f00ff&#x27;, &#x27;#c11f00ff&#x27;, &#x27;#c11f00ff&#x27;, &#x27;#c01f00ff&#x27;, &#x27;#c02000ff&#x27;, &#x27;#bf2000ff&#x27;, &#x27;#bf2000ff&#x27;, &#x27;#be2000ff&#x27;, &#x27;#be2100ff&#x27;, &#x27;#bd2100ff&#x27;, &#x27;#bd2100ff&#x27;, &#x27;#bc2100ff&#x27;, &#x27;#bc2200ff&#x27;, &#x27;#bb2200ff&#x27;, &#x27;#bb2200ff&#x27;, &#x27;#ba2200ff&#x27;, &#x27;#ba2300ff&#x27;, &#x27;#b92300ff&#x27;, &#x27;#b92300ff&#x27;, &#x27;#b82300ff&#x27;, &#x27;#b82400ff&#x27;, &#x27;#b72400ff&#x27;, &#x27;#b72400ff&#x27;, &#x27;#b62400ff&#x27;, &#x27;#b62500ff&#x27;, &#x27;#b52500ff&#x27;, &#x27;#b52500ff&#x27;, &#x27;#b42500ff&#x27;, &#x27;#b42600ff&#x27;, &#x27;#b32600ff&#x27;, &#x27;#b32600ff&#x27;, &#x27;#b22600ff&#x27;, &#x27;#b22700ff&#x27;, &#x27;#b12700ff&#x27;, &#x27;#b12700ff&#x27;, &#x27;#b02700ff&#x27;, &#x27;#b02700ff&#x27;, &#x27;#af2800ff&#x27;, &#x27;#af2800ff&#x27;, &#x27;#ae2800ff&#x27;, &#x27;#ae2800ff&#x27;, &#x27;#ad2900ff&#x27;, &#x27;#ad2900ff&#x27;, &#x27;#ac2900ff&#x27;, &#x27;#ac2900ff&#x27;, &#x27;#ab2a00ff&#x27;, &#x27;#ab2a00ff&#x27;, &#x27;#aa2a00ff&#x27;, &#x27;#aa2a00ff&#x27;, &#x27;#a92b00ff&#x27;, &#x27;#a92b00ff&#x27;, &#x27;#a82b00ff&#x27;, &#x27;#a82b00ff&#x27;, &#x27;#a72c00ff&#x27;, &#x27;#a72c00ff&#x27;, &#x27;#a62c00ff&#x27;, &#x27;#a62c00ff&#x27;, &#x27;#a52d00ff&#x27;, &#x27;#a52d00ff&#x27;, &#x27;#a42d00ff&#x27;, &#x27;#a42d00ff&#x27;, &#x27;#a42e00ff&#x27;, &#x27;#a32e00ff&#x27;, &#x27;#a32e00ff&#x27;, &#x27;#a22e00ff&#x27;, &#x27;#a22f00ff&#x27;, &#x27;#a12f00ff&#x27;, &#x27;#a12f00ff&#x27;, &#x27;#a02f00ff&#x27;, &#x27;#a03000ff&#x27;, &#x27;#9f3000ff&#x27;, &#x27;#9f3000ff&#x27;, &#x27;#9e3000ff&#x27;, &#x27;#9e3100ff&#x27;, &#x27;#9d3100ff&#x27;, &#x27;#9d3100ff&#x27;, &#x27;#9c3100ff&#x27;, &#x27;#9c3200ff&#x27;, &#x27;#9b3200ff&#x27;, &#x27;#9b3200ff&#x27;, &#x27;#9a3200ff&#x27;, &#x27;#9a3300ff&#x27;, &#x27;#993300ff&#x27;, &#x27;#993300ff&#x27;, &#x27;#983300ff&#x27;, &#x27;#983400ff&#x27;, &#x27;#973400ff&#x27;, &#x27;#973400ff&#x27;, &#x27;#963400ff&#x27;, &#x27;#963500ff&#x27;, &#x27;#953500ff&#x27;, &#x27;#953500ff&#x27;, &#x27;#943500ff&#x27;, &#x27;#943600ff&#x27;, &#x27;#933600ff&#x27;, &#x27;#933600ff&#x27;, &#x27;#923600ff&#x27;, &#x27;#923700ff&#x27;, &#x27;#913700ff&#x27;, &#x27;#913700ff&#x27;, &#x27;#903700ff&#x27;, &#x27;#903800ff&#x27;, &#x27;#8f3800ff&#x27;, &#x27;#8f3800ff&#x27;, &#x27;#8e3800ff&#x27;, &#x27;#8e3900ff&#x27;, &#x27;#8d3900ff&#x27;, &#x27;#8d3900ff&#x27;, &#x27;#8c3900ff&#x27;, &#x27;#8c3a00ff&#x27;, &#x27;#8b3a00ff&#x27;, &#x27;#8b3a00ff&#x27;, &#x27;#8a3a00ff&#x27;, &#x27;#8a3b00ff&#x27;, &#x27;#893b00ff&#x27;, &#x27;#893b00ff&#x27;, &#x27;#883b00ff&#x27;, &#x27;#883c00ff&#x27;, &#x27;#873c00ff&#x27;, &#x27;#873c00ff&#x27;, &#x27;#863c00ff&#x27;, &#x27;#863d00ff&#x27;, &#x27;#853d00ff&#x27;, &#x27;#853d00ff&#x27;, &#x27;#843d00ff&#x27;, &#x27;#843e00ff&#x27;, &#x27;#833e00ff&#x27;, &#x27;#833e00ff&#x27;, &#x27;#833e00ff&#x27;, &#x27;#823e00ff&#x27;, &#x27;#823f00ff&#x27;, &#x27;#813f00ff&#x27;, &#x27;#813f00ff&#x27;, &#x27;#803f00ff&#x27;, &#x27;#804000ff&#x27;, &#x27;#7f4000ff&#x27;, &#x27;#7f4000ff&#x27;, &#x27;#7e4000ff&#x27;, &#x27;#7e4100ff&#x27;, &#x27;#7d4100ff&#x27;, &#x27;#7d4100ff&#x27;, &#x27;#7c4100ff&#x27;, &#x27;#7c4200ff&#x27;, &#x27;#7b4200ff&#x27;, &#x27;#7b4200ff&#x27;, &#x27;#7a4200ff&#x27;, &#x27;#7a4300ff&#x27;, &#x27;#794300ff&#x27;, &#x27;#794300ff&#x27;, &#x27;#784300ff&#x27;, &#x27;#784400ff&#x27;, &#x27;#774400ff&#x27;, &#x27;#774400ff&#x27;, &#x27;#764400ff&#x27;, &#x27;#764500ff&#x27;, &#x27;#754500ff&#x27;, &#x27;#754500ff&#x27;, &#x27;#744500ff&#x27;, &#x27;#744600ff&#x27;, &#x27;#734600ff&#x27;, &#x27;#734600ff&#x27;, &#x27;#724600ff&#x27;, &#x27;#724700ff&#x27;, &#x27;#714700ff&#x27;, &#x27;#714700ff&#x27;, &#x27;#704700ff&#x27;, &#x27;#704800ff&#x27;, &#x27;#6f4800ff&#x27;, &#x27;#6f4800ff&#x27;, &#x27;#6e4800ff&#x27;, &#x27;#6e4900ff&#x27;, &#x27;#6d4900ff&#x27;, &#x27;#6d4900ff&#x27;, &#x27;#6c4900ff&#x27;, &#x27;#6c4a00ff&#x27;, &#x27;#6b4a00ff&#x27;, &#x27;#6b4a00ff&#x27;, &#x27;#6a4a00ff&#x27;, &#x27;#6a4b00ff&#x27;, &#x27;#694b00ff&#x27;, &#x27;#694b00ff&#x27;, &#x27;#684b00ff&#x27;, &#x27;#684c00ff&#x27;, &#x27;#674c00ff&#x27;, &#x27;#674c00ff&#x27;, &#x27;#664c00ff&#x27;, &#x27;#664d00ff&#x27;, &#x27;#654d00ff&#x27;, &#x27;#654d00ff&#x27;, &#x27;#644d00ff&#x27;, &#x27;#644e00ff&#x27;, &#x27;#634e00ff&#x27;, &#x27;#634e00ff&#x27;, &#x27;#624e00ff&#x27;, &#x27;#624f00ff&#x27;, &#x27;#624f00ff&#x27;, &#x27;#614f00ff&#x27;, &#x27;#614f00ff&#x27;, &#x27;#605000ff&#x27;, &#x27;#605000ff&#x27;, &#x27;#5f5000ff&#x27;, &#x27;#5f5000ff&#x27;, &#x27;#5e5100ff&#x27;, &#x27;#5e5100ff&#x27;, &#x27;#5d5100ff&#x27;, &#x27;#5d5100ff&#x27;, &#x27;#5c5200ff&#x27;, &#x27;#5c5200ff&#x27;, &#x27;#5b5200ff&#x27;, &#x27;#5b5200ff&#x27;, &#x27;#5a5300ff&#x27;, &#x27;#5a5300ff&#x27;, &#x27;#595300ff&#x27;, &#x27;#595300ff&#x27;, &#x27;#585400ff&#x27;, &#x27;#585400ff&#x27;, &#x27;#575400ff&#x27;, &#x27;#575400ff&#x27;, &#x27;#565400ff&#x27;, &#x27;#565500ff&#x27;, &#x27;#555500ff&#x27;, &#x27;#555500ff&#x27;, &#x27;#545500ff&#x27;, &#x27;#545600ff&#x27;, &#x27;#535600ff&#x27;, &#x27;#535600ff&#x27;, &#x27;#525600ff&#x27;, &#x27;#525700ff&#x27;, &#x27;#515700ff&#x27;, &#x27;#515700ff&#x27;, &#x27;#505700ff&#x27;, &#x27;#505800ff&#x27;, &#x27;#4f5800ff&#x27;, &#x27;#4f5800ff&#x27;, &#x27;#4e5800ff&#x27;, &#x27;#4e5900ff&#x27;, &#x27;#4d5900ff&#x27;, &#x27;#4d5900ff&#x27;, &#x27;#4c5900ff&#x27;, &#x27;#4c5a00ff&#x27;, &#x27;#4b5a00ff&#x27;, &#x27;#4b5a00ff&#x27;, &#x27;#4a5a00ff&#x27;, &#x27;#4a5b00ff&#x27;, &#x27;#495b00ff&#x27;, &#x27;#495b00ff&#x27;, &#x27;#485b00ff&#x27;, &#x27;#485c00ff&#x27;, &#x27;#475c00ff&#x27;, &#x27;#475c00ff&#x27;, &#x27;#465c00ff&#x27;, &#x27;#465d00ff&#x27;, &#x27;#455d00ff&#x27;, &#x27;#455d00ff&#x27;, &#x27;#445d00ff&#x27;, &#x27;#445e00ff&#x27;, &#x27;#435e00ff&#x27;, &#x27;#435e00ff&#x27;, &#x27;#425e00ff&#x27;, &#x27;#425f00ff&#x27;, &#x27;#415f00ff&#x27;, &#x27;#415f00ff&#x27;, &#x27;#415f00ff&#x27;, &#x27;#406000ff&#x27;, &#x27;#406000ff&#x27;, &#x27;#3f6000ff&#x27;, &#x27;#3f6000ff&#x27;, &#x27;#3e6100ff&#x27;, &#x27;#3e6100ff&#x27;, &#x27;#3d6100ff&#x27;, &#x27;#3d6100ff&#x27;, &#x27;#3c6200ff&#x27;, &#x27;#3c6200ff&#x27;, &#x27;#3b6200ff&#x27;, &#x27;#3b6200ff&#x27;, &#x27;#3a6300ff&#x27;, &#x27;#3a6300ff&#x27;, &#x27;#396300ff&#x27;, &#x27;#396300ff&#x27;, &#x27;#386400ff&#x27;, &#x27;#386400ff&#x27;, &#x27;#376400ff&#x27;, &#x27;#376400ff&#x27;, &#x27;#366500ff&#x27;, &#x27;#366500ff&#x27;, &#x27;#356500ff&#x27;, &#x27;#356500ff&#x27;, &#x27;#346600ff&#x27;, &#x27;#346600ff&#x27;, &#x27;#336600ff&#x27;, &#x27;#336600ff&#x27;, &#x27;#326700ff&#x27;, &#x27;#326700ff&#x27;, &#x27;#316700ff&#x27;, &#x27;#316700ff&#x27;, &#x27;#306800ff&#x27;, &#x27;#306800ff&#x27;, &#x27;#2f6800ff&#x27;, &#x27;#2f6800ff&#x27;, &#x27;#2e6900ff&#x27;, &#x27;#2e6900ff&#x27;, &#x27;#2d6900ff&#x27;, &#x27;#2d6900ff&#x27;, &#x27;#2c6a00ff&#x27;, &#x27;#2c6a00ff&#x27;, &#x27;#2b6a00ff&#x27;, &#x27;#2b6a00ff&#x27;, &#x27;#2a6a00ff&#x27;, &#x27;#2a6b00ff&#x27;, &#x27;#296b00ff&#x27;, &#x27;#296b00ff&#x27;, &#x27;#286b00ff&#x27;, &#x27;#286c00ff&#x27;, &#x27;#276c00ff&#x27;, &#x27;#276c00ff&#x27;, &#x27;#266c00ff&#x27;, &#x27;#266d00ff&#x27;, &#x27;#256d00ff&#x27;, &#x27;#256d00ff&#x27;, &#x27;#246d00ff&#x27;, &#x27;#246e00ff&#x27;, &#x27;#236e00ff&#x27;, &#x27;#236e00ff&#x27;, &#x27;#226e00ff&#x27;, &#x27;#226f00ff&#x27;, &#x27;#216f00ff&#x27;, &#x27;#216f00ff&#x27;, &#x27;#206f00ff&#x27;, &#x27;#207000ff&#x27;, &#x27;#207000ff&#x27;, &#x27;#1f7000ff&#x27;, &#x27;#1f7000ff&#x27;, &#x27;#1e7100ff&#x27;, &#x27;#1e7100ff&#x27;, &#x27;#1d7100ff&#x27;, &#x27;#1d7100ff&#x27;, &#x27;#1c7200ff&#x27;, &#x27;#1c7200ff&#x27;, &#x27;#1b7200ff&#x27;, &#x27;#1b7200ff&#x27;, &#x27;#1a7300ff&#x27;, &#x27;#1a7300ff&#x27;, &#x27;#197300ff&#x27;, &#x27;#197300ff&#x27;, &#x27;#187400ff&#x27;, &#x27;#187400ff&#x27;, &#x27;#177400ff&#x27;, &#x27;#177400ff&#x27;, &#x27;#167500ff&#x27;, &#x27;#167500ff&#x27;, &#x27;#157500ff&#x27;, &#x27;#157500ff&#x27;, &#x27;#147600ff&#x27;, &#x27;#147600ff&#x27;, &#x27;#137600ff&#x27;, &#x27;#137600ff&#x27;, &#x27;#127700ff&#x27;, &#x27;#127700ff&#x27;, &#x27;#117700ff&#x27;, &#x27;#117700ff&#x27;, &#x27;#107800ff&#x27;, &#x27;#107800ff&#x27;, &#x27;#0f7800ff&#x27;, &#x27;#0f7800ff&#x27;, &#x27;#0e7900ff&#x27;, &#x27;#0e7900ff&#x27;, &#x27;#0d7900ff&#x27;, &#x27;#0d7900ff&#x27;, &#x27;#0c7a00ff&#x27;, &#x27;#0c7a00ff&#x27;, &#x27;#0b7a00ff&#x27;, &#x27;#0b7a00ff&#x27;, &#x27;#0a7b00ff&#x27;, &#x27;#0a7b00ff&#x27;, &#x27;#097b00ff&#x27;, &#x27;#097b00ff&#x27;, &#x27;#087c00ff&#x27;, &#x27;#087c00ff&#x27;, &#x27;#077c00ff&#x27;, &#x27;#077c00ff&#x27;, &#x27;#067d00ff&#x27;, &#x27;#067d00ff&#x27;, &#x27;#057d00ff&#x27;, &#x27;#057d00ff&#x27;, &#x27;#047e00ff&#x27;, &#x27;#047e00ff&#x27;, &#x27;#037e00ff&#x27;, &#x27;#037e00ff&#x27;, &#x27;#027f00ff&#x27;, &#x27;#027f00ff&#x27;, &#x27;#017f00ff&#x27;, &#x27;#017f00ff&#x27;, &#x27;#008000ff&#x27;, &#x27;#008000ff&#x27;, &#x27;#008000ff&#x27;]);\n",
              "    \n",
              "\n",
              "    color_map_b5c87a9d7b7c9c1b71076ee3719dc542.x = d3.scale.linear()\n",
              "              .domain([-0.84, 0.6])\n",
              "              .range([0, 450 - 50]);\n",
              "\n",
              "    color_map_b5c87a9d7b7c9c1b71076ee3719dc542.legend = L.control({position: &#x27;topright&#x27;});\n",
              "    color_map_b5c87a9d7b7c9c1b71076ee3719dc542.legend.onAdd = function (map) {var div = L.DomUtil.create(&#x27;div&#x27;, &#x27;legend&#x27;); return div};\n",
              "    color_map_b5c87a9d7b7c9c1b71076ee3719dc542.legend.addTo(map_fa5d28ce0af7268bb5abbb046cc146dc);\n",
              "\n",
              "    color_map_b5c87a9d7b7c9c1b71076ee3719dc542.xAxis = d3.svg.axis()\n",
              "        .scale(color_map_b5c87a9d7b7c9c1b71076ee3719dc542.x)\n",
              "        .orient(&quot;top&quot;)\n",
              "        .tickSize(1)\n",
              "        .tickValues([-0.9, 0.6]);\n",
              "\n",
              "    color_map_b5c87a9d7b7c9c1b71076ee3719dc542.svg = d3.select(&quot;.legend.leaflet-control&quot;).append(&quot;svg&quot;)\n",
              "        .attr(&quot;id&quot;, &#x27;legend&#x27;)\n",
              "        .attr(&quot;width&quot;, 450)\n",
              "        .attr(&quot;height&quot;, 40);\n",
              "\n",
              "    color_map_b5c87a9d7b7c9c1b71076ee3719dc542.g = color_map_b5c87a9d7b7c9c1b71076ee3719dc542.svg.append(&quot;g&quot;)\n",
              "        .attr(&quot;class&quot;, &quot;key&quot;)\n",
              "        .attr(&quot;transform&quot;, &quot;translate(25,16)&quot;);\n",
              "\n",
              "    color_map_b5c87a9d7b7c9c1b71076ee3719dc542.g.selectAll(&quot;rect&quot;)\n",
              "        .data(color_map_b5c87a9d7b7c9c1b71076ee3719dc542.color.range().map(function(d, i) {\n",
              "          return {\n",
              "            x0: i ? color_map_b5c87a9d7b7c9c1b71076ee3719dc542.x(color_map_b5c87a9d7b7c9c1b71076ee3719dc542.color.domain()[i - 1]) : color_map_b5c87a9d7b7c9c1b71076ee3719dc542.x.range()[0],\n",
              "            x1: i &lt; color_map_b5c87a9d7b7c9c1b71076ee3719dc542.color.domain().length ? color_map_b5c87a9d7b7c9c1b71076ee3719dc542.x(color_map_b5c87a9d7b7c9c1b71076ee3719dc542.color.domain()[i]) : color_map_b5c87a9d7b7c9c1b71076ee3719dc542.x.range()[1],\n",
              "            z: d\n",
              "          };\n",
              "        }))\n",
              "      .enter().append(&quot;rect&quot;)\n",
              "        .attr(&quot;height&quot;, 40 - 30)\n",
              "        .attr(&quot;x&quot;, function(d) { return d.x0; })\n",
              "        .attr(&quot;width&quot;, function(d) { return d.x1 - d.x0; })\n",
              "        .style(&quot;fill&quot;, function(d) { return d.z; });\n",
              "\n",
              "    color_map_b5c87a9d7b7c9c1b71076ee3719dc542.g.call(color_map_b5c87a9d7b7c9c1b71076ee3719dc542.xAxis).append(&quot;text&quot;)\n",
              "        .attr(&quot;class&quot;, &quot;caption&quot;)\n",
              "        .attr(&quot;y&quot;, 21)\n",
              "        .text(&quot;&quot;);\n",
              "    \n",
              "            var tile_layer_2be91589987288a0b8b2c09123d7a56a = L.tileLayer(\n",
              "                &quot;https://{s}.tile.openstreetmap.org/{z}/{x}/{y}.png&quot;,\n",
              "                {&quot;attribution&quot;: &quot;Data by \\u0026copy; \\u003ca target=\\&quot;_blank\\&quot; href=\\&quot;http://openstreetmap.org\\&quot;\\u003eOpenStreetMap\\u003c/a\\u003e, under \\u003ca target=\\&quot;_blank\\&quot; href=\\&quot;http://www.openstreetmap.org/copyright\\&quot;\\u003eODbL\\u003c/a\\u003e.&quot;, &quot;detectRetina&quot;: false, &quot;maxNativeZoom&quot;: 18, &quot;maxZoom&quot;: 18, &quot;minZoom&quot;: 0, &quot;noWrap&quot;: false, &quot;opacity&quot;: 1, &quot;subdomains&quot;: &quot;abc&quot;, &quot;tms&quot;: false}\n",
              "            );\n",
              "            var mini_map_2b91031e86283019f9e89494f59d58b3 = new L.Control.MiniMap(\n",
              "                tile_layer_2be91589987288a0b8b2c09123d7a56a,\n",
              "                {&quot;autoToggleDisplay&quot;: false, &quot;centerFixed&quot;: false, &quot;collapsedHeight&quot;: 25, &quot;collapsedWidth&quot;: 25, &quot;height&quot;: 150, &quot;minimized&quot;: false, &quot;position&quot;: &quot;bottomright&quot;, &quot;toggleDisplay&quot;: false, &quot;width&quot;: 150, &quot;zoomAnimation&quot;: false, &quot;zoomLevelOffset&quot;: -5}\n",
              "            );\n",
              "            map_fa5d28ce0af7268bb5abbb046cc146dc.addControl(mini_map_2b91031e86283019f9e89494f59d58b3);\n",
              "        \n",
              "&lt;/script&gt;\n",
              "&lt;/html&gt;\" style=\"position:absolute;width:100%;height:100%;left:0;top:0;border:none !important;\" allowfullscreen webkitallowfullscreen mozallowfullscreen></iframe></div></div>"
            ]
          },
          "metadata": {}
        }
      ]
    },
    {
      "cell_type": "code",
      "source": [
        "\n",
        "Himalaya_map.save(\"filename.tif\")\n",
        "Himalaya_map.save(\"filename1.html\")\n",
        "\n"
      ],
      "metadata": {
        "id": "pQi3IAIPLhpd"
      },
      "execution_count": 65,
      "outputs": []
    },
    {
      "cell_type": "code",
      "source": [
        "# #Export the image, specifying the CRS, transform, and region.\n",
        "# task=ee.batch.Export.image.toDrive(\n",
        "#   image= ndvi,\n",
        "#   # image=aa,\n",
        "#   scale=1000,\n",
        "#   region=Himalaya_AOI,\n",
        "#   description= 'imageToDriveExample_transform',\n",
        "#   fileNamePrefix='my_export_lyon1',\n",
        "#   # crs='EPSG:4326',\n",
        "#   fileFormat='GeoTIFF'\n",
        "   \n",
        "# );\n",
        "# task.start()\n",
        "# #checking the status for file saviing \n",
        "# while True:\n",
        "#   cc=task.status()\n",
        "#   if cc['state']=='COMPLETED':\n",
        "#     break\n",
        "\n"
      ],
      "metadata": {
        "id": "fJjRqxqCVbEz"
      },
      "execution_count": null,
      "outputs": []
    },
    {
      "cell_type": "code",
      "source": [
        "# pwd\n"
      ],
      "metadata": {
        "id": "vzSetL16dFvh"
      },
      "execution_count": 26,
      "outputs": []
    },
    {
      "cell_type": "code",
      "source": [
        "landsat_AOI = ndvi.filterBounds(Himalaya_AOI)\n",
        "aa=landsat_AOI.reduce(ee.Reducer.median())\n",
        "aa.getInfo()\n",
        "\n",
        "link = aa.getDownloadURL({   ## aa is the file that we hd cropted\n",
        "    'scale': 1000, \n",
        "    'crs': 'EPSG:4326',\n",
        "    'fileFormat': 'GeoTIFF',\n",
        "    'region': Himalaya_AOI})\n",
        "print(link)"
      ],
      "metadata": {
        "id": "vhCfM_PqYhZy"
      },
      "execution_count": null,
      "outputs": []
    },
    {
      "cell_type": "code",
      "source": [],
      "metadata": {
        "id": "EZh8kzqEBi1z"
      },
      "execution_count": null,
      "outputs": []
    },
    {
      "cell_type": "code",
      "source": [
        "Himalaya_AOI.getInfo()['coordinates']"
      ],
      "metadata": {
        "id": "CFG4ZjOD_yPp"
      },
      "execution_count": null,
      "outputs": []
    },
    {
      "cell_type": "code",
      "source": [
        "# define your non-rectangular polygon\n",
        "aoi = Himalaya_AOI.getInfo()['coordinates']\n",
        "\n",
        "# load the image\n",
        "image = ee.Image('LANDSAT/LC08/C01/T1_TOA/LC08_044034_20140318').clip(aoi)\n",
        "\n",
        "# clip the image to the polygon boundary\n",
        "clipped = image.clip(aoi)\n",
        "\n",
        "# export the clipped image to Google Drive\n",
        "task = ee.batch.Export.image.toDrive(image=clipped, description='clipped_image', folder='my_folder', scale=30)\n",
        "task.start()\n",
        "#checking the status for file saviing \n",
        "while True:\n",
        "  cc=task.status()\n",
        "  if cc['state']=='COMPLETED':\n",
        "    break"
      ],
      "metadata": {
        "id": "hh0G2yJ0_llC"
      },
      "execution_count": null,
      "outputs": []
    },
    {
      "cell_type": "markdown",
      "source": [
        "## downloading only clip regiion"
      ],
      "metadata": {
        "id": "zb1EAmAX7O7g"
      }
    },
    {
      "cell_type": "code",
      "source": [
        "# Load the image and polygon\n",
        "# Clip the image to the polygon\n",
        "clipped_image = aa.clip(Himalaya_AOI)\n",
        "\n",
        "# Get the download URL for the clipped image\n",
        "url = clipped_image.getDownloadURL({\n",
        "    'name': 'clipped_image',\n",
        "    'scale': 2000,\n",
        "    'region': Himalaya_AOI\n",
        "})\n",
        "print(url)"
      ],
      "metadata": {
        "colab": {
          "base_uri": "https://localhost:8080/"
        },
        "id": "n89UyKnE7MfJ",
        "outputId": "4c25478f-8c9e-40e8-d6f5-1db958e57032"
      },
      "execution_count": 81,
      "outputs": [
        {
          "output_type": "stream",
          "name": "stdout",
          "text": [
            "https://earthengine.googleapis.com/v1alpha/projects/earthengine-legacy/thumbnails/994b3fdb44f57dc5d1ef3ef052c34028-a24149ae0e472706b38517a3120910e1:getPixels\n"
          ]
        }
      ]
    },
    {
      "cell_type": "code",
      "source": [
        "Himalaya_AOI.getInfo()['coordinates']"
      ],
      "metadata": {
        "id": "eQfggjBC7CUw"
      },
      "execution_count": null,
      "outputs": []
    },
    {
      "cell_type": "code",
      "source": [
        "# import os\n",
        "# import folium\n",
        "\n",
        "# m = folium.Map([28,85], zoom_start=1, tiles=\"stamentoner\")\n",
        "# merc = os.path.join(\"data\", \"/content/filename.png\")\n",
        "\n",
        "\n",
        "# if not os.path.isfile(merc):\n",
        "#     print(f\"Could not find {merc}\")\n",
        "# else:\n",
        "#     img = folium.raster_layers.ImageOverlay(\n",
        "#         name=\"filename\",\n",
        "#         image=merc,\n",
        "#         bounds=[[26.5, 69.85], [36,96]],\n",
        "#         # bounds=Himalaya_AOI,\n",
        "#         # opacity=0.6,\n",
        "#         interactive=True,\n",
        "#         cross_origin=False,\n",
        "#         zindex=1,\n",
        "#     )\n",
        "\n",
        "#     folium.Popup(\"I am an image\").add_to(img)\n",
        "\n",
        "#     img.add_to(m)\n",
        "#     folium.LayerControl().add_to(m)\n",
        "\n",
        "# m"
      ],
      "metadata": {
        "id": "kIrbMrAMRQ4M"
      },
      "execution_count": 34,
      "outputs": []
    },
    {
      "cell_type": "code",
      "source": [
        "## Temperature data"
      ],
      "metadata": {
        "id": "5QQRtldASU3j"
      },
      "execution_count": null,
      "outputs": []
    },
    {
      "cell_type": "code",
      "source": [
        "dataset = ee.ImageCollection('LANDSAT/LC08/C02/T1_L2').filterDate('2013-03-18', '2022-12-29');\n",
        "dataset.size().getInfo()\n"
      ],
      "metadata": {
        "colab": {
          "base_uri": "https://localhost:8080/"
        },
        "id": "ah5qdhpdSSNl",
        "outputId": "dd74fc02-c13a-4bb7-f5fe-86eaffa0c854"
      },
      "execution_count": 35,
      "outputs": [
        {
          "output_type": "execute_result",
          "data": {
            "text/plain": [
              "1495387"
            ]
          },
          "metadata": {},
          "execution_count": 35
        }
      ]
    },
    {
      "cell_type": "code",
      "source": [
        "#scaling image\n",
        "def scale_factor(image):\n",
        "  # scale factor for the MODIS MOD13Q1 product\n",
        "  # return image.select('ST_B10').multiply(1).copyProperties(image, ['system:time_start'])\n",
        " return  image.select('ST_B.*').multiply(0.00341802).add(149.0)"
      ],
      "metadata": {
        "id": "PoCsGhL-STR0"
      },
      "execution_count": null,
      "outputs": []
    },
    {
      "cell_type": "code",
      "source": [
        "scaled_temp = dataset.map(scale_factor)\n",
        "scaled_temp.size().getInfo()"
      ],
      "metadata": {
        "id": "kT603XFzSTyE"
      },
      "execution_count": null,
      "outputs": []
    },
    {
      "cell_type": "markdown",
      "source": [
        "## Precipitatio in AOI "
      ],
      "metadata": {
        "id": "BiXKj5JeYFTF"
      }
    },
    {
      "cell_type": "code",
      "source": [
        "# Load the precipitation dataset\n",
        "precipitation = ee.ImageCollection('NASA/ORNL/DAYMET_V4').select('prcp')\n",
        "\n",
        "# Filter the precipitation dataset for the AOI and time range\n",
        "precipitation = precipitation.filterBounds(Himalaya_AOI).filterDate(ee.DateRange('2013-04-07',\n",
        "                                                                        '2022-01-01'))"
      ],
      "metadata": {
        "id": "SxbEfaweYFIt"
      },
      "execution_count": null,
      "outputs": []
    },
    {
      "cell_type": "markdown",
      "source": [
        "Temperatue in AOI"
      ],
      "metadata": {
        "id": "ofaFe49aiFRw"
      }
    },
    {
      "cell_type": "code",
      "source": [
        "# Load the image collection for the location and time period\n",
        "collection = ee.ImageCollection('LANDSAT/LC08/C01/T1_SR')\\\n",
        "  .filterBounds(Himalaya_AOI)\\\n",
        "  .filterDate('2013-04-07','2022-01-01')\n",
        "\n",
        "# Select a single image from the collection\n",
        "image = collection.first()"
      ],
      "metadata": {
        "id": "Bx9oHJitiIdo"
      },
      "execution_count": null,
      "outputs": []
    },
    {
      "cell_type": "code",
      "source": [
        "# Define the region of interest\n",
        "#aoi = ee.Geometry.Rectangle([min_longitude, min_latitude, max_longitude, max_latitude])\n",
        "\n",
        "# Load MODIS NDVI data for the region and time period of interest\n",
        "collection = ee.ImageCollection('MODIS/006/MOD13Q1').filterDate('2019-01-01', '2019-12-31').filterBounds(Himalaya_AOI)\n",
        "\n",
        "# Calculate the mean NDVI for the region and time period\n",
        "ndvi_mean = collection.select('NDVI').mean().clip(Himalaya_AOI)\n",
        "\n",
        "# Print the result\n",
        "print('Mean NDVI:', ndvi_mean.getInfo())\n"
      ],
      "metadata": {
        "id": "fr8b-lUCiI_I"
      },
      "execution_count": null,
      "outputs": []
    },
    {
      "cell_type": "code",
      "source": [
        "# Reduce the NDVI data to a single value for the region\n",
        "ndvi_result = ndvi_mean.reduceRegion(reducer=ee.Reducer.mean(), geometry=Himalaya_AOI, scale=250)\n",
        "\n",
        "# Convert the result to a pandas DataFrame\n",
        "ndvi_df = pd.DataFrame(ndvi_result.getInfo(), index=['NDVI'])\n",
        "\n",
        "# Print the DataFrame\n",
        "print(ndvi_df)\n"
      ],
      "metadata": {
        "id": "CYfQB-iRiI7Y"
      },
      "execution_count": null,
      "outputs": []
    },
    {
      "cell_type": "markdown",
      "source": [
        "Export in Pandas dataframe"
      ],
      "metadata": {
        "id": "fLrFOe0FYrBd"
      }
    },
    {
      "cell_type": "code",
      "execution_count": null,
      "metadata": {
        "scrolled": true,
        "id": "Gn4dmvXz2SV3"
      },
      "outputs": [],
      "source": [
        "# the names of each Landsat 8 band\n",
        "# https://www.usgs.gov/media/images/landsat-8-band-designations\n",
        "# https://www.usgs.gov/landsat-missions/landsat-8-9-surface-reflectance-quality-assessment\n",
        "\n",
        "landsat_AOI.first().bandNames().getInfo()"
      ]
    }
  ],
  "metadata": {
    "kernelspec": {
      "display_name": "Python 3 (ipykernel)",
      "language": "python",
      "name": "python3"
    },
    "language_info": {
      "codemirror_mode": {
        "name": "ipython",
        "version": 3
      },
      "file_extension": ".py",
      "mimetype": "text/x-python",
      "name": "python",
      "nbconvert_exporter": "python",
      "pygments_lexer": "ipython3",
      "version": "3.9.12"
    },
    "colab": {
      "provenance": []
    },
    "accelerator": "GPU",
    "gpuClass": "standard",
    "widgets": {
      "application/vnd.jupyter.widget-state+json": {
        "7efb593997a14ce89bfc3bc3319d9473": {
          "model_module": "jupyter-leaflet",
          "model_name": "LeafletMapModel",
          "model_module_version": "^0.17",
          "state": {
            "_dom_classes": [],
            "_model_module": "jupyter-leaflet",
            "_model_module_version": "^0.17",
            "_model_name": "LeafletMapModel",
            "_view_count": null,
            "_view_module": "jupyter-leaflet",
            "_view_module_version": "^0.17",
            "_view_name": "LeafletMapView",
            "bottom": 215677,
            "bounce_at_zoom_limits": true,
            "box_zoom": true,
            "center": [
              30.55191549379073,
              82.57289773815322
            ],
            "close_popup_on_click": true,
            "controls": [
              "IPY_MODEL_497b7d352e5641e1a99502a604bf5e6c",
              "IPY_MODEL_f8287e685ad545ea89c4939a8e3260c6",
              "IPY_MODEL_8fe40ce2e6d44390a186f44b5127bc34",
              "IPY_MODEL_323972b4f5e1444c8a3ba4581edec47e",
              "IPY_MODEL_fea05f0dc24347b8ab572c7429f6bfc6",
              "IPY_MODEL_b963b3f725a84466a04cc50cccc490ed",
              "IPY_MODEL_6ed894d38773494383004acac83c7a5b",
              "IPY_MODEL_464f93a1b437443fb1393ae9a9167263",
              "IPY_MODEL_e61b66f52d824b64815aaa5c1d1702a5"
            ],
            "crs": {
              "name": "EPSG3857",
              "custom": false
            },
            "default_style": "IPY_MODEL_33362fc3d6bd475fbcd9fe6315a8c8cb",
            "double_click_zoom": true,
            "dragging": true,
            "dragging_style": "IPY_MODEL_9918334edc8242feb2beefa8eea5c6f5",
            "east": 83.15895080566408,
            "fullscreen": false,
            "inertia": true,
            "inertia_deceleration": 3000,
            "inertia_max_speed": 1500,
            "interpolation": "bilinear",
            "keyboard": true,
            "keyboard_pan_offset": 80,
            "keyboard_zoom_offset": 1,
            "layers": [
              "IPY_MODEL_9c2296e42a4c46b388267d6c66f83dff",
              "IPY_MODEL_cfd3c7f154a94574815eba229c58c992",
              "IPY_MODEL_ccae712731564cc983e6210976114582",
              "IPY_MODEL_553c476be53245a482b7d554201a487f"
            ],
            "layout": "IPY_MODEL_80ae8e61b376463ab83c60af3983c2a1",
            "left": 381545,
            "max_zoom": 24,
            "min_zoom": null,
            "modisdate": "2023-04-26",
            "north": 30.729441611765623,
            "options": [
              "bounce_at_zoom_limits",
              "box_zoom",
              "center",
              "close_popup_on_click",
              "double_click_zoom",
              "dragging",
              "fullscreen",
              "inertia",
              "inertia_deceleration",
              "inertia_max_speed",
              "interpolation",
              "keyboard",
              "keyboard_pan_offset",
              "keyboard_zoom_offset",
              "max_zoom",
              "min_zoom",
              "prefer_canvas",
              "scroll_wheel_zoom",
              "tap",
              "tap_tolerance",
              "touch_zoom",
              "world_copy_jump",
              "zoom",
              "zoom_animation_threshold",
              "zoom_delta",
              "zoom_snap"
            ],
            "panes": {},
            "prefer_canvas": false,
            "right": 383253,
            "scroll_wheel_zoom": true,
            "south": 30.37465238866319,
            "style": "IPY_MODEL_33362fc3d6bd475fbcd9fe6315a8c8cb",
            "tap": true,
            "tap_tolerance": 15,
            "top": 215077,
            "touch_zoom": true,
            "west": 81.98616027832031,
            "window_url": "https://rcm8p9u8u7l-496ff2e9c6d22116-0-colab.googleusercontent.com/outputframe.html?vrz=colab-20230425-060143-RC00_526923235",
            "world_copy_jump": false,
            "zoom": 11,
            "zoom_animation_threshold": 4,
            "zoom_delta": 1,
            "zoom_snap": 1
          }
        },
        "497b7d352e5641e1a99502a604bf5e6c": {
          "model_module": "jupyter-leaflet",
          "model_name": "LeafletWidgetControlModel",
          "model_module_version": "^0.17",
          "state": {
            "_model_module": "jupyter-leaflet",
            "_model_module_version": "^0.17",
            "_model_name": "LeafletWidgetControlModel",
            "_view_count": null,
            "_view_module": "jupyter-leaflet",
            "_view_module_version": "^0.17",
            "_view_name": "LeafletWidgetControlView",
            "max_height": null,
            "max_width": null,
            "min_height": null,
            "min_width": null,
            "options": [
              "position",
              "transparent_bg"
            ],
            "position": "topleft",
            "transparent_bg": false,
            "widget": "IPY_MODEL_22629cf1733049919c8d70c311797941"
          }
        },
        "f8287e685ad545ea89c4939a8e3260c6": {
          "model_module": "jupyter-leaflet",
          "model_name": "LeafletZoomControlModel",
          "model_module_version": "^0.17",
          "state": {
            "_model_module": "jupyter-leaflet",
            "_model_module_version": "^0.17",
            "_model_name": "LeafletZoomControlModel",
            "_view_count": null,
            "_view_module": "jupyter-leaflet",
            "_view_module_version": "^0.17",
            "_view_name": "LeafletZoomControlView",
            "options": [
              "position",
              "zoom_in_text",
              "zoom_in_title",
              "zoom_out_text",
              "zoom_out_title"
            ],
            "position": "topleft",
            "zoom_in_text": "+",
            "zoom_in_title": "Zoom in",
            "zoom_out_text": "-",
            "zoom_out_title": "Zoom out"
          }
        },
        "8fe40ce2e6d44390a186f44b5127bc34": {
          "model_module": "jupyter-leaflet",
          "model_name": "LeafletScaleControlModel",
          "model_module_version": "^0.17",
          "state": {
            "_model_module": "jupyter-leaflet",
            "_model_module_version": "^0.17",
            "_model_name": "LeafletScaleControlModel",
            "_view_count": null,
            "_view_module": "jupyter-leaflet",
            "_view_module_version": "^0.17",
            "_view_name": "LeafletScaleControlView",
            "imperial": true,
            "max_width": 100,
            "metric": true,
            "options": [
              "imperial",
              "max_width",
              "metric",
              "position",
              "update_when_idle"
            ],
            "position": "bottomleft",
            "update_when_idle": false
          }
        },
        "323972b4f5e1444c8a3ba4581edec47e": {
          "model_module": "jupyter-leaflet",
          "model_name": "LeafletFullScreenControlModel",
          "model_module_version": "^0.17",
          "state": {
            "_model_module": "jupyter-leaflet",
            "_model_module_version": "^0.17",
            "_model_name": "LeafletFullScreenControlModel",
            "_view_count": null,
            "_view_module": "jupyter-leaflet",
            "_view_module_version": "^0.17",
            "_view_name": "LeafletFullScreenControlView",
            "options": [
              "position"
            ],
            "position": "topleft"
          }
        },
        "fea05f0dc24347b8ab572c7429f6bfc6": {
          "model_module": "jupyter-leaflet",
          "model_name": "LeafletMeasureControlModel",
          "model_module_version": "^0.17",
          "state": {
            "_custom_units": {},
            "_model_module": "jupyter-leaflet",
            "_model_module_version": "^0.17",
            "_model_name": "LeafletMeasureControlModel",
            "_view_count": null,
            "_view_module": "jupyter-leaflet",
            "_view_module_version": "^0.17",
            "_view_name": "LeafletMeasureControlView",
            "active_color": "orange",
            "capture_z_index": 10000,
            "completed_color": "#C8F2BE",
            "options": [
              "active_color",
              "capture_z_index",
              "completed_color",
              "popup_options",
              "position",
              "primary_area_unit",
              "primary_length_unit",
              "secondary_area_unit",
              "secondary_length_unit"
            ],
            "popup_options": {
              "className": "leaflet-measure-resultpopup",
              "autoPanPadding": [
                10,
                10
              ]
            },
            "position": "bottomleft",
            "primary_area_unit": "acres",
            "primary_length_unit": "kilometers",
            "secondary_area_unit": null,
            "secondary_length_unit": null
          }
        },
        "b963b3f725a84466a04cc50cccc490ed": {
          "model_module": "jupyter-leaflet",
          "model_name": "LeafletAttributionControlModel",
          "model_module_version": "^0.17",
          "state": {
            "_model_module": "jupyter-leaflet",
            "_model_module_version": "^0.17",
            "_model_name": "LeafletAttributionControlModel",
            "_view_count": null,
            "_view_module": "jupyter-leaflet",
            "_view_module_version": "^0.17",
            "_view_name": "LeafletAttributionControlView",
            "options": [
              "position",
              "prefix"
            ],
            "position": "bottomright",
            "prefix": "ipyleaflet"
          }
        },
        "6ed894d38773494383004acac83c7a5b": {
          "model_module": "jupyter-leaflet",
          "model_name": "LeafletDrawControlModel",
          "model_module_version": "^0.17",
          "state": {
            "_model_module": "jupyter-leaflet",
            "_model_module_version": "^0.17",
            "_model_name": "LeafletDrawControlModel",
            "_view_count": null,
            "_view_module": "jupyter-leaflet",
            "_view_module_version": "^0.17",
            "_view_name": "LeafletDrawControlView",
            "circle": {
              "shapeOptions": {
                "color": "#3388ff"
              }
            },
            "circlemarker": {},
            "data": [],
            "edit": true,
            "marker": {
              "shapeOptions": {
                "color": "#3388ff"
              }
            },
            "options": [
              "position"
            ],
            "polygon": {
              "shapeOptions": {}
            },
            "polyline": {
              "shapeOptions": {}
            },
            "position": "topleft",
            "rectangle": {
              "shapeOptions": {
                "color": "#3388ff"
              }
            },
            "remove": true
          }
        },
        "464f93a1b437443fb1393ae9a9167263": {
          "model_module": "jupyter-leaflet",
          "model_name": "LeafletWidgetControlModel",
          "model_module_version": "^0.17",
          "state": {
            "_model_module": "jupyter-leaflet",
            "_model_module_version": "^0.17",
            "_model_name": "LeafletWidgetControlModel",
            "_view_count": null,
            "_view_module": "jupyter-leaflet",
            "_view_module_version": "^0.17",
            "_view_name": "LeafletWidgetControlView",
            "max_height": null,
            "max_width": null,
            "min_height": null,
            "min_width": null,
            "options": [
              "position",
              "transparent_bg"
            ],
            "position": "topright",
            "transparent_bg": false,
            "widget": "IPY_MODEL_783d498c62404831b1ee2f0e8a0f012e"
          }
        },
        "e61b66f52d824b64815aaa5c1d1702a5": {
          "model_module": "jupyter-leaflet",
          "model_name": "LeafletLayersControlModel",
          "model_module_version": "^0.17",
          "state": {
            "_model_module": "jupyter-leaflet",
            "_model_module_version": "^0.17",
            "_model_name": "LeafletLayersControlModel",
            "_view_count": null,
            "_view_module": "jupyter-leaflet",
            "_view_module_version": "^0.17",
            "_view_name": "LeafletLayersControlView",
            "options": [
              "position"
            ],
            "position": "topright"
          }
        },
        "33362fc3d6bd475fbcd9fe6315a8c8cb": {
          "model_module": "jupyter-leaflet",
          "model_name": "LeafletMapStyleModel",
          "model_module_version": "^0.17",
          "state": {
            "_model_module": "jupyter-leaflet",
            "_model_module_version": "^0.17",
            "_model_name": "LeafletMapStyleModel",
            "_view_count": null,
            "_view_module": "@jupyter-widgets/base",
            "_view_module_version": "1.2.0",
            "_view_name": "StyleView",
            "cursor": "grab"
          }
        },
        "9918334edc8242feb2beefa8eea5c6f5": {
          "model_module": "jupyter-leaflet",
          "model_name": "LeafletMapStyleModel",
          "model_module_version": "^0.17",
          "state": {
            "_model_module": "jupyter-leaflet",
            "_model_module_version": "^0.17",
            "_model_name": "LeafletMapStyleModel",
            "_view_count": null,
            "_view_module": "@jupyter-widgets/base",
            "_view_module_version": "1.2.0",
            "_view_name": "StyleView",
            "cursor": "move"
          }
        },
        "9c2296e42a4c46b388267d6c66f83dff": {
          "model_module": "jupyter-leaflet",
          "model_name": "LeafletTileLayerModel",
          "model_module_version": "^0.17",
          "state": {
            "_model_module": "jupyter-leaflet",
            "_model_module_version": "^0.17",
            "_model_name": "LeafletTileLayerModel",
            "_view_count": null,
            "_view_module": "jupyter-leaflet",
            "_view_module_version": "^0.17",
            "_view_name": "LeafletTileLayerView",
            "attribution": "&copy; <a href=\"https://www.openstreetmap.org/copyright\">OpenStreetMap</a> contributors",
            "base": true,
            "bottom": true,
            "bounds": null,
            "detect_retina": false,
            "loading": false,
            "max_native_zoom": null,
            "max_zoom": 19,
            "min_native_zoom": null,
            "min_zoom": 1,
            "name": "OpenStreetMap.Mapnik",
            "no_wrap": false,
            "opacity": 1,
            "options": [
              "attribution",
              "bounds",
              "detect_retina",
              "max_native_zoom",
              "max_zoom",
              "min_native_zoom",
              "min_zoom",
              "no_wrap",
              "tile_size",
              "tms",
              "zoom_offset"
            ],
            "pane": "",
            "popup": null,
            "popup_max_height": null,
            "popup_max_width": 300,
            "popup_min_width": 50,
            "show_loading": false,
            "subitems": [],
            "tile_size": 256,
            "tms": false,
            "url": "https://tile.openstreetmap.org/{z}/{x}/{y}.png",
            "visible": true,
            "zoom_offset": 0
          }
        },
        "cfd3c7f154a94574815eba229c58c992": {
          "model_module": "jupyter-leaflet",
          "model_name": "LeafletTileLayerModel",
          "model_module_version": "^0.17",
          "state": {
            "_model_module": "jupyter-leaflet",
            "_model_module_version": "^0.17",
            "_model_name": "LeafletTileLayerModel",
            "_view_count": null,
            "_view_module": "jupyter-leaflet",
            "_view_module_version": "^0.17",
            "_view_name": "LeafletTileLayerView",
            "attribution": "Google",
            "base": false,
            "bottom": true,
            "bounds": null,
            "detect_retina": false,
            "loading": false,
            "max_native_zoom": null,
            "max_zoom": 22,
            "min_native_zoom": null,
            "min_zoom": 0,
            "name": "Google Maps",
            "no_wrap": false,
            "opacity": 1,
            "options": [
              "attribution",
              "bounds",
              "detect_retina",
              "max_native_zoom",
              "max_zoom",
              "min_native_zoom",
              "min_zoom",
              "no_wrap",
              "tile_size",
              "tms",
              "zoom_offset"
            ],
            "pane": "",
            "popup": null,
            "popup_max_height": null,
            "popup_max_width": 300,
            "popup_min_width": 50,
            "show_loading": false,
            "subitems": [],
            "tile_size": 256,
            "tms": false,
            "url": "https://mt1.google.com/vt/lyrs=m&x={x}&y={y}&z={z}",
            "visible": true,
            "zoom_offset": 0
          }
        },
        "ccae712731564cc983e6210976114582": {
          "model_module": "jupyter-leaflet",
          "model_name": "LeafletTileLayerModel",
          "model_module_version": "^0.17",
          "state": {
            "_model_module": "jupyter-leaflet",
            "_model_module_version": "^0.17",
            "_model_name": "LeafletTileLayerModel",
            "_view_count": null,
            "_view_module": "jupyter-leaflet",
            "_view_module_version": "^0.17",
            "_view_name": "LeafletTileLayerView",
            "attribution": "Google Earth Engine",
            "base": false,
            "bottom": true,
            "bounds": null,
            "detect_retina": false,
            "loading": false,
            "max_native_zoom": null,
            "max_zoom": 24,
            "min_native_zoom": null,
            "min_zoom": 0,
            "name": "Landsat 8",
            "no_wrap": false,
            "opacity": 1,
            "options": [
              "attribution",
              "bounds",
              "detect_retina",
              "max_native_zoom",
              "max_zoom",
              "min_native_zoom",
              "min_zoom",
              "no_wrap",
              "tile_size",
              "tms",
              "zoom_offset"
            ],
            "pane": "",
            "popup": null,
            "popup_max_height": null,
            "popup_max_width": 300,
            "popup_min_width": 50,
            "show_loading": false,
            "subitems": [],
            "tile_size": 256,
            "tms": false,
            "url": "https://earthengine.googleapis.com/v1alpha/projects/earthengine-legacy/maps/fa98b941820cff15a32ac9bbff989cd8-7f1376909c3242d942a361c7d4293ba2/tiles/{z}/{x}/{y}",
            "visible": true,
            "zoom_offset": 0
          }
        },
        "553c476be53245a482b7d554201a487f": {
          "model_module": "jupyter-leaflet",
          "model_name": "LeafletTileLayerModel",
          "model_module_version": "^0.17",
          "state": {
            "_model_module": "jupyter-leaflet",
            "_model_module_version": "^0.17",
            "_model_name": "LeafletTileLayerModel",
            "_view_count": null,
            "_view_module": "jupyter-leaflet",
            "_view_module_version": "^0.17",
            "_view_name": "LeafletTileLayerView",
            "attribution": "Google Earth Engine",
            "base": false,
            "bottom": true,
            "bounds": null,
            "detect_retina": false,
            "loading": false,
            "max_native_zoom": null,
            "max_zoom": 24,
            "min_native_zoom": null,
            "min_zoom": 0,
            "name": "AOI",
            "no_wrap": false,
            "opacity": 1,
            "options": [
              "attribution",
              "bounds",
              "detect_retina",
              "max_native_zoom",
              "max_zoom",
              "min_native_zoom",
              "min_zoom",
              "no_wrap",
              "tile_size",
              "tms",
              "zoom_offset"
            ],
            "pane": "",
            "popup": null,
            "popup_max_height": null,
            "popup_max_width": 300,
            "popup_min_width": 50,
            "show_loading": false,
            "subitems": [],
            "tile_size": 256,
            "tms": false,
            "url": "https://earthengine.googleapis.com/v1alpha/projects/earthengine-legacy/maps/6af7bb4d5a8076eafa099aeeb7449376-06be1e17b1314d53e424579c08cf55eb/tiles/{z}/{x}/{y}",
            "visible": true,
            "zoom_offset": 0
          }
        },
        "80ae8e61b376463ab83c60af3983c2a1": {
          "model_module": "@jupyter-widgets/base",
          "model_name": "LayoutModel",
          "model_module_version": "1.2.0",
          "state": {
            "_model_module": "@jupyter-widgets/base",
            "_model_module_version": "1.2.0",
            "_model_name": "LayoutModel",
            "_view_count": null,
            "_view_module": "@jupyter-widgets/base",
            "_view_module_version": "1.2.0",
            "_view_name": "LayoutView",
            "align_content": null,
            "align_items": null,
            "align_self": null,
            "border": null,
            "bottom": null,
            "display": null,
            "flex": null,
            "flex_flow": null,
            "grid_area": null,
            "grid_auto_columns": null,
            "grid_auto_flow": null,
            "grid_auto_rows": null,
            "grid_column": null,
            "grid_gap": null,
            "grid_row": null,
            "grid_template_areas": null,
            "grid_template_columns": null,
            "grid_template_rows": null,
            "height": "600px",
            "justify_content": null,
            "justify_items": null,
            "left": null,
            "margin": null,
            "max_height": null,
            "max_width": null,
            "min_height": null,
            "min_width": null,
            "object_fit": null,
            "object_position": null,
            "order": null,
            "overflow": null,
            "overflow_x": null,
            "overflow_y": null,
            "padding": null,
            "right": null,
            "top": null,
            "visibility": null,
            "width": null
          }
        },
        "fe83fd9fffee40aa8610d6b5b7125934": {
          "model_module": "jupyter-leaflet",
          "model_name": "LeafletMapStyleModel",
          "model_module_version": "^0.17",
          "state": {
            "_model_module": "jupyter-leaflet",
            "_model_module_version": "^0.17",
            "_model_name": "LeafletMapStyleModel",
            "_view_count": null,
            "_view_module": "@jupyter-widgets/base",
            "_view_module_version": "1.2.0",
            "_view_name": "StyleView",
            "cursor": "grab"
          }
        },
        "22629cf1733049919c8d70c311797941": {
          "model_module": "@jupyter-widgets/controls",
          "model_name": "HBoxModel",
          "model_module_version": "1.5.0",
          "state": {
            "_dom_classes": [],
            "_model_module": "@jupyter-widgets/controls",
            "_model_module_version": "1.5.0",
            "_model_name": "HBoxModel",
            "_view_count": null,
            "_view_module": "@jupyter-widgets/controls",
            "_view_module_version": "1.5.0",
            "_view_name": "HBoxView",
            "box_style": "",
            "children": [
              "IPY_MODEL_e58e17c3a3a344179f5ce9e2847567a4"
            ],
            "layout": "IPY_MODEL_2cd3ed4662ef4ec282738a2aecf163d8"
          }
        },
        "783d498c62404831b1ee2f0e8a0f012e": {
          "model_module": "@jupyter-widgets/controls",
          "model_name": "VBoxModel",
          "model_module_version": "1.5.0",
          "state": {
            "_dom_classes": [],
            "_model_module": "@jupyter-widgets/controls",
            "_model_module_version": "1.5.0",
            "_model_name": "VBoxModel",
            "_view_count": null,
            "_view_module": "@jupyter-widgets/controls",
            "_view_module_version": "1.5.0",
            "_view_name": "VBoxView",
            "box_style": "",
            "children": [
              "IPY_MODEL_90306aece52d4c16919db299c6f62824"
            ],
            "layout": "IPY_MODEL_091bb00546934fa9a47f0578f4ec08d5"
          }
        },
        "e58e17c3a3a344179f5ce9e2847567a4": {
          "model_module": "@jupyter-widgets/controls",
          "model_name": "ToggleButtonModel",
          "model_module_version": "1.5.0",
          "state": {
            "_dom_classes": [],
            "_model_module": "@jupyter-widgets/controls",
            "_model_module_version": "1.5.0",
            "_model_name": "ToggleButtonModel",
            "_view_count": null,
            "_view_module": "@jupyter-widgets/controls",
            "_view_module_version": "1.5.0",
            "_view_name": "ToggleButtonView",
            "button_style": "",
            "description": "",
            "description_tooltip": null,
            "disabled": false,
            "icon": "globe",
            "layout": "IPY_MODEL_cf11be4763f842cd978a995409dac5cc",
            "style": "IPY_MODEL_a9faf191d6a146ddaeab69f8e72c585e",
            "tooltip": "Search location/data",
            "value": false
          }
        },
        "2cd3ed4662ef4ec282738a2aecf163d8": {
          "model_module": "@jupyter-widgets/base",
          "model_name": "LayoutModel",
          "model_module_version": "1.2.0",
          "state": {
            "_model_module": "@jupyter-widgets/base",
            "_model_module_version": "1.2.0",
            "_model_name": "LayoutModel",
            "_view_count": null,
            "_view_module": "@jupyter-widgets/base",
            "_view_module_version": "1.2.0",
            "_view_name": "LayoutView",
            "align_content": null,
            "align_items": null,
            "align_self": null,
            "border": null,
            "bottom": null,
            "display": null,
            "flex": null,
            "flex_flow": null,
            "grid_area": null,
            "grid_auto_columns": null,
            "grid_auto_flow": null,
            "grid_auto_rows": null,
            "grid_column": null,
            "grid_gap": null,
            "grid_row": null,
            "grid_template_areas": null,
            "grid_template_columns": null,
            "grid_template_rows": null,
            "height": null,
            "justify_content": null,
            "justify_items": null,
            "left": null,
            "margin": null,
            "max_height": null,
            "max_width": null,
            "min_height": null,
            "min_width": null,
            "object_fit": null,
            "object_position": null,
            "order": null,
            "overflow": null,
            "overflow_x": null,
            "overflow_y": null,
            "padding": null,
            "right": null,
            "top": null,
            "visibility": null,
            "width": null
          }
        },
        "90306aece52d4c16919db299c6f62824": {
          "model_module": "@jupyter-widgets/controls",
          "model_name": "ToggleButtonModel",
          "model_module_version": "1.5.0",
          "state": {
            "_dom_classes": [],
            "_model_module": "@jupyter-widgets/controls",
            "_model_module_version": "1.5.0",
            "_model_name": "ToggleButtonModel",
            "_view_count": null,
            "_view_module": "@jupyter-widgets/controls",
            "_view_module_version": "1.5.0",
            "_view_name": "ToggleButtonView",
            "button_style": "",
            "description": "",
            "description_tooltip": null,
            "disabled": false,
            "icon": "wrench",
            "layout": "IPY_MODEL_61d89301e1294da0aeb1618ce23412fd",
            "style": "IPY_MODEL_8caf3236dbfe462da4e7f19e8e3acde8",
            "tooltip": "Toolbar",
            "value": false
          }
        },
        "091bb00546934fa9a47f0578f4ec08d5": {
          "model_module": "@jupyter-widgets/base",
          "model_name": "LayoutModel",
          "model_module_version": "1.2.0",
          "state": {
            "_model_module": "@jupyter-widgets/base",
            "_model_module_version": "1.2.0",
            "_model_name": "LayoutModel",
            "_view_count": null,
            "_view_module": "@jupyter-widgets/base",
            "_view_module_version": "1.2.0",
            "_view_name": "LayoutView",
            "align_content": null,
            "align_items": null,
            "align_self": null,
            "border": null,
            "bottom": null,
            "display": null,
            "flex": null,
            "flex_flow": null,
            "grid_area": null,
            "grid_auto_columns": null,
            "grid_auto_flow": null,
            "grid_auto_rows": null,
            "grid_column": null,
            "grid_gap": null,
            "grid_row": null,
            "grid_template_areas": null,
            "grid_template_columns": null,
            "grid_template_rows": null,
            "height": null,
            "justify_content": null,
            "justify_items": null,
            "left": null,
            "margin": null,
            "max_height": null,
            "max_width": null,
            "min_height": null,
            "min_width": null,
            "object_fit": null,
            "object_position": null,
            "order": null,
            "overflow": null,
            "overflow_x": null,
            "overflow_y": null,
            "padding": null,
            "right": null,
            "top": null,
            "visibility": null,
            "width": null
          }
        },
        "cf11be4763f842cd978a995409dac5cc": {
          "model_module": "@jupyter-widgets/base",
          "model_name": "LayoutModel",
          "model_module_version": "1.2.0",
          "state": {
            "_model_module": "@jupyter-widgets/base",
            "_model_module_version": "1.2.0",
            "_model_name": "LayoutModel",
            "_view_count": null,
            "_view_module": "@jupyter-widgets/base",
            "_view_module_version": "1.2.0",
            "_view_name": "LayoutView",
            "align_content": null,
            "align_items": null,
            "align_self": null,
            "border": null,
            "bottom": null,
            "display": null,
            "flex": null,
            "flex_flow": null,
            "grid_area": null,
            "grid_auto_columns": null,
            "grid_auto_flow": null,
            "grid_auto_rows": null,
            "grid_column": null,
            "grid_gap": null,
            "grid_row": null,
            "grid_template_areas": null,
            "grid_template_columns": null,
            "grid_template_rows": null,
            "height": "28px",
            "justify_content": null,
            "justify_items": null,
            "left": null,
            "margin": null,
            "max_height": null,
            "max_width": null,
            "min_height": null,
            "min_width": null,
            "object_fit": null,
            "object_position": null,
            "order": null,
            "overflow": null,
            "overflow_x": null,
            "overflow_y": null,
            "padding": "0px 0px 0px 4px",
            "right": null,
            "top": null,
            "visibility": null,
            "width": "28px"
          }
        },
        "a9faf191d6a146ddaeab69f8e72c585e": {
          "model_module": "@jupyter-widgets/controls",
          "model_name": "DescriptionStyleModel",
          "model_module_version": "1.5.0",
          "state": {
            "_model_module": "@jupyter-widgets/controls",
            "_model_module_version": "1.5.0",
            "_model_name": "DescriptionStyleModel",
            "_view_count": null,
            "_view_module": "@jupyter-widgets/base",
            "_view_module_version": "1.2.0",
            "_view_name": "StyleView",
            "description_width": ""
          }
        },
        "61d89301e1294da0aeb1618ce23412fd": {
          "model_module": "@jupyter-widgets/base",
          "model_name": "LayoutModel",
          "model_module_version": "1.2.0",
          "state": {
            "_model_module": "@jupyter-widgets/base",
            "_model_module_version": "1.2.0",
            "_model_name": "LayoutModel",
            "_view_count": null,
            "_view_module": "@jupyter-widgets/base",
            "_view_module_version": "1.2.0",
            "_view_name": "LayoutView",
            "align_content": null,
            "align_items": null,
            "align_self": null,
            "border": null,
            "bottom": null,
            "display": null,
            "flex": null,
            "flex_flow": null,
            "grid_area": null,
            "grid_auto_columns": null,
            "grid_auto_flow": null,
            "grid_auto_rows": null,
            "grid_column": null,
            "grid_gap": null,
            "grid_row": null,
            "grid_template_areas": null,
            "grid_template_columns": null,
            "grid_template_rows": null,
            "height": "28px",
            "justify_content": null,
            "justify_items": null,
            "left": null,
            "margin": null,
            "max_height": null,
            "max_width": null,
            "min_height": null,
            "min_width": null,
            "object_fit": null,
            "object_position": null,
            "order": null,
            "overflow": null,
            "overflow_x": null,
            "overflow_y": null,
            "padding": "0px 0px 0px 4px",
            "right": null,
            "top": null,
            "visibility": null,
            "width": "28px"
          }
        },
        "8caf3236dbfe462da4e7f19e8e3acde8": {
          "model_module": "@jupyter-widgets/controls",
          "model_name": "DescriptionStyleModel",
          "model_module_version": "1.5.0",
          "state": {
            "_model_module": "@jupyter-widgets/controls",
            "_model_module_version": "1.5.0",
            "_model_name": "DescriptionStyleModel",
            "_view_count": null,
            "_view_module": "@jupyter-widgets/base",
            "_view_module_version": "1.2.0",
            "_view_name": "StyleView",
            "description_width": ""
          }
        },
        "8edfb842c187414082ad36f20d122c6a": {
          "model_module": "@jupyter-widgets/controls",
          "model_name": "HTMLModel",
          "model_module_version": "1.5.0",
          "state": {
            "_dom_classes": [],
            "_model_module": "@jupyter-widgets/controls",
            "_model_module_version": "1.5.0",
            "_model_name": "HTMLModel",
            "_view_count": null,
            "_view_module": "@jupyter-widgets/controls",
            "_view_module_version": "1.5.0",
            "_view_name": "HTMLView",
            "description": "",
            "description_tooltip": null,
            "layout": "IPY_MODEL_27514049bd1645358209f59c0081ff1e",
            "placeholder": "​",
            "style": "IPY_MODEL_fd9a32358a274423b0a98a8825a2be9e",
            "value": "<embed src=data:image/svg+xml;charset=utf-8;base64,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 width=50%></embed>"
          }
        },
        "27514049bd1645358209f59c0081ff1e": {
          "model_module": "@jupyter-widgets/base",
          "model_name": "LayoutModel",
          "model_module_version": "1.2.0",
          "state": {
            "_model_module": "@jupyter-widgets/base",
            "_model_module_version": "1.2.0",
            "_model_name": "LayoutModel",
            "_view_count": null,
            "_view_module": "@jupyter-widgets/base",
            "_view_module_version": "1.2.0",
            "_view_name": "LayoutView",
            "align_content": null,
            "align_items": null,
            "align_self": null,
            "border": null,
            "bottom": null,
            "display": null,
            "flex": null,
            "flex_flow": null,
            "grid_area": null,
            "grid_auto_columns": null,
            "grid_auto_flow": null,
            "grid_auto_rows": null,
            "grid_column": null,
            "grid_gap": null,
            "grid_row": null,
            "grid_template_areas": null,
            "grid_template_columns": null,
            "grid_template_rows": null,
            "height": null,
            "justify_content": null,
            "justify_items": null,
            "left": null,
            "margin": null,
            "max_height": null,
            "max_width": null,
            "min_height": null,
            "min_width": null,
            "object_fit": null,
            "object_position": null,
            "order": null,
            "overflow": null,
            "overflow_x": null,
            "overflow_y": null,
            "padding": null,
            "right": null,
            "top": null,
            "visibility": null,
            "width": null
          }
        },
        "fd9a32358a274423b0a98a8825a2be9e": {
          "model_module": "@jupyter-widgets/controls",
          "model_name": "DescriptionStyleModel",
          "model_module_version": "1.5.0",
          "state": {
            "_model_module": "@jupyter-widgets/controls",
            "_model_module_version": "1.5.0",
            "_model_name": "DescriptionStyleModel",
            "_view_count": null,
            "_view_module": "@jupyter-widgets/base",
            "_view_module_version": "1.2.0",
            "_view_name": "StyleView",
            "description_width": ""
          }
        }
      }
    }
  },
  "nbformat": 4,
  "nbformat_minor": 0
}