{
  "cells": [
    {
      "cell_type": "markdown",
      "metadata": {
        "id": "fY4VmS6c2SVt"
      },
      "source": [
        "## Introduction of GEE and NDVI for AOI\n",
        "#TD"
      ]
    },
    {
      "cell_type": "markdown",
      "metadata": {
        "id": "2P7KjHAU2SVv"
      },
      "source": [
        "## Setting your toolbox"
      ]
    },
    {
      "cell_type": "code",
      "execution_count": null,
      "metadata": {
        "id": "BFvPOSN02SVv"
      },
      "outputs": [],
      "source": [
        "!pip install earthengine-api\n",
        "!pip install folium \n",
        "!pip install geehydro\n",
        "!pip install proplot\n",
        "!pip install ipygee"
      ]
    },
    {
      "cell_type": "code",
      "execution_count": 2,
      "metadata": {
        "id": "_wAXIbQw2SVx"
      },
      "outputs": [],
      "source": [
        "import ee \n",
        "import folium\n",
        "import geehydro\n",
        "import xarray as xr\n",
        "\n",
        "from datetime import datetime as dt\n",
        "from IPython.display import Image\n",
        "import pandas as pd\n",
        "#import proplot as plot \n",
        "import matplotlib.pyplot as plt \n",
        "\n",
        "from ipygee import *\n",
        "from pandas.plotting import register_matplotlib_converters\n",
        "import branca.colormap as cm\n",
        "# import folium.plugins \n",
        "import branca\n",
        "from folium import * "
      ]
    },
    {
      "cell_type": "markdown",
      "metadata": {
        "id": "TM5TpHKF2SVx"
      },
      "source": [
        "## Initialize the connection to the server"
      ]
    },
    {
      "cell_type": "code",
      "execution_count": 4,
      "metadata": {
        "id": "8rGMxZRQ2SVx"
      },
      "outputs": [],
      "source": [
        "# ee.Authenticate()\n",
        "ee.Initialize()"
      ]
    },
    {
      "cell_type": "markdown",
      "metadata": {
        "id": "xgPDk0F-2SVx"
      },
      "source": [
        "## Select a region in the world"
      ]
    },
    {
      "cell_type": "code",
      "execution_count": null,
      "metadata": {
        "scrolled": true,
        "id": "vu6pSEfm2SVx"
      },
      "outputs": [],
      "source": [
        "# the Korea Seoul .\n",
        "Himalaya_map = folium.Map(location=[28.219812566703645,85.59529116364365,], zoom_start=7,tiles=\"Stamen Terrain\")\n",
        "Himalaya_map"
      ]
    },
    {
      "cell_type": "markdown",
      "metadata": {
        "id": "roWLCBk02SV2"
      },
      "source": [
        "## Setting the Area of Interest (AOI)"
      ]
    },
    {
      "cell_type": "code",
      "execution_count": 6,
      "metadata": {
        "id": "eQVPqBuD2SV2"
      },
      "outputs": [],
      "source": [
        "# Himalaya_AOI = ee.Geometry.Rectangle([126.5,37.0,\n",
        "#                                    127.5,37.9])   #xlo\", \"ylo\", \"xhi\" and \"yhi\" \n",
        "# # Seoul_AOI = ee.Geometry.Point([126.9780,37.5665]).buffer(20000)\n",
        "# # help(ee.Geometry.Rectangle)\n",
        "Himalaya_AOI = ee.Geometry.Polygon([[70.37980734782377,34.20014926719452],\n",
        "[70.86320578532377,34.20014926719452],\n",
        " [72.40129172282377,34.05463899658766],\n",
        " [73.41203391032377,33.360057261802915],\n",
        " [74.95011984782377,32.326294617152875],\n",
        " [76.66398703532377,31.205448585010295],\n",
        " [78.24601828532377,30.071161703174734],\n",
        " [79.82804953532377,29.307644833926915],\n",
        " [81.45402609782377,28.306484308226114],\n",
        " [83.65129172282377,27.607788110834946],\n",
        " [87.47453391032377,27.178594650769533],\n",
        " [88.48527609782377,26.982957823282142],\n",
        " [91.95695578532377,26.826202971177672],\n",
        " [96.08781516032377,28.267786780126247],\n",
        " [96.08781516032377,29.000621559555128],\n",
        " [95.29679953532377,29.728297185240383],\n",
        " [94.15422141032377,29.192618684440546],\n",
        " [92.74797141032377,28.15160989157106],\n",
        " [91.42961203532377,28.074088505068868],\n",
        " [89.36418234782377,27.99651113483418],\n",
        " [86.90324484782377,28.34516776469134],\n",
        " [84.00285422282377,29.115862806544595],\n",
        " [79.08097922282377,31.318142578838632],\n",
        " [76.40031516032377,33.24987411988282],\n",
        "[75.30168234782377,34.56282699752331],\n",
        " [73.76359641032377,35.13983300015285],\n",
        " [72.04972922282377,35.748451422480656],\n",
        " [70.46769797282377,35.85537617379362],\n",
        " [69.85246359782377,34.30911746948516],\n",
        " [70.37980734782377,34.20014926719452]],   \n",
        "\n",
        ")\n",
        "\n",
        "Himalaya_map.addLayer(Himalaya_AOI)\n",
        "# Himalaya_map\n"
      ]
    },
    {
      "cell_type": "code",
      "source": [
        "# Finding the area of of region AOI\n",
        "# Load an image\n",
        "# image = ee.Image(.................)\n",
        "\n",
        "# Create an image where each pixel's value is its area in square meters\n",
        "pixelAreaImage = ee.Image.pixelArea()\n",
        "\n",
        "# Calculate the total area of the image in square kilometers\n",
        "totalArea = pixelAreaImage.reduceRegion(\n",
        "    reducer=ee.Reducer.sum(),\n",
        "    geometry=Himalaya_AOI,             #image.geometry()\n",
        "    scale=30,\n",
        "    maxPixels=1e9\n",
        ").get('area')\n",
        "\n",
        "# Convert the result from square meters to square kilometers\n",
        "totalArea = ee.Number(totalArea).divide(1000 * 1000)\n",
        "\n",
        "# Print the result\n",
        "print('Total area:', totalArea.getInfo())"
      ],
      "metadata": {
        "colab": {
          "base_uri": "https://localhost:8080/"
        },
        "id": "ECvS9Gv_fR2M",
        "outputId": "894538aa-0ea9-46d6-ab32-fa417d3c6819"
      },
      "execution_count": null,
      "outputs": [
        {
          "output_type": "stream",
          "name": "stdout",
          "text": [
            "Total area: 434478.8066687626\n"
          ]
        }
      ]
    },
    {
      "cell_type": "code",
      "source": [
        "# Checking the area of of region AOI\n",
        "area=Himalaya_AOI.area().getInfo()/(1000*1000)\n",
        "print('Area of AOI is:',round(area,2),'Sqkm')\n",
        "print('perimeter:',Himalaya_AOI.perimeter().divide(1000).getInfo())"
      ],
      "metadata": {
        "colab": {
          "base_uri": "https://localhost:8080/"
        },
        "id": "SZEOak1Tc_ja",
        "outputId": "c43270ae-d8fd-41d0-c653-dcf0c9887b01"
      },
      "execution_count": null,
      "outputs": [
        {
          "output_type": "stream",
          "name": "stdout",
          "text": [
            "Area of AOI is: 434930.05 Sqkm\n",
            "perimeter: 5870.9315523909445\n"
          ]
        }
      ]
    },
    {
      "cell_type": "markdown",
      "metadata": {
        "id": "rxROYzfg2SV2"
      },
      "source": [
        "## The Landsat 8 Collection"
      ]
    },
    {
      "cell_type": "code",
      "source": [
        "### Landset NDVI bands"
      ],
      "metadata": {
        "id": "YgD_CNaCY5fs"
      },
      "execution_count": null,
      "outputs": []
    },
    {
      "cell_type": "code",
      "source": [
        "# NDVIL = ee.ImageCollection('MODIS/006/MOD13Q1').filterDate(ee.DateRange('2016-01-01',\n",
        "#                                                                         '2019-12-01'))\n",
        "NDVIL = ee.ImageCollection(\"LANDSAT/LC08/C01/T1_32DAY_NDVI\").filterDate(ee.DateRange('2013-04-07',\n",
        "                                                                        '2022-01-01'))\n",
        "ndvi = NDVIL.select('NDVI')\n"
      ],
      "metadata": {
        "id": "3bkHYbcBY6dc"
      },
      "execution_count": 73,
      "outputs": []
    },
    {
      "cell_type": "code",
      "execution_count": null,
      "metadata": {
        "id": "Irpqf4j-2SV2"
      },
      "outputs": [],
      "source": [
        "# landsat = ee.ImageCollection(\"LANDSAT/LC08/C01/T1_SR\")\n",
        "# # choose dates\n",
        "# landsat = landsat.filterDate('2019-07-01','2019-12-01')\n",
        "# # filter area\n",
        "# landsat_AOI = landsat.filterBounds(Seoul_AOI)\n"
      ]
    },
    {
      "cell_type": "code",
      "source": [
        "landsat_AOI = ndvi.filterBounds(Himalaya_AOI)\n",
        "aa=landsat_AOI.reduce(ee.Reducer.median())\n",
        "aa.getInfo()\n"
      ],
      "metadata": {
        "id": "oyAoh2UsieiU",
        "colab": {
          "base_uri": "https://localhost:8080/"
        },
        "outputId": "6bdaad4c-daba-4c77-b293-9bfd6218dc64"
      },
      "execution_count": 8,
      "outputs": [
        {
          "output_type": "execute_result",
          "data": {
            "text/plain": [
              "{'type': 'Image',\n",
              " 'bands': [{'id': 'NDVI_median',\n",
              "   'data_type': {'type': 'PixelType',\n",
              "    'precision': 'float',\n",
              "    'min': -1,\n",
              "    'max': 1},\n",
              "   'crs': 'EPSG:4326',\n",
              "   'crs_transform': [1, 0, 0, 0, 1, 0]}]}"
            ]
          },
          "metadata": {},
          "execution_count": 8
        }
      ]
    },
    {
      "cell_type": "markdown",
      "source": [
        "Exporting map with extent"
      ],
      "metadata": {
        "id": "E33YZ-SVfVAm"
      }
    },
    {
      "cell_type": "code",
      "source": [
        "# the best wat to downlaod tiff file of AOI regiion \n",
        "import requests\n",
        "import ee\n",
        "\n",
        "# img = ee.Image('COPERNICUS/S2_SR/20210109T185751_20210109T185931_T10SEG')\n",
        "# region = ee.Geometry.BBox(-122.0859, 37.0436, -122.0626, 37.0586)\n",
        "\n",
        "# Multi-band GeoTIFF file.\n",
        "url = aa.getDownloadUrl({\n",
        "    # 'bands': ['B3', 'B8', 'B11'],\n",
        "    'region': Himalaya_AOI,\n",
        "    'scale': 2000,\n",
        "    'format': 'GEO_TIFF'\n",
        "})\n",
        "response = requests.get(url)\n",
        "with open('multi_band_median.tif', 'wb') as fd:\n",
        "  fd.write(response.content)"
      ],
      "metadata": {
        "id": "EPB1mZr7XDDU"
      },
      "execution_count": null,
      "outputs": []
    },
    {
      "cell_type": "code",
      "source": [
        "# pip install geemap"
      ],
      "metadata": {
        "id": "WIX6Vh2RMMaj"
      },
      "execution_count": null,
      "outputs": []
    },
    {
      "cell_type": "code",
      "source": [
        "# # Load Landsat 8 image collection Different bands \n",
        "import geemap\n",
        "import time\n",
        "aoi=Himalaya_AOI\n",
        "collection = ee.ImageCollection('LANDSAT/LC08/C01/T1_TOA') \\\n",
        "    .filterBounds(aoi) \\\n",
        "    .filterDate('2019-01-01', '2019-12-31') \\\n",
        "    .sort('CLOUD_COVER')\n",
        "\n",
        "# Clip the image collection to the AOI\n",
        "collection = collection.map(lambda image: image.clip(aoi))\n",
        "\n",
        "# Plot the image collection\n",
        "Map = geemap.Map()\n",
        "Map.centerObject(aoi, zoom=12)\n",
        "Map.addLayer(collection.median(), {'bands': ['B4', 'B3', 'B2'], 'min': 0, 'max': 0.3}, 'Landsat 8')\n",
        "Map.addLayer(aoi, {'color': 'green'}, 'AOI')\n",
        "Map.addLayerControl()\n",
        "Map\n"
      ],
      "metadata": {
        "id": "st7xcRkpLzj9"
      },
      "execution_count": null,
      "outputs": []
    },
    {
      "cell_type": "code",
      "source": [
        "from google.colab import drive\n",
        "drive.mount('/content/drive')"
      ],
      "metadata": {
        "colab": {
          "base_uri": "https://localhost:8080/"
        },
        "id": "ZcTw0zUTdAtE",
        "outputId": "21210bc4-fb5f-4a7e-81f4-398d32b9d9dc"
      },
      "execution_count": null,
      "outputs": [
        {
          "output_type": "stream",
          "name": "stdout",
          "text": [
            "Drive already mounted at /content/drive; to attempt to forcibly remount, call drive.mount(\"/content/drive\", force_remount=True).\n"
          ]
        }
      ]
    },
    {
      "cell_type": "code",
      "source": [
        "# from google.colab import files\n",
        "# import time\n",
        "# image=aa\n",
        "\n",
        "# export_params = {\n",
        "#   'image': image,\n",
        "#   'description': 'image_to_drive_example',\n",
        "#   'folder': 'GEE_exports',\n",
        "#   'scale': 30,\n",
        "#   'region': image.geometry().bounds(),\n",
        "#   'fileFormat': 'GeoTIFF'\n",
        "# }\n",
        "\n",
        "# # Create the export task\n",
        "# task = ee.batch.Export.image.toDrive(**export_params)\n",
        "\n",
        "# task.start()\n",
        "\n",
        "# # Wait for the export task to complete\n",
        "# while task.status()['state'] in ['READY', 'RUNNING']:\n",
        "#     print('Export task is', task.status()['state'].lower())\n",
        "#     time.sleep(10)\n",
        "\n",
        "# # Check if the export task completed successfully\n",
        "# if task.status()['state'] == 'COMPLETED':\n",
        "#     print('Export task completed successfully!')\n",
        "# else:\n",
        "#     print('Export task failed or was cancelled.')\n",
        "# # files.download('/content/drive/My Drive/GEE_outputs/mean_image.tif')"
      ],
      "metadata": {
        "id": "_5zXwh1Sb2-2"
      },
      "execution_count": null,
      "outputs": []
    },
    {
      "cell_type": "code",
      "source": [
        "#scaling image\n",
        "def scale_factor(image):\n",
        "  # scale factor for the MODIS MOD13Q1 product\n",
        "  return image.multiply(1).copyProperties(image, ['system:time_start'])"
      ],
      "metadata": {
        "id": "jFX5GpFoN5Zx"
      },
      "execution_count": 74,
      "outputs": []
    },
    {
      "cell_type": "code",
      "source": [
        "# mapping function to multiply by the scale factor and number of layers \n",
        "scaled_ndvi = ndvi.map(scale_factor)\n",
        "scaled_ndvi.size().getInfo()\n",
        "# ndvi.size().getInfo()"
      ],
      "metadata": {
        "colab": {
          "base_uri": "https://localhost:8080/"
        },
        "id": "3-Y7xSrsi80s",
        "outputId": "5b3b0294-be29-4c87-9661-4a31de657f3e"
      },
      "execution_count": 75,
      "outputs": [
        {
          "output_type": "execute_result",
          "data": {
            "text/plain": [
              "105"
            ]
          },
          "metadata": {},
          "execution_count": 75
        }
      ]
    },
    {
      "cell_type": "code",
      "source": [
        "# Himalaya MOD13Q1 NDVI time series\n",
        "Himalaya_AOI_ndvi = chart.Image.series(**{'imageCollection': scaled_ndvi,     # can chagne 'scaled_ndvi'\n",
        "                                   'region': Himalaya_AOI,\n",
        "                                   'reducer': ee.Reducer.mean(),\n",
        "                                   'scale': 5000,\n",
        "                                   'xProperty': 'system:time_start'\n",
        "                                  })\n",
        "Himalaya_AOI_ndvi.renderWidget(width='50%')"
      ],
      "metadata": {
        "id": "DsYUsiibjx1t"
      },
      "execution_count": null,
      "outputs": []
    },
    {
      "cell_type": "code",
      "source": [
        "# Himalaya_AOI_ndvi.dataframe.to_csv('Himalaya_AOI_ndvi.csv')\n",
        "df=Himalaya_AOI_ndvi.dataframe\n",
        "df['date'] = pd.to_datetime(df.index.values)\n",
        "\n",
        "print(df.head(5))\n",
        "# Himalaya_map\n",
        "Mean_moonthly=df.groupby(df['date'].dt.strftime('%B'))['NDVI'].mean() #.sort_values()\n",
        "Mean_moonthly.to_csv('Mean_moonthly_NDVI.csv')\n",
        "# there is single value for a month so no need to process further "
      ],
      "metadata": {
        "id": "aYZp5E9QJmDm",
        "colab": {
          "base_uri": "https://localhost:8080/"
        },
        "outputId": "347d1b6d-6b48-4431-d380-f0df96fc991d"
      },
      "execution_count": 78,
      "outputs": [
        {
          "output_type": "stream",
          "name": "stdout",
          "text": [
            "                NDVI       date\n",
            "2013-04-11  0.229505 2013-04-11\n",
            "2013-05-13  0.246007 2013-05-13\n",
            "2013-06-14  0.199101 2013-06-14\n",
            "2013-07-16  0.213923 2013-07-16\n",
            "2013-08-17  0.300335 2013-08-17\n"
          ]
        }
      ]
    },
    {
      "cell_type": "code",
      "source": [
        "# fig, ax = plot.subplots(figsize=(7, 3), tight=True)\n",
        "# ax.plot(Himalaya_AOI_ndvi.dataframe.index, Himalaya_AOI_ndvi.dataframe['NDVI'],\n",
        "#         color='forest green', marker='o')\n",
        "# plot.show()"
      ],
      "metadata": {
        "id": "J_VdiuRojyuc"
      },
      "execution_count": null,
      "outputs": []
    },
    {
      "cell_type": "code",
      "source": [
        "## mean NDVI in the Himalaya region \n",
        "bb=Himalaya_map.addLayer(scaled_ndvi.mean().clip(Himalaya_AOI),\n",
        "             vis_params={'min': 0.00001,\n",
        "                         'max': 1,\n",
        "                         'palette': ['red', 'yellow', 'green']})\n",
        "\n",
        "colormap = cm.LinearColormap(colors=['red','green'], index=[-0.9,0.6],vmin=-0.84,vmax=0.6)\n",
        "Himalaya_map.add_child(colormap)\n",
        "minimap = folium.plugins.MiniMap()   # for minmap of survey area\n",
        "Himalaya_map.add_child(minimap)\n",
        "# # Add a minimap with a scale bar\n",
        "# MM = MiniMap(toggle_display=True, minimized=True, position='bottomleft', \n",
        "#                   zoom_level_offset=-6, width=150, height=150, metric=True, imperial=False)\n",
        "# Himalaya_map.add_child(MM)\n",
        "display(Himalaya_map)"
      ],
      "metadata": {
        "id": "9v96UdWa2pXF"
      },
      "execution_count": null,
      "outputs": []
    },
    {
      "cell_type": "code",
      "source": [
        "\n",
        "Himalaya_map.save(\"filename.tif\")\n",
        "Himalaya_map.save(\"filename1.html\")\n",
        "\n"
      ],
      "metadata": {
        "id": "pQi3IAIPLhpd"
      },
      "execution_count": null,
      "outputs": []
    },
    {
      "cell_type": "code",
      "source": [
        "# #Export the image, specifying the CRS, transform, and region.\n",
        "# task=ee.batch.Export.image.toDrive(\n",
        "#   image= ndvi,\n",
        "#   # image=aa,\n",
        "#   scale=1000,\n",
        "#   region=Himalaya_AOI,\n",
        "#   description= 'imageToDriveExample_transform',\n",
        "#   fileNamePrefix='my_export_lyon1',\n",
        "#   # crs='EPSG:4326',\n",
        "#   fileFormat='GeoTIFF'\n",
        "   \n",
        "# );\n",
        "# task.start()\n",
        "# #checking the status for file saviing \n",
        "# while True:\n",
        "#   cc=task.status()\n",
        "#   if cc['state']=='COMPLETED':\n",
        "#     break\n",
        "\n"
      ],
      "metadata": {
        "id": "fJjRqxqCVbEz"
      },
      "execution_count": null,
      "outputs": []
    },
    {
      "cell_type": "code",
      "source": [
        "# pwd\n"
      ],
      "metadata": {
        "id": "vzSetL16dFvh"
      },
      "execution_count": null,
      "outputs": []
    },
    {
      "cell_type": "code",
      "source": [
        "landsat_AOI = ndvi.filterBounds(Himalaya_AOI)\n",
        "aa=landsat_AOI.reduce(ee.Reducer.median())\n",
        "aa.getInfo()\n",
        "\n",
        "link = aa.getDownloadURL({   ## aa is the file that we hd cropted\n",
        "    'scale': 1000, \n",
        "    'crs': 'EPSG:4326',\n",
        "    'fileFormat': 'GeoTIFF',\n",
        "    'region': Himalaya_AOI})\n",
        "print(link)"
      ],
      "metadata": {
        "id": "vhCfM_PqYhZy"
      },
      "execution_count": null,
      "outputs": []
    },
    {
      "cell_type": "code",
      "source": [],
      "metadata": {
        "id": "EZh8kzqEBi1z"
      },
      "execution_count": null,
      "outputs": []
    },
    {
      "cell_type": "code",
      "source": [
        "Himalaya_AOI.getInfo()['coordinates']"
      ],
      "metadata": {
        "id": "CFG4ZjOD_yPp"
      },
      "execution_count": null,
      "outputs": []
    },
    {
      "cell_type": "code",
      "source": [
        "# define your non-rectangular polygon\n",
        "aoi = Himalaya_AOI.getInfo()['coordinates']\n",
        "\n",
        "# load the image\n",
        "image = ee.Image('LANDSAT/LC08/C01/T1_TOA/LC08_044034_20140318').clip(aoi)\n",
        "\n",
        "# clip the image to the polygon boundary\n",
        "clipped = image.clip(aoi)\n",
        "\n",
        "# export the clipped image to Google Drive\n",
        "task = ee.batch.Export.image.toDrive(image=clipped, description='clipped_image', folder='my_folder', scale=30)\n",
        "task.start()\n",
        "#checking the status for file saviing \n",
        "while True:\n",
        "  cc=task.status()\n",
        "  if cc['state']=='COMPLETED':\n",
        "    break"
      ],
      "metadata": {
        "id": "hh0G2yJ0_llC"
      },
      "execution_count": null,
      "outputs": []
    },
    {
      "cell_type": "markdown",
      "source": [
        "## downloading only clip regiion"
      ],
      "metadata": {
        "id": "zb1EAmAX7O7g"
      }
    },
    {
      "cell_type": "code",
      "source": [
        "# Load the image and polygon\n",
        "# Clip the image to the polygon\n",
        "clipped_image = aa.clip(Himalaya_AOI)\n",
        "\n",
        "# Get the download URL for the clipped image\n",
        "url = clipped_image.getDownloadURL({\n",
        "    'name': 'clipped_image',\n",
        "    'scale': 2000,\n",
        "    'region': Himalaya_AOI\n",
        "})\n",
        "print(url)"
      ],
      "metadata": {
        "colab": {
          "base_uri": "https://localhost:8080/"
        },
        "id": "n89UyKnE7MfJ",
        "outputId": "4c25478f-8c9e-40e8-d6f5-1db958e57032"
      },
      "execution_count": null,
      "outputs": [
        {
          "output_type": "stream",
          "name": "stdout",
          "text": [
            "https://earthengine.googleapis.com/v1alpha/projects/earthengine-legacy/thumbnails/994b3fdb44f57dc5d1ef3ef052c34028-a24149ae0e472706b38517a3120910e1:getPixels\n"
          ]
        }
      ]
    },
    {
      "cell_type": "code",
      "source": [
        "Himalaya_AOI.getInfo()['coordinates']"
      ],
      "metadata": {
        "id": "eQfggjBC7CUw"
      },
      "execution_count": null,
      "outputs": []
    },
    {
      "cell_type": "code",
      "source": [
        "# import os\n",
        "# import folium\n",
        "\n",
        "# m = folium.Map([28,85], zoom_start=1, tiles=\"stamentoner\")\n",
        "# merc = os.path.join(\"data\", \"/content/filename.png\")\n",
        "\n",
        "\n",
        "# if not os.path.isfile(merc):\n",
        "#     print(f\"Could not find {merc}\")\n",
        "# else:\n",
        "#     img = folium.raster_layers.ImageOverlay(\n",
        "#         name=\"filename\",\n",
        "#         image=merc,\n",
        "#         bounds=[[26.5, 69.85], [36,96]],\n",
        "#         # bounds=Himalaya_AOI,\n",
        "#         # opacity=0.6,\n",
        "#         interactive=True,\n",
        "#         cross_origin=False,\n",
        "#         zindex=1,\n",
        "#     )\n",
        "\n",
        "#     folium.Popup(\"I am an image\").add_to(img)\n",
        "\n",
        "#     img.add_to(m)\n",
        "#     folium.LayerControl().add_to(m)\n",
        "\n",
        "# m"
      ],
      "metadata": {
        "id": "kIrbMrAMRQ4M"
      },
      "execution_count": null,
      "outputs": []
    },
    {
      "cell_type": "code",
      "source": [
        "## Temperature data"
      ],
      "metadata": {
        "id": "5QQRtldASU3j"
      },
      "execution_count": null,
      "outputs": []
    },
    {
      "cell_type": "code",
      "source": [
        "dataset = ee.ImageCollection('LANDSAT/LC08/C02/T1_L2').filterDate('2013-03-18', '2022-12-29');\n",
        "dataset.size().getInfo()\n"
      ],
      "metadata": {
        "colab": {
          "base_uri": "https://localhost:8080/"
        },
        "id": "ah5qdhpdSSNl",
        "outputId": "dd74fc02-c13a-4bb7-f5fe-86eaffa0c854"
      },
      "execution_count": null,
      "outputs": [
        {
          "output_type": "execute_result",
          "data": {
            "text/plain": [
              "1495387"
            ]
          },
          "metadata": {},
          "execution_count": 35
        }
      ]
    },
    {
      "cell_type": "code",
      "source": [
        "#scaling image\n",
        "def scale_factor(image):\n",
        "  # scale factor for the MODIS MOD13Q1 product\n",
        "  # return image.select('ST_B10').multiply(1).copyProperties(image, ['system:time_start'])\n",
        " return  image.select('ST_B.*').multiply(0.00341802).add(149.0)"
      ],
      "metadata": {
        "id": "PoCsGhL-STR0"
      },
      "execution_count": null,
      "outputs": []
    },
    {
      "cell_type": "code",
      "source": [
        "scaled_temp = dataset.map(scale_factor)\n",
        "scaled_temp.size().getInfo()"
      ],
      "metadata": {
        "id": "kT603XFzSTyE"
      },
      "execution_count": null,
      "outputs": []
    },
    {
      "cell_type": "markdown",
      "source": [
        "## Precipitatio in AOI "
      ],
      "metadata": {
        "id": "BiXKj5JeYFTF"
      }
    },
    {
      "cell_type": "code",
      "source": [
        "precipitation = ee.ImageCollection('NASA/GPM_L3/IMERG_MONTHLY_V06').select('precipitation') # global precipitation data\n",
        "filteredPrecipitation = precipitation.filterDate('2013-03-18', '2022-12-29').filterBounds(Himalaya_AOI) # filter to aoi region\n",
        "meanPrecipitation = filteredPrecipitation.mean().clip(Himalaya_AOI)\n",
        "\n",
        "meanPrecipitation.getInfo()\n",
        "\n",
        "Himalaya_map.addLayer(meanPrecipitation, {min: 0, max: 1.5, 'palette' : ['white', 'blue']})\n",
        "Himalaya_map"
      ],
      "metadata": {
        "colab": {
          "base_uri": "https://localhost:8080/",
          "height": 884
        },
        "id": "K_x3N31_YezS",
        "outputId": "901d4d50-4a51-42a7-c3fe-d3f2eaa192fa"
      },
      "execution_count": 9,
      "outputs": [
        {
          "output_type": "execute_result",
          "data": {
            "text/plain": [
              "<folium.folium.Map at 0x7f3115fddd20>"
            ],
            "text/html": [
              "<div style=\"width:100%;\"><div style=\"position:relative;width:100%;height:0;padding-bottom:60%;\"><span style=\"color:#565656\">Make this Notebook Trusted to load map: File -> Trust Notebook</span><iframe srcdoc=\"&lt;!DOCTYPE html&gt;\n",
              "&lt;html&gt;\n",
              "&lt;head&gt;\n",
              "    \n",
              "    &lt;meta http-equiv=&quot;content-type&quot; content=&quot;text/html; charset=UTF-8&quot; /&gt;\n",
              "    \n",
              "        &lt;script&gt;\n",
              "            L_NO_TOUCH = false;\n",
              "            L_DISABLE_3D = false;\n",
              "        &lt;/script&gt;\n",
              "    \n",
              "    &lt;style&gt;html, body {width: 100%;height: 100%;margin: 0;padding: 0;}&lt;/style&gt;\n",
              "    &lt;style&gt;#map {position:absolute;top:0;bottom:0;right:0;left:0;}&lt;/style&gt;\n",
              "    &lt;script src=&quot;https://cdn.jsdelivr.net/npm/leaflet@1.9.3/dist/leaflet.js&quot;&gt;&lt;/script&gt;\n",
              "    &lt;script src=&quot;https://code.jquery.com/jquery-1.12.4.min.js&quot;&gt;&lt;/script&gt;\n",
              "    &lt;script src=&quot;https://cdn.jsdelivr.net/npm/bootstrap@5.2.2/dist/js/bootstrap.bundle.min.js&quot;&gt;&lt;/script&gt;\n",
              "    &lt;script src=&quot;https://cdnjs.cloudflare.com/ajax/libs/Leaflet.awesome-markers/2.0.2/leaflet.awesome-markers.js&quot;&gt;&lt;/script&gt;\n",
              "    &lt;link rel=&quot;stylesheet&quot; href=&quot;https://cdn.jsdelivr.net/npm/leaflet@1.9.3/dist/leaflet.css&quot;/&gt;\n",
              "    &lt;link rel=&quot;stylesheet&quot; href=&quot;https://cdn.jsdelivr.net/npm/bootstrap@5.2.2/dist/css/bootstrap.min.css&quot;/&gt;\n",
              "    &lt;link rel=&quot;stylesheet&quot; href=&quot;https://netdna.bootstrapcdn.com/bootstrap/3.0.0/css/bootstrap.min.css&quot;/&gt;\n",
              "    &lt;link rel=&quot;stylesheet&quot; href=&quot;https://cdn.jsdelivr.net/npm/@fortawesome/fontawesome-free@6.2.0/css/all.min.css&quot;/&gt;\n",
              "    &lt;link rel=&quot;stylesheet&quot; href=&quot;https://cdnjs.cloudflare.com/ajax/libs/Leaflet.awesome-markers/2.0.2/leaflet.awesome-markers.css&quot;/&gt;\n",
              "    &lt;link rel=&quot;stylesheet&quot; href=&quot;https://cdn.jsdelivr.net/gh/python-visualization/folium/folium/templates/leaflet.awesome.rotate.min.css&quot;/&gt;\n",
              "    \n",
              "            &lt;meta name=&quot;viewport&quot; content=&quot;width=device-width,\n",
              "                initial-scale=1.0, maximum-scale=1.0, user-scalable=no&quot; /&gt;\n",
              "            &lt;style&gt;\n",
              "                #map_41c4b4046e496bf5e53aad0ee7cd12bc {\n",
              "                    position: relative;\n",
              "                    width: 100.0%;\n",
              "                    height: 100.0%;\n",
              "                    left: 0.0%;\n",
              "                    top: 0.0%;\n",
              "                }\n",
              "                .leaflet-container { font-size: 1rem; }\n",
              "            &lt;/style&gt;\n",
              "        \n",
              "&lt;/head&gt;\n",
              "&lt;body&gt;\n",
              "    \n",
              "    \n",
              "            &lt;div class=&quot;folium-map&quot; id=&quot;map_41c4b4046e496bf5e53aad0ee7cd12bc&quot; &gt;&lt;/div&gt;\n",
              "        \n",
              "&lt;/body&gt;\n",
              "&lt;script&gt;\n",
              "    \n",
              "    \n",
              "            var map_41c4b4046e496bf5e53aad0ee7cd12bc = L.map(\n",
              "                &quot;map_41c4b4046e496bf5e53aad0ee7cd12bc&quot;,\n",
              "                {\n",
              "                    center: [28.219812566703645, 85.59529116364365],\n",
              "                    crs: L.CRS.EPSG3857,\n",
              "                    zoom: 7,\n",
              "                    zoomControl: true,\n",
              "                    preferCanvas: false,\n",
              "                }\n",
              "            );\n",
              "\n",
              "            \n",
              "\n",
              "        \n",
              "    \n",
              "            var tile_layer_451b0e14979fd6d4878c53e2127dc9a8 = L.tileLayer(\n",
              "                &quot;https://stamen-tiles-{s}.a.ssl.fastly.net/terrain/{z}/{x}/{y}.jpg&quot;,\n",
              "                {&quot;attribution&quot;: &quot;Map tiles by \\u003ca target=\\&quot;_blank\\&quot; href=\\&quot;http://stamen.com\\&quot;\\u003eStamen Design\\u003c/a\\u003e, under \\u003ca target=\\&quot;_blank\\&quot; href=\\&quot;http://creativecommons.org/licenses/by/3.0\\&quot;\\u003eCC BY 3.0\\u003c/a\\u003e. Data by \\u0026copy; \\u003ca target=\\&quot;_blank\\&quot; href=\\&quot;http://openstreetmap.org\\&quot;\\u003eOpenStreetMap\\u003c/a\\u003e, under \\u003ca target=\\&quot;_blank\\&quot; href=\\&quot;http://creativecommons.org/licenses/by-sa/3.0\\&quot;\\u003eCC BY SA\\u003c/a\\u003e.&quot;, &quot;detectRetina&quot;: false, &quot;maxNativeZoom&quot;: 18, &quot;maxZoom&quot;: 18, &quot;minZoom&quot;: 0, &quot;noWrap&quot;: false, &quot;opacity&quot;: 1, &quot;subdomains&quot;: &quot;abc&quot;, &quot;tms&quot;: false}\n",
              "            ).addTo(map_41c4b4046e496bf5e53aad0ee7cd12bc);\n",
              "        \n",
              "    \n",
              "            var tile_layer_7b5e411a9d8d8510b9774e553892fc90 = L.tileLayer(\n",
              "                &quot;https://earthengine.googleapis.com/v1alpha/projects/earthengine-legacy/maps/ecd47727440a9e130f3e71c31df07dc9-edf36ed9dea8f49ed6fe9528c313c5e7/tiles/{z}/{x}/{y}&quot;,\n",
              "                {&quot;attribution&quot;: &quot;Google Earth Engine&quot;, &quot;detectRetina&quot;: false, &quot;maxNativeZoom&quot;: 18, &quot;maxZoom&quot;: 18, &quot;minZoom&quot;: 0, &quot;noWrap&quot;: false, &quot;opacity&quot;: 1, &quot;subdomains&quot;: &quot;abc&quot;, &quot;tms&quot;: false}\n",
              "            ).addTo(map_41c4b4046e496bf5e53aad0ee7cd12bc);\n",
              "        \n",
              "    \n",
              "            var tile_layer_b85766c3b69490bd4bb2788e449e1629 = L.tileLayer(\n",
              "                &quot;https://earthengine.googleapis.com/v1alpha/projects/earthengine-legacy/maps/21623b56703d89d3ddbe0dd20f99c9fd-ad0aacdb5725b5366a538de70db4bc91/tiles/{z}/{x}/{y}&quot;,\n",
              "                {&quot;attribution&quot;: &quot;Google Earth Engine&quot;, &quot;detectRetina&quot;: false, &quot;maxNativeZoom&quot;: 18, &quot;maxZoom&quot;: 18, &quot;minZoom&quot;: 0, &quot;noWrap&quot;: false, &quot;opacity&quot;: 1, &quot;subdomains&quot;: &quot;abc&quot;, &quot;tms&quot;: false}\n",
              "            ).addTo(map_41c4b4046e496bf5e53aad0ee7cd12bc);\n",
              "        \n",
              "&lt;/script&gt;\n",
              "&lt;/html&gt;\" style=\"position:absolute;width:100%;height:100%;left:0;top:0;border:none !important;\" allowfullscreen webkitallowfullscreen mozallowfullscreen></iframe></div></div>"
            ]
          },
          "metadata": {},
          "execution_count": 9
        }
      ]
    },
    {
      "cell_type": "code",
      "source": [
        "# Himalaya precip time series\n",
        "Himalaya_AOI_precip = chart.Image.series(**{'imageCollection': filteredPrecipitation,     # can chagne 'scaled_ndvi'\n",
        "                                   'region': Himalaya_AOI,\n",
        "                                   'reducer': ee.Reducer.mean(),\n",
        "                                   'scale': 5000,\n",
        "                                   'xProperty': 'system:time_start'\n",
        "                                  })\n",
        "Himalaya_AOI_precip.renderWidget(width='50%')\n",
        "\n",
        "# Himalaya_AOI_precip.dataframe.to_csv('Himalaya_AOI_precip.csv')\n",
        "df=Himalaya_AOI_precip.dataframe\n",
        "\n",
        "df['date'] = pd.to_datetime(df.index.values)\n",
        "\n",
        "print(df.head(5))\n",
        "# Himalaya_map\n",
        "Mean_moonthly=df.groupby(df['date'].dt.strftime('%B'))['precipitation'].mean() #.sort_values()\n",
        "Mean_moonthly.to_csv('Mean_moonthly_precipitation.csv')\n",
        "# there is single value for a month so no need to process further \n",
        "\n",
        "df.tail(5)\n",
        "\n"
      ],
      "metadata": {
        "colab": {
          "base_uri": "https://localhost:8080/",
          "height": 317
        },
        "id": "2pXsYqNqbXGZ",
        "outputId": "05c324c1-8f16-4ac2-fa8c-b8a9c64c97b6"
      },
      "execution_count": 69,
      "outputs": [
        {
          "output_type": "stream",
          "name": "stdout",
          "text": [
            "            precipitation       date\n",
            "2013-04-01       0.109529 2013-04-01\n",
            "2013-05-01       0.129503 2013-05-01\n",
            "2013-06-01       0.331849 2013-06-01\n",
            "2013-07-01       0.368070 2013-07-01\n",
            "2013-08-01       0.376966 2013-08-01\n"
          ]
        },
        {
          "output_type": "execute_result",
          "data": {
            "text/plain": [
              "            precipitation       date\n",
              "2021-05-01       0.181558 2021-05-01\n",
              "2021-06-01       0.274636 2021-06-01\n",
              "2021-07-01       0.351751 2021-07-01\n",
              "2021-08-01       0.302466 2021-08-01\n",
              "2021-09-01       0.194934 2021-09-01"
            ],
            "text/html": [
              "\n",
              "  <div id=\"df-ebabd640-75d8-40e1-b143-71d884585ff5\">\n",
              "    <div class=\"colab-df-container\">\n",
              "      <div>\n",
              "<style scoped>\n",
              "    .dataframe tbody tr th:only-of-type {\n",
              "        vertical-align: middle;\n",
              "    }\n",
              "\n",
              "    .dataframe tbody tr th {\n",
              "        vertical-align: top;\n",
              "    }\n",
              "\n",
              "    .dataframe thead th {\n",
              "        text-align: right;\n",
              "    }\n",
              "</style>\n",
              "<table border=\"1\" class=\"dataframe\">\n",
              "  <thead>\n",
              "    <tr style=\"text-align: right;\">\n",
              "      <th></th>\n",
              "      <th>precipitation</th>\n",
              "      <th>date</th>\n",
              "    </tr>\n",
              "  </thead>\n",
              "  <tbody>\n",
              "    <tr>\n",
              "      <th>2021-05-01</th>\n",
              "      <td>0.181558</td>\n",
              "      <td>2021-05-01</td>\n",
              "    </tr>\n",
              "    <tr>\n",
              "      <th>2021-06-01</th>\n",
              "      <td>0.274636</td>\n",
              "      <td>2021-06-01</td>\n",
              "    </tr>\n",
              "    <tr>\n",
              "      <th>2021-07-01</th>\n",
              "      <td>0.351751</td>\n",
              "      <td>2021-07-01</td>\n",
              "    </tr>\n",
              "    <tr>\n",
              "      <th>2021-08-01</th>\n",
              "      <td>0.302466</td>\n",
              "      <td>2021-08-01</td>\n",
              "    </tr>\n",
              "    <tr>\n",
              "      <th>2021-09-01</th>\n",
              "      <td>0.194934</td>\n",
              "      <td>2021-09-01</td>\n",
              "    </tr>\n",
              "  </tbody>\n",
              "</table>\n",
              "</div>\n",
              "      <button class=\"colab-df-convert\" onclick=\"convertToInteractive('df-ebabd640-75d8-40e1-b143-71d884585ff5')\"\n",
              "              title=\"Convert this dataframe to an interactive table.\"\n",
              "              style=\"display:none;\">\n",
              "        \n",
              "  <svg xmlns=\"http://www.w3.org/2000/svg\" height=\"24px\"viewBox=\"0 0 24 24\"\n",
              "       width=\"24px\">\n",
              "    <path d=\"M0 0h24v24H0V0z\" fill=\"none\"/>\n",
              "    <path d=\"M18.56 5.44l.94 2.06.94-2.06 2.06-.94-2.06-.94-.94-2.06-.94 2.06-2.06.94zm-11 1L8.5 8.5l.94-2.06 2.06-.94-2.06-.94L8.5 2.5l-.94 2.06-2.06.94zm10 10l.94 2.06.94-2.06 2.06-.94-2.06-.94-.94-2.06-.94 2.06-2.06.94z\"/><path d=\"M17.41 7.96l-1.37-1.37c-.4-.4-.92-.59-1.43-.59-.52 0-1.04.2-1.43.59L10.3 9.45l-7.72 7.72c-.78.78-.78 2.05 0 2.83L4 21.41c.39.39.9.59 1.41.59.51 0 1.02-.2 1.41-.59l7.78-7.78 2.81-2.81c.8-.78.8-2.07 0-2.86zM5.41 20L4 18.59l7.72-7.72 1.47 1.35L5.41 20z\"/>\n",
              "  </svg>\n",
              "      </button>\n",
              "      \n",
              "  <style>\n",
              "    .colab-df-container {\n",
              "      display:flex;\n",
              "      flex-wrap:wrap;\n",
              "      gap: 12px;\n",
              "    }\n",
              "\n",
              "    .colab-df-convert {\n",
              "      background-color: #E8F0FE;\n",
              "      border: none;\n",
              "      border-radius: 50%;\n",
              "      cursor: pointer;\n",
              "      display: none;\n",
              "      fill: #1967D2;\n",
              "      height: 32px;\n",
              "      padding: 0 0 0 0;\n",
              "      width: 32px;\n",
              "    }\n",
              "\n",
              "    .colab-df-convert:hover {\n",
              "      background-color: #E2EBFA;\n",
              "      box-shadow: 0px 1px 2px rgba(60, 64, 67, 0.3), 0px 1px 3px 1px rgba(60, 64, 67, 0.15);\n",
              "      fill: #174EA6;\n",
              "    }\n",
              "\n",
              "    [theme=dark] .colab-df-convert {\n",
              "      background-color: #3B4455;\n",
              "      fill: #D2E3FC;\n",
              "    }\n",
              "\n",
              "    [theme=dark] .colab-df-convert:hover {\n",
              "      background-color: #434B5C;\n",
              "      box-shadow: 0px 1px 3px 1px rgba(0, 0, 0, 0.15);\n",
              "      filter: drop-shadow(0px 1px 2px rgba(0, 0, 0, 0.3));\n",
              "      fill: #FFFFFF;\n",
              "    }\n",
              "  </style>\n",
              "\n",
              "      <script>\n",
              "        const buttonEl =\n",
              "          document.querySelector('#df-ebabd640-75d8-40e1-b143-71d884585ff5 button.colab-df-convert');\n",
              "        buttonEl.style.display =\n",
              "          google.colab.kernel.accessAllowed ? 'block' : 'none';\n",
              "\n",
              "        async function convertToInteractive(key) {\n",
              "          const element = document.querySelector('#df-ebabd640-75d8-40e1-b143-71d884585ff5');\n",
              "          const dataTable =\n",
              "            await google.colab.kernel.invokeFunction('convertToInteractive',\n",
              "                                                     [key], {});\n",
              "          if (!dataTable) return;\n",
              "\n",
              "          const docLinkHtml = 'Like what you see? Visit the ' +\n",
              "            '<a target=\"_blank\" href=https://colab.research.google.com/notebooks/data_table.ipynb>data table notebook</a>'\n",
              "            + ' to learn more about interactive tables.';\n",
              "          element.innerHTML = '';\n",
              "          dataTable['output_type'] = 'display_data';\n",
              "          await google.colab.output.renderOutput(dataTable, element);\n",
              "          const docLink = document.createElement('div');\n",
              "          docLink.innerHTML = docLinkHtml;\n",
              "          element.appendChild(docLink);\n",
              "        }\n",
              "      </script>\n",
              "    </div>\n",
              "  </div>\n",
              "  "
            ]
          },
          "metadata": {},
          "execution_count": 69
        }
      ]
    },
    {
      "cell_type": "markdown",
      "source": [
        "Temperatue in AOI"
      ],
      "metadata": {
        "id": "ofaFe49aiFRw"
      }
    },
    {
      "cell_type": "code",
      "source": [
        "# Load the image collection for the location and time period\n",
        "collection = ee.ImageCollection('MODIS/006/MOD11A2').select('LST_Day_1km').filterBounds(Himalaya_AOI).filterDate('2013-04-07','2022-01-01')\n",
        "\n",
        "Himalaya_map.addLayer(collection, {min: 7500, max: 65535, 'palette' : ['white', 'blue']})\n",
        "\n",
        "\n",
        "\n",
        "# # Select a single image from the collection\n",
        "# image = collection.first()\n",
        "# image.getInfo()\n",
        "# Himalaya temp time series\n",
        "Himalaya_AOI_temp = chart.Image.series(**{'imageCollection': collection,     # can chagne 'scaled_ndvi'\n",
        "                                   'region': Himalaya_AOI,\n",
        "                                   'reducer': ee.Reducer.mean(),\n",
        "                                   'scale': 1000,\n",
        "                                   'xProperty': 'system:time_start'\n",
        "                                  })\n",
        "Himalaya_AOI_temp.renderWidget(width='50%')\n",
        "\n",
        "# Himalaya_AOI_temp.dataframe.to_csv('Himalaya_AOI_temp.csv')\n",
        "df=Himalaya_AOI_temp.dataframe\n",
        "df['date'] = pd.to_datetime(df.index.values)\n",
        "\n",
        "print(df.head(5))\n",
        "# Himalaya_map\n",
        "Mean_moonthly=df.groupby(df['date'].dt.strftime('%B'))['LST_Day_1km'].mean() #.sort_values()\n",
        "Mean_moonthly.to_csv('Mean_moonthly_temp.csv')"
      ],
      "metadata": {
        "id": "Bx9oHJitiIdo",
        "colab": {
          "base_uri": "https://localhost:8080/",
          "height": 128
        },
        "outputId": "7ded5901-ce1f-4477-d235-f92f0e41a6d8"
      },
      "execution_count": 35,
      "outputs": [
        {
          "output_type": "stream",
          "name": "stdout",
          "text": [
            "             LST_Day_1km       date\n",
            "2013-04-07  14572.011478 2013-04-07\n",
            "2013-04-15  14548.498227 2013-04-15\n",
            "2013-04-23  14612.221621 2013-04-23\n",
            "2013-05-01  14674.272081 2013-05-01\n",
            "2013-05-09  14735.962639 2013-05-09\n"
          ]
        }
      ]
    },
    {
      "cell_type": "code",
      "source": [
        "df['YM']=df['date'].apply(lambda x:x.strftime('%Y/%m'))\n",
        "av_temp=df.groupby('YM')['LST_Day_1km'].mean()\n",
        "av_temp.to_csv('average_tempby_month.csv')"
      ],
      "metadata": {
        "id": "tELbfLAZecA0"
      },
      "execution_count": 68,
      "outputs": []
    },
    {
      "cell_type": "code",
      "source": [
        "df.head(2)"
      ],
      "metadata": {
        "colab": {
          "base_uri": "https://localhost:8080/",
          "height": 112
        },
        "id": "J1YUnnqsie_b",
        "outputId": "290e4925-ec2b-46d1-998a-814e98a157c0"
      },
      "execution_count": 60,
      "outputs": [
        {
          "output_type": "execute_result",
          "data": {
            "text/plain": [
              "             LST_Day_1km       date       YM\n",
              "2013-04-07  14572.011478 2013-04-07  04/2013\n",
              "2013-04-15  14548.498227 2013-04-15  04/2013"
            ],
            "text/html": [
              "\n",
              "  <div id=\"df-fd7969ca-75d7-406f-9c74-4c593c5c158f\">\n",
              "    <div class=\"colab-df-container\">\n",
              "      <div>\n",
              "<style scoped>\n",
              "    .dataframe tbody tr th:only-of-type {\n",
              "        vertical-align: middle;\n",
              "    }\n",
              "\n",
              "    .dataframe tbody tr th {\n",
              "        vertical-align: top;\n",
              "    }\n",
              "\n",
              "    .dataframe thead th {\n",
              "        text-align: right;\n",
              "    }\n",
              "</style>\n",
              "<table border=\"1\" class=\"dataframe\">\n",
              "  <thead>\n",
              "    <tr style=\"text-align: right;\">\n",
              "      <th></th>\n",
              "      <th>LST_Day_1km</th>\n",
              "      <th>date</th>\n",
              "      <th>YM</th>\n",
              "    </tr>\n",
              "  </thead>\n",
              "  <tbody>\n",
              "    <tr>\n",
              "      <th>2013-04-07</th>\n",
              "      <td>14572.011478</td>\n",
              "      <td>2013-04-07</td>\n",
              "      <td>04/2013</td>\n",
              "    </tr>\n",
              "    <tr>\n",
              "      <th>2013-04-15</th>\n",
              "      <td>14548.498227</td>\n",
              "      <td>2013-04-15</td>\n",
              "      <td>04/2013</td>\n",
              "    </tr>\n",
              "  </tbody>\n",
              "</table>\n",
              "</div>\n",
              "      <button class=\"colab-df-convert\" onclick=\"convertToInteractive('df-fd7969ca-75d7-406f-9c74-4c593c5c158f')\"\n",
              "              title=\"Convert this dataframe to an interactive table.\"\n",
              "              style=\"display:none;\">\n",
              "        \n",
              "  <svg xmlns=\"http://www.w3.org/2000/svg\" height=\"24px\"viewBox=\"0 0 24 24\"\n",
              "       width=\"24px\">\n",
              "    <path d=\"M0 0h24v24H0V0z\" fill=\"none\"/>\n",
              "    <path d=\"M18.56 5.44l.94 2.06.94-2.06 2.06-.94-2.06-.94-.94-2.06-.94 2.06-2.06.94zm-11 1L8.5 8.5l.94-2.06 2.06-.94-2.06-.94L8.5 2.5l-.94 2.06-2.06.94zm10 10l.94 2.06.94-2.06 2.06-.94-2.06-.94-.94-2.06-.94 2.06-2.06.94z\"/><path d=\"M17.41 7.96l-1.37-1.37c-.4-.4-.92-.59-1.43-.59-.52 0-1.04.2-1.43.59L10.3 9.45l-7.72 7.72c-.78.78-.78 2.05 0 2.83L4 21.41c.39.39.9.59 1.41.59.51 0 1.02-.2 1.41-.59l7.78-7.78 2.81-2.81c.8-.78.8-2.07 0-2.86zM5.41 20L4 18.59l7.72-7.72 1.47 1.35L5.41 20z\"/>\n",
              "  </svg>\n",
              "      </button>\n",
              "      \n",
              "  <style>\n",
              "    .colab-df-container {\n",
              "      display:flex;\n",
              "      flex-wrap:wrap;\n",
              "      gap: 12px;\n",
              "    }\n",
              "\n",
              "    .colab-df-convert {\n",
              "      background-color: #E8F0FE;\n",
              "      border: none;\n",
              "      border-radius: 50%;\n",
              "      cursor: pointer;\n",
              "      display: none;\n",
              "      fill: #1967D2;\n",
              "      height: 32px;\n",
              "      padding: 0 0 0 0;\n",
              "      width: 32px;\n",
              "    }\n",
              "\n",
              "    .colab-df-convert:hover {\n",
              "      background-color: #E2EBFA;\n",
              "      box-shadow: 0px 1px 2px rgba(60, 64, 67, 0.3), 0px 1px 3px 1px rgba(60, 64, 67, 0.15);\n",
              "      fill: #174EA6;\n",
              "    }\n",
              "\n",
              "    [theme=dark] .colab-df-convert {\n",
              "      background-color: #3B4455;\n",
              "      fill: #D2E3FC;\n",
              "    }\n",
              "\n",
              "    [theme=dark] .colab-df-convert:hover {\n",
              "      background-color: #434B5C;\n",
              "      box-shadow: 0px 1px 3px 1px rgba(0, 0, 0, 0.15);\n",
              "      filter: drop-shadow(0px 1px 2px rgba(0, 0, 0, 0.3));\n",
              "      fill: #FFFFFF;\n",
              "    }\n",
              "  </style>\n",
              "\n",
              "      <script>\n",
              "        const buttonEl =\n",
              "          document.querySelector('#df-fd7969ca-75d7-406f-9c74-4c593c5c158f button.colab-df-convert');\n",
              "        buttonEl.style.display =\n",
              "          google.colab.kernel.accessAllowed ? 'block' : 'none';\n",
              "\n",
              "        async function convertToInteractive(key) {\n",
              "          const element = document.querySelector('#df-fd7969ca-75d7-406f-9c74-4c593c5c158f');\n",
              "          const dataTable =\n",
              "            await google.colab.kernel.invokeFunction('convertToInteractive',\n",
              "                                                     [key], {});\n",
              "          if (!dataTable) return;\n",
              "\n",
              "          const docLinkHtml = 'Like what you see? Visit the ' +\n",
              "            '<a target=\"_blank\" href=https://colab.research.google.com/notebooks/data_table.ipynb>data table notebook</a>'\n",
              "            + ' to learn more about interactive tables.';\n",
              "          element.innerHTML = '';\n",
              "          dataTable['output_type'] = 'display_data';\n",
              "          await google.colab.output.renderOutput(dataTable, element);\n",
              "          const docLink = document.createElement('div');\n",
              "          docLink.innerHTML = docLinkHtml;\n",
              "          element.appendChild(docLink);\n",
              "        }\n",
              "      </script>\n",
              "    </div>\n",
              "  </div>\n",
              "  "
            ]
          },
          "metadata": {},
          "execution_count": 60
        }
      ]
    },
    {
      "cell_type": "code",
      "source": [
        "df.index.values[:5]"
      ],
      "metadata": {
        "colab": {
          "base_uri": "https://localhost:8080/"
        },
        "id": "Cfwr-j83ZO28",
        "outputId": "ef0e6ecc-8ecd-4e30-b5e8-f7566868566b"
      },
      "execution_count": 57,
      "outputs": [
        {
          "output_type": "execute_result",
          "data": {
            "text/plain": [
              "array(['2013-04-07T00:00:00.000000000', '2013-04-15T00:00:00.000000000',\n",
              "       '2013-04-23T00:00:00.000000000', '2013-05-01T00:00:00.000000000',\n",
              "       '2013-05-09T00:00:00.000000000'], dtype='datetime64[ns]')"
            ]
          },
          "metadata": {},
          "execution_count": 57
        }
      ]
    },
    {
      "cell_type": "code",
      "source": [
        "aaa=collection.geometry().bounds().getInfo()['coordinates']\n"
      ],
      "metadata": {
        "id": "LIyAQ9Q6xs4G"
      },
      "execution_count": null,
      "outputs": []
    },
    {
      "cell_type": "code",
      "source": [
        "collection.getInfo()"
      ],
      "metadata": {
        "id": "Mb0P1A201xTl"
      },
      "execution_count": null,
      "outputs": []
    },
    {
      "cell_type": "code",
      "source": [
        "# Global scale ########## will update latter\n",
        "# Define the global extent geometry as an ee.Geometry object\n",
        "AOI = ee.Geometry.Rectangle([-180, -90, 180, 90])\n",
        "collection = ee.ImageCollection('MODIS/006/MOD11A2').select('LST_Day_1km').filterDate('2013-04-07','2022-01-01')\n",
        "feature = ee.Feature(AOI)\n",
        "\n",
        "# Define a function to get the temperature value at a specific location for each image in the collection\n",
        "def get_temp(image):\n",
        "    temp = image.reduceRegion(\n",
        "        reducer=ee.Reducer.mean(),\n",
        "        geometry=feature.geometry(),\n",
        "        scale=5000\n",
        "    ).get('LST_Day_1km')\n",
        "    return ee.Feature(None, {'temperature': temp, 'date': image.date().format('YYYY-MM-dd')})\n",
        "\n",
        "# Map the function over the image collection to get a feature collection with temperature values and dates\n",
        "temp_fc = collection.map(get_temp)\n",
        "\n"
      ],
      "metadata": {
        "id": "jEb3UL7Endnv"
      },
      "execution_count": null,
      "outputs": []
    },
    {
      "cell_type": "code",
      "source": [
        "# Global scale next trial\n",
        "# Global scale ########## will update latter\n",
        "# Define the global extent geometry as an ee.Geometry object\n",
        "AOI = ee.Geometry.Rectangle([-180, -90, 180, 90])\n",
        "collection = ee.ImageCollection('MODIS/006/MOD11A2').select('LST_Day_1km').filterDate('2013-04-07','2022-01-01')\n",
        "feature = ee.Feature(AOI)\n",
        "AOI_temp = chart.Image.series(**{'imageCollection': collection,     # can chagne 'scaled_ndvi'\n",
        "                                   'region': feature.geometry(),\n",
        "                                   'reducer': ee.Reducer.mean(),\n",
        "                                   'scale': 10000,\n",
        "                                   'xProperty': 'system:time_start'\n",
        "                                  })\n",
        "AOI_temp.renderWidget(width='50%')\n",
        "\n",
        "AOI_temp.dataframe.to_csv('AOI_temp.csv')\n",
        "df=AOI_temp.dataframe\n",
        "print(df.head(5))\n"
      ],
      "metadata": {
        "colab": {
          "base_uri": "https://localhost:8080/",
          "height": 128
        },
        "id": "4ZrvPuy6Bqz7",
        "outputId": "80c9bfe5-7224-40e7-8224-a2b737c5114b"
      },
      "execution_count": null,
      "outputs": [
        {
          "output_type": "stream",
          "name": "stdout",
          "text": [
            "             LST_Day_1km\n",
            "2013-04-07  14403.093263\n",
            "2013-04-15  14427.437656\n",
            "2013-04-23  14500.372189\n",
            "2013-05-01  14561.779732\n",
            "2013-05-09  14612.692259\n"
          ]
        }
      ]
    },
    {
      "cell_type": "code",
      "source": [
        "# Define the region of interest\n",
        "#aoi = ee.Geometry.Rectangle([min_longitude, min_latitude, max_longitude, max_latitude])\n",
        "\n",
        "# Load MODIS NDVI data for the region and time period of interest\n",
        "collection = ee.ImageCollection('MODIS/006/MOD13Q1').filterDate('2019-01-01', '2019-12-31').filterBounds(Himalaya_AOI)\n",
        "\n",
        "# Calculate the mean NDVI for the region and time period\n",
        "ndvi_mean = collection.select('NDVI').mean().clip(Himalaya_AOI)\n",
        "\n",
        "# Print the result\n",
        "print('Mean NDVI:', ndvi_mean.getInfo())\n"
      ],
      "metadata": {
        "id": "fr8b-lUCiI_I"
      },
      "execution_count": null,
      "outputs": []
    },
    {
      "cell_type": "code",
      "source": [
        "# Reduce the NDVI data to a single value for the region\n",
        "ndvi_result = ndvi_mean.reduceRegion(reducer=ee.Reducer.mean(), geometry=Himalaya_AOI, scale=250)\n",
        "\n",
        "# Convert the result to a pandas DataFrame\n",
        "ndvi_df = pd.DataFrame(ndvi_result.getInfo(), index=['NDVI'])\n",
        "\n",
        "# Print the DataFrame\n",
        "print(ndvi_df)\n"
      ],
      "metadata": {
        "id": "CYfQB-iRiI7Y"
      },
      "execution_count": null,
      "outputs": []
    },
    {
      "cell_type": "markdown",
      "source": [
        "Export in Pandas dataframe"
      ],
      "metadata": {
        "id": "fLrFOe0FYrBd"
      }
    },
    {
      "cell_type": "code",
      "execution_count": null,
      "metadata": {
        "scrolled": true,
        "id": "Gn4dmvXz2SV3"
      },
      "outputs": [],
      "source": [
        "# the names of each Landsat 8 band\n",
        "# https://www.usgs.gov/media/images/landsat-8-band-designations\n",
        "# https://www.usgs.gov/landsat-missions/landsat-8-9-surface-reflectance-quality-assessment\n",
        "\n",
        "landsat_AOI.first().bandNames().getInfo()"
      ]
    }
  ],
  "metadata": {
    "kernelspec": {
      "display_name": "Python 3 (ipykernel)",
      "language": "python",
      "name": "python3"
    },
    "language_info": {
      "codemirror_mode": {
        "name": "ipython",
        "version": 3
      },
      "file_extension": ".py",
      "mimetype": "text/x-python",
      "name": "python",
      "nbconvert_exporter": "python",
      "pygments_lexer": "ipython3",
      "version": "3.9.12"
    },
    "colab": {
      "provenance": []
    },
    "gpuClass": "standard"
  },
  "nbformat": 4,
  "nbformat_minor": 0
}